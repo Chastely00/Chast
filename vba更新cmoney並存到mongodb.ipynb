{
 "cells": [
  {
   "cell_type": "code",
   "execution_count": 1,
   "metadata": {},
   "outputs": [],
   "source": [
    "# 匯入所有要用的Package\n",
    "import os\n",
    "import pymongo\n",
    "import xlwings as xw\n",
    "import pandas as pd\n",
    "import gc\n",
    "\n"
   ]
  },
  {
   "cell_type": "code",
   "execution_count": 2,
   "metadata": {},
   "outputs": [],
   "source": [
    "# 連接MongoClient、Excel表，以及抓取CMoney的更新函數\n",
    "client = pymongo.MongoClient('mongodb://localhost:27017/')\n",
    "db = client['Data']\n",
    "wb = xw.Book(r'C:\\Users\\ChastLai\\Documents\\Data\\CMoney一堆測試 備份20220912.xlsm')\n",
    "func_ = wb.macro(\"CM更新\")"
   ]
  },
  {
   "cell_type": "code",
   "execution_count": 4,
   "metadata": {},
   "outputs": [],
   "source": [
    "# 預設在所有表單更新，股票代號頁面除外\n",
    "sheets_name = [s.name for s in wb.sheets]\n",
    "for stk_number in sheets_name:\n",
    "    if stk_number == \"股票代號\":\n",
    "        continue\n",
    "    # 選定sheets\n",
    "    sheets = wb.sheets[stk_number]\n",
    "    # 執行CMoney更新\n",
    "    func_(stk_number)\n",
    "    # 將股票名稱也儲存起來\n",
    "    stk_name = wb.sheets[stk_number].range(\"A5\").value.split(' ')[1]\n",
    "    # 計算更新完的總row數量\n",
    "    row = sheets.range(\"B5\").current_region.last_cell.row\n",
    "    # 將還原開高低收改表頭名稱，與真實開高低收分開\n",
    "    sheets.range(\"AT5:AW5\").value = ['還原開盤價', '還原最高價', '還原最低價', '還原收盤價']\n",
    "    # 將sheet內容轉換為DataFrame\n",
    "    df = sheets.range(\"B5:BS\" + str(row)).options(pd.DataFrame, header=1).value\n",
    "    # 將需要的值都放進DataFrame，方便後續匯入DataFrame\n",
    "    df['股票代號'] = stk_number\n",
    "    df['股票名稱'] = stk_name\n",
    "    df['日期'] = df.index\n",
    "    # 有許多空值，基本上都用前值補齊\n",
    "    df = df.fillna(method='ffill')\n",
    "    # 如果要重置db內容，開啟此項\n",
    "    # df[stk_number].delete_many({})\n",
    "    if db[stk_number].count_documents({}) != len(df):\n",
    "        db[stk_number].insert_many(df.to_dict('records'))\n",
    "    del df\n",
    "    gc.collect()\n",
    "    sheets.delete()\n"
   ]
  },
  {
   "cell_type": "code",
   "execution_count": 3,
   "metadata": {},
   "outputs": [],
   "source": [
    "sheets = wb.sheets[0]\n",
    "row = sheets.range(\"A5\").current_region.last_cell.row\n",
    "stk_map = dict(zip(wb.sheets[0].range(\"A6:A\" + str(row)).value, wb.sheets[0].range(\"B6:B\" + str(row)).value))"
   ]
  },
  {
   "cell_type": "code",
   "execution_count": 32,
   "metadata": {},
   "outputs": [],
   "source": [
    "for i in db.list_collection_names():\n",
    "    # 修改錯誤的股票名稱\n",
    "    db[i].update_many(filter={'股票名稱': '台積電'}, update={\"$set\": {'股票名稱': stk_map[i]}}, upsert=False)"
   ]
  },
  {
   "cell_type": "code",
   "execution_count": 9,
   "metadata": {},
   "outputs": [],
   "source": [
    "import datetime\n",
    "import time\n",
    "# 預設在所有表單更新，股票代號頁面除外\n",
    "while True:\n",
    "    if datetime.datetime.now().hour == 8:\n",
    "        wb = xw.Book(r'C:\\Users\\ChastLai\\Documents\\Data\\CMoney一堆測試 備份20220912.xlsm')\n",
    "        sheets_name = [s.name for s in wb.sheets]\n",
    "\n",
    "        #執行CMoney更新\n",
    "        func_ = wb.macro(\"CM全部更新\")\n",
    "        func_()\n",
    "\n",
    "        for stk_number in sheets_name:\n",
    "            if stk_number == \"股票代號\":\n",
    "                continue\n",
    "            # 選定sheets\n",
    "            sheets = wb.sheets[stk_number]\n",
    "\n",
    "            # 將股票名稱也儲存起來\n",
    "            stk_name = wb.sheets[stk_number].range(\"A5\").value.split(' ')[1]\n",
    "            # 計算更新完的總row數量\n",
    "            row = sheets.range(\"B5\").current_region.last_cell.row\n",
    "            # 將還原開高低收改表頭名稱，與真實開高低收分開\n",
    "            sheets.range(\"AT5:AW5\").value = ['還原開盤價', '還原最高價', '還原最低價', '還原收盤價']\n",
    "            # 將sheet內容轉換為DataFrame\n",
    "            df = sheets.range(\"B5:BS\" + str(row)).options(pd.DataFrame, header=1).value\n",
    "            # 將需要的值都放進DataFrame，方便後續匯入DataFrame\n",
    "            df['股票代號'] = stk_number\n",
    "            df['股票名稱'] = stk_name\n",
    "            df['日期'] = df.index\n",
    "            # 有許多空值，基本上都用前值補齊\n",
    "            df = df.fillna(method='ffill')\n",
    "            # update資料\n",
    "            for i in df.to_dict('records'):\n",
    "                db[stk_number].update_one(filter={\"日期\": i[\"日期\"]}, update={\"$set\": i}, upsert=True)\n",
    "\n",
    "            del df\n",
    "            gc.collect()\n",
    "        wb.save()\n",
    "        wb.close()\n",
    "        break\n",
    "    else:\n",
    "        time.sleep(360)\n"
   ]
  },
  {
   "cell_type": "code",
   "execution_count": 4,
   "metadata": {},
   "outputs": [],
   "source": [
    "sheets_name = [s.name for s in wb.sheets]\n",
    "for stk_number in sheets_name:\n",
    "    if stk_number == \"股票代號\":\n",
    "        continue\n",
    "    # 選定sheets\n",
    "    sheets = wb.sheets[stk_number]\n",
    "    try:\n",
    "        sheets.range(\"A1\").value = sheets.range(\"A1\").value.replace(r'/10/', r'/2/')\n",
    "    except Exception as e:\n",
    "        print(e)\n",
    "        pass"
   ]
  },
  {
   "cell_type": "code",
   "execution_count": 7,
   "metadata": {},
   "outputs": [
    {
     "data": {
      "text/plain": [
       "17"
      ]
     },
     "execution_count": 7,
     "metadata": {},
     "output_type": "execute_result"
    }
   ],
   "source": [
    "import datetime\n",
    "datetime.datetime.now().hour"
   ]
  },
  {
   "cell_type": "markdown",
   "metadata": {},
   "source": [
    "# 單日更新報表"
   ]
  },
  {
   "cell_type": "code",
   "execution_count": 1,
   "metadata": {},
   "outputs": [
    {
     "ename": "IndexError",
     "evalue": "index 0 is out of bounds for axis 0 with size 0",
     "output_type": "error",
     "traceback": [
      "\u001b[1;31m---------------------------------------------------------------------------\u001b[0m",
      "\u001b[1;31mIndexError\u001b[0m                                Traceback (most recent call last)",
      "\u001b[1;32mc:\\Users\\ChastLai\\Documents\\Data\\vba更新cmoney並存到mongodb.ipynb Cell 10\u001b[0m in \u001b[0;36m<cell line: 10>\u001b[1;34m()\u001b[0m\n\u001b[0;32m     <a href='vscode-notebook-cell:/c%3A/Users/ChastLai/Documents/Data/vba%E6%9B%B4%E6%96%B0cmoney%E4%B8%A6%E5%AD%98%E5%88%B0mongodb.ipynb#X12sZmlsZQ%3D%3D?line=28'>29</a>\u001b[0m df \u001b[39m=\u001b[39m sheets\u001b[39m.\u001b[39mrange(\u001b[39m\"\u001b[39m\u001b[39mB5:W\u001b[39m\u001b[39m\"\u001b[39m \u001b[39m+\u001b[39m \u001b[39mstr\u001b[39m(row))\u001b[39m.\u001b[39moptions(pd\u001b[39m.\u001b[39mDataFrame, header\u001b[39m=\u001b[39m\u001b[39m1\u001b[39m, index\u001b[39m=\u001b[39m\u001b[39m0\u001b[39m)\u001b[39m.\u001b[39mvalue\n\u001b[0;32m     <a href='vscode-notebook-cell:/c%3A/Users/ChastLai/Documents/Data/vba%E6%9B%B4%E6%96%B0cmoney%E4%B8%A6%E5%AD%98%E5%88%B0mongodb.ipynb#X12sZmlsZQ%3D%3D?line=29'>30</a>\u001b[0m df\u001b[39m.\u001b[39mdropna(inplace\u001b[39m=\u001b[39m\u001b[39mTrue\u001b[39;00m)\n\u001b[1;32m---> <a href='vscode-notebook-cell:/c%3A/Users/ChastLai/Documents/Data/vba%E6%9B%B4%E6%96%B0cmoney%E4%B8%A6%E5%AD%98%E5%88%B0mongodb.ipynb#X12sZmlsZQ%3D%3D?line=30'>31</a>\u001b[0m db[\u001b[39m'\u001b[39m\u001b[39mTWA00\u001b[39m\u001b[39m'\u001b[39m]\u001b[39m.\u001b[39mupdate_many(\u001b[39mfilter\u001b[39m\u001b[39m=\u001b[39m{\u001b[39m'\u001b[39m\u001b[39m日期\u001b[39m\u001b[39m'\u001b[39m: df\u001b[39m.\u001b[39mloc[df\u001b[39m.\u001b[39;49mindex[\u001b[39m0\u001b[39;49m], \u001b[39m'\u001b[39m\u001b[39m日期\u001b[39m\u001b[39m'\u001b[39m]}, update\u001b[39m=\u001b[39m{\u001b[39m'\u001b[39m\u001b[39m$set\u001b[39m\u001b[39m'\u001b[39m: df\u001b[39m.\u001b[39mto_dict(\u001b[39m'\u001b[39m\u001b[39mrecords\u001b[39m\u001b[39m'\u001b[39m)[\u001b[39m0\u001b[39m]}, upsert\u001b[39m=\u001b[39m\u001b[39mTrue\u001b[39;00m)\n\u001b[0;32m     <a href='vscode-notebook-cell:/c%3A/Users/ChastLai/Documents/Data/vba%E6%9B%B4%E6%96%B0cmoney%E4%B8%A6%E5%AD%98%E5%88%B0mongodb.ipynb#X12sZmlsZQ%3D%3D?line=32'>33</a>\u001b[0m \u001b[39m# 換表單\u001b[39;00m\n\u001b[0;32m     <a href='vscode-notebook-cell:/c%3A/Users/ChastLai/Documents/Data/vba%E6%9B%B4%E6%96%B0cmoney%E4%B8%A6%E5%AD%98%E5%88%B0mongodb.ipynb#X12sZmlsZQ%3D%3D?line=33'>34</a>\u001b[0m db \u001b[39m=\u001b[39m client[\u001b[39m'\u001b[39m\u001b[39mData\u001b[39m\u001b[39m'\u001b[39m]\n",
      "File \u001b[1;32mc:\\Users\\ChastLai\\anaconda3\\lib\\site-packages\\pandas\\core\\indexes\\base.py:5039\u001b[0m, in \u001b[0;36mIndex.__getitem__\u001b[1;34m(self, key)\u001b[0m\n\u001b[0;32m   5036\u001b[0m \u001b[39mif\u001b[39;00m is_integer(key) \u001b[39mor\u001b[39;00m is_float(key):\n\u001b[0;32m   5037\u001b[0m     \u001b[39m# GH#44051 exclude bool, which would return a 2d ndarray\u001b[39;00m\n\u001b[0;32m   5038\u001b[0m     key \u001b[39m=\u001b[39m com\u001b[39m.\u001b[39mcast_scalar_indexer(key, warn_float\u001b[39m=\u001b[39m\u001b[39mTrue\u001b[39;00m)\n\u001b[1;32m-> 5039\u001b[0m     \u001b[39mreturn\u001b[39;00m getitem(key)\n\u001b[0;32m   5041\u001b[0m \u001b[39mif\u001b[39;00m \u001b[39misinstance\u001b[39m(key, \u001b[39mslice\u001b[39m):\n\u001b[0;32m   5042\u001b[0m     \u001b[39m# This case is separated from the conditional above to avoid\u001b[39;00m\n\u001b[0;32m   5043\u001b[0m     \u001b[39m# pessimization com.is_bool_indexer and ndim checks.\u001b[39;00m\n\u001b[0;32m   5044\u001b[0m     result \u001b[39m=\u001b[39m getitem(key)\n",
      "\u001b[1;31mIndexError\u001b[0m: index 0 is out of bounds for axis 0 with size 0"
     ]
    }
   ],
   "source": [
    "import datetime\n",
    "import time\n",
    "import os\n",
    "import pymongo\n",
    "import xlwings as xw\n",
    "import pandas as pd\n",
    "import gc\n",
    "# 連接MongoClient、Excel表，以及抓取CMoney的更新函數\n",
    "while True:\n",
    "    if datetime.datetime.now().hour == 8:\n",
    "\n",
    "        client = pymongo.MongoClient('mongodb://localhost:27017/')\n",
    "        db = client['Index']\n",
    "        wb = xw.Book(\"CMoney指數.xlsm\")\n",
    "        func_ = wb.macro(\"CM更新\")\n",
    "        func_('VIX')\n",
    "        func_('TWA00')\n",
    "\n",
    "        sheets = wb.sheets['VIX']\n",
    "        row = sheets.range(\"B5\").current_region.last_cell.row\n",
    "        # 將sheet內容轉換為DataFrame\n",
    "        df = sheets.range(\"B5:I\" + str(row)).options(pd.DataFrame, header=1, index=0).value\n",
    "        df.dropna(inplace=True)\n",
    "        db['VIX'].update_many(filter={'日期': df.loc[df.index[0], '日期']}, update={'$set': df.to_dict('records')[0]}, upsert=True)\n",
    "\n",
    "        sheets = wb.sheets['TWA00']\n",
    "        row = sheets.range(\"B5\").current_region.last_cell.row\n",
    "        # 將sheet內容轉換為DataFrame\n",
    "        df = sheets.range(\"B5:AJ\" + str(row)).options(pd.DataFrame, header=1, index=0).value\n",
    "        df.dropna(inplace=True)\n",
    "        db['TWA00'].update_one(filter={'日期': df.loc[df.index[0], '日期']}, update={'$set': df.to_dict('records')[0]}, upsert=True)\n",
    "\n",
    "        # 換表單\n",
    "        db = client['Data']\n",
    "        wb = xw.Book(\"CMoney單日更新.xlsm\")\n",
    "        sheets = wb.sheets['工作表2']\n",
    "        # 這邊注意是要更新哪天資料\n",
    "        sheets.range(\"C2:BT2\").value = '20220923' #datetime.datetime.today().strftime('%Y%m%d')\n",
    "        func_ = wb.macro(\"CM更新\")\n",
    "        func_('工作表2')\n",
    "        row = sheets.range(\"A5\").current_region.last_cell.row\n",
    "        # 將還原開高低收改表頭名稱，與真實開高低收分開\n",
    "        sheets.range(\"AU5:AX5\").value = ['還原開盤價', '還原最高價', '還原最低價', '還原收盤價']\n",
    "        # 將sheet內容轉換為DataFrame\n",
    "        df = sheets.range(\"A5:BT\" + str(row)).options(pd.DataFrame, header=1, index=0).value\n",
    "        df.columns = df.columns.str.replace('.\\d', '', regex=True)\n",
    "        for i in db.list_collection_names():\n",
    "            data = df[df['股票代號'] == i]\n",
    "            try:\n",
    "                db[i].update_one(filter={'日期': data.loc[data.index[0], '日期']}, update={'$set': data.to_dict('records')[0]}, upsert=True)\n",
    "            except Exception as e:\n",
    "                print(f'error in {i} because {e}')\n",
    "    break\n",
    "            #time.sleep(3500)\n"
   ]
  },
  {
   "cell_type": "markdown",
   "metadata": {},
   "source": [
    "# 特別新增指數"
   ]
  },
  {
   "cell_type": "code",
   "execution_count": 2,
   "metadata": {},
   "outputs": [
    {
     "data": {
      "text/plain": [
       "<pymongo.results.UpdateResult at 0x1ceb3eb6550>"
      ]
     },
     "execution_count": 2,
     "metadata": {},
     "output_type": "execute_result"
    }
   ],
   "source": [
    "import datetime\n",
    "import time\n",
    "import os\n",
    "import pymongo\n",
    "import xlwings as xw\n",
    "import pandas as pd\n",
    "import gc\n",
    "# 連接MongoClient、Excel表，以及抓取CMoney的更新函數\n",
    "\n",
    "client = pymongo.MongoClient('mongodb://localhost:27017/')\n",
    "db = client['Index']\n",
    "wb = xw.Book(\"CMoney指數.xlsm\")\n",
    "func_ = wb.macro(\"CM更新\")\n",
    "func_('VIX')\n",
    "func_('TWA00')\n",
    "sheets = wb.sheets['VIX']\n",
    "row = sheets.range(\"B5\").current_region.last_cell.row\n",
    "# 將sheet內容轉換為DataFrame\n",
    "df = sheets.range(\"B5:I\" + str(row)).options(pd.DataFrame, header=1, index=0).value\n",
    "df.dropna(inplace=True, how='all')\n",
    "#db['VIX'].insert_many(df.to_dict('records'))\n",
    "db['VIX'].update_one(filter={'日期': df.loc[df.index[0], '日期']}, update={'$set': df.to_dict('records')[0]}, upsert=True)\n",
    "\n",
    "sheets = wb.sheets['TWA00']\n",
    "row = sheets.range(\"B5\").current_region.last_cell.row\n",
    "sheets.range(\"C5:F5\").value = ['還原開盤價', '還原最高價', '還原最低價', '還原收盤價']\n",
    "# 將sheet內容轉換為DataFrame\n",
    "df = sheets.range(\"B5:AJ\" + str(row)).options(pd.DataFrame, header=1, index=0).value\n",
    "df.dropna(inplace=True, how='all')\n",
    "# db['TWA00'].insert_many(df.to_dict('records'))\n",
    "db['TWA00'].update_one(filter={'日期': df.loc[df.index[0], '日期']}, update={'$set': df.to_dict('records')[0]}, upsert=True)\n",
    "\n",
    "# # 換表單\n",
    "db = client['Data']\n",
    "wb = xw.Book(\"CMoney單日更新.xlsm\")\n",
    "sheets = wb.sheets['工作表2']\n",
    "# 這邊注意是要更新哪天資料\n",
    "sheets.range(\"C2:BT2\").value = '20220927' #datetime.datetime.today().strftime('%Y%m%d')\n",
    "func_ = wb.macro(\"CM更新\")\n",
    "func_('工作表2')\n",
    "row = sheets.range(\"A5\").current_region.last_cell.row\n",
    "# 將還原開高低收改表頭名稱，與真實開高低收分開\n",
    "sheets.range(\"AU5:AX5\").value = ['還原開盤價', '還原最高價', '還原最低價', '還原收盤價']\n",
    "# 將sheet內容轉換為DataFrame\n",
    "df = sheets.range(\"A5:BT\" + str(row)).options(pd.DataFrame, header=1, index=0).value\n",
    "df.columns = df.columns.str.replace('.\\d', '', regex=True)\n",
    "for i in db.list_collection_names():\n",
    "    data = df[df['股票代號'] == i]\n",
    "    try:\n",
    "        db[i].update_one(filter={'日期': data.loc[data.index[0], '日期']}, update={'$set': data.to_dict('records')[0]}, upsert=True)\n",
    "    except Exception as e:\n",
    "        print(f'error in {i} because {e}')"
   ]
  },
  {
   "cell_type": "code",
   "execution_count": null,
   "metadata": {},
   "outputs": [],
   "source": []
  }
 ],
 "metadata": {
  "kernelspec": {
   "display_name": "Python 3.9.12 ('base')",
   "language": "python",
   "name": "python3"
  },
  "language_info": {
   "codemirror_mode": {
    "name": "ipython",
    "version": 3
   },
   "file_extension": ".py",
   "mimetype": "text/x-python",
   "name": "python",
   "nbconvert_exporter": "python",
   "pygments_lexer": "ipython3",
   "version": "3.9.12"
  },
  "orig_nbformat": 4,
  "vscode": {
   "interpreter": {
    "hash": "733e3c2263f7036f7a50028cdb47f26c0bc8babbbcf0f10350df5ed5d46e1ebf"
   }
  }
 },
 "nbformat": 4,
 "nbformat_minor": 2
}
