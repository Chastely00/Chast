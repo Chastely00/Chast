{
 "cells": [
  {
   "cell_type": "markdown",
   "metadata": {},
   "source": [
    "# 股利政策交易"
   ]
  },
  {
   "cell_type": "code",
   "execution_count": 2,
   "metadata": {},
   "outputs": [],
   "source": [
    "import pandas as pd\n",
    "import pymongo"
   ]
  },
  {
   "cell_type": "code",
   "execution_count": 127,
   "metadata": {},
   "outputs": [],
   "source": [
    "path = r'C:\\Users\\ChastLai\\Documents\\Data\\股利政策.xlsx'\n",
    "div_cash_q = pd.read_excel(path, sheet_name='季現金股利', header=4)\n",
    "div_cash_y = pd.read_excel(path, sheet_name='年現金股利', header=4)\n",
    "div_share_q = pd.read_excel(path, sheet_name='季股票股利', header=4)\n",
    "div_share_y = pd.read_excel(path, sheet_name='年股票股利', header=4)\n",
    "date_cash_q = pd.read_excel(path, sheet_name='季除息', header=4)\n",
    "date_cash_y = pd.read_excel(path, sheet_name='年除息', header=4)\n",
    "date_share_q = pd.read_excel(path, sheet_name='季除權', header=4)\n",
    "date_share_y = pd.read_excel(path, sheet_name='年除權', header=4)"
   ]
  },
  {
   "cell_type": "code",
   "execution_count": 12,
   "metadata": {},
   "outputs": [],
   "source": [
    "client = pymongo.MongoClient()\n",
    "db = client['Data']\n",
    "price = pd.concat([pd.DataFrame(db[x].find({}, {'_id': 0, '日期': 1, '收盤價': 1})).set_index('日期') for x in db.list_collection_names()], axis=1)\n",
    "price.columns = db.list_collection_names()\n",
    "price = price.loc[price.index.dropna()]"
   ]
  },
  {
   "cell_type": "code",
   "execution_count": 47,
   "metadata": {},
   "outputs": [],
   "source": [
    "from datetime import datetime, timedelta\n",
    "單檔股票日期 = set(date_y[date_y['股票代號'] == 1101].T.dropna().values[2:].reshape(-1)) | set(date1_y[date1_y['股票代號'] == 1101].T.dropna().values[2:].reshape(-1))\n",
    "單檔股票股利 = div_y[div_y['股票代號'] == 1101].T.dropna()\n",
    "單檔股票區間 = [[x - timedelta(30), x + timedelta(30)] for x in 單檔股票日期]"
   ]
  },
  {
   "cell_type": "code",
   "execution_count": 224,
   "metadata": {},
   "outputs": [],
   "source": [
    "\n",
    "報酬 = dict()\n",
    "for k in price.columns:\n",
    "    \n",
    "    da_s = date_share_y[date_share_y['股票代號'] == int(k)].T.iloc[2:].reset_index(drop=True)\n",
    "    di_s = div_share_y[div_share_y['股票代號'] == int(k)].T.iloc[2:].reset_index(drop=True)\n",
    "    股票股利 = pd.concat([da_s, di_s], axis=1)\n",
    "    股票股利.columns = ['日期', '股票股利']\n",
    "    da_c = date_cash_y[date_cash_y['股票代號'] == int(k)].T.iloc[2:].reset_index(drop=True)\n",
    "    di_c = div_cash_y[div_cash_y['股票代號'] == int(k)].T.iloc[2:].reset_index(drop=True)\n",
    "    現金股利 = pd.concat([da_c, di_c], axis=1)\n",
    "    現金股利.columns = ['日期', '現金股利']\n",
    "\n",
    "    現金股利.dropna(inplace=True)\n",
    "    現金股利 = 現金股利.groupby('日期').sum()\n",
    "\n",
    "    股票股利.dropna(inplace=True)\n",
    "    股票股利 = 股票股利.groupby('日期').sum()\n",
    "\n",
    "    股利 = pd.concat([現金股利, 股票股利], axis=1).sort_index()\n",
    "    p = price.loc[:, k].dropna()\n",
    "    idx = list(set(p.index) & set(股利.index))\n",
    "    分母 = price.loc[idx, k].shift(1)\n",
    "    # 設定要用什麼當收入\n",
    "    買進收入 = (p.shift(-20) - p.shift(20)).loc[idx].sort_index()\n",
    "    買進收入 = (買進收入 + 股利.loc[idx].sum(axis=1).sort_index()) / 分母\n",
    "    報酬[k] = 買進收入"
   ]
  },
  {
   "cell_type": "code",
   "execution_count": 225,
   "metadata": {},
   "outputs": [
    {
     "data": {
      "text/plain": [
       "'\\n1612,\\n3211,\\n3592,\\n2357,\\n6005,\\n6015,\\n4961,\\n2376,\\n6457,\\n4930,\\n4735,\\n5508,\\n3515,\\n5209,\\n3014,\\n2545,\\n6462,\\n2458,\\n2527,\\n3048,\\n2855,\\n8213,\\n9927,\\n3028,\\n3033,\\n6655,\\n8112,\\n1308,\\n5471,\\n6161,\\n2028,\\n2031,\\n5215,\\n5609,\\n2029,\\n6121,\\n6147,\\n3312,\\n6560,\\n3679,\\n6186,\\n8924,\\n2537,\\n6202,\\n2002,\\n6151,\\n2069,\\n2636,\\n8111,\\n2014,\\n6020,\\n6177,\\n8481,\\n1312,\\n1608,\\n5236,\\n2020,\\n2108,\\n3537,\\n2916,\\n8150,\\n2597,\\n2065,\\n3227,\\n1452,\\n6506,\\n6229,\\n3512,\\n1303,\\n2204,\\n1604,\\n3078,\\n6405,\\n8081,\\n1806,\\n8358,\\n6189,\\n2454,\\n4933,\\n2353,\\n3006,\\n1305,\\n5016,\\n6195,\\n5546,\\n3026,\\n1304,\\n5519\\n]\\n'"
      ]
     },
     "execution_count": 225,
     "metadata": {},
     "output_type": "execute_result"
    }
   ],
   "source": [
    "stk_list = [\n",
    "6204,\n",
    "2609,\n",
    "2236,\n",
    "8016,\n",
    "3034,\n",
    "2603,\n",
    "6582,\n",
    "3545,\n",
    "6523,\n",
    "6150,\n",
    "6016,\n",
    "1612\n",
    "]\n",
    "\"\"\"\n",
    "3211,\n",
    "3592,\n",
    "2357,\n",
    "6005,\n",
    "6015,\n",
    "4961,\n",
    "2376,\n",
    "6457,\n",
    "4930,\n",
    "4735,\n",
    "5508,\n",
    "3515,\n",
    "5209,\n",
    "3014,\n",
    "2545,\n",
    "6462,\n",
    "2458,\n",
    "2527,\n",
    "3048,\n",
    "2855,\n",
    "8213,\n",
    "9927,\n",
    "3028,\n",
    "3033,\n",
    "6655,\n",
    "8112,\n",
    "1308,\n",
    "5471,\n",
    "6161,\n",
    "2028,\n",
    "2031,\n",
    "5215,\n",
    "5609,\n",
    "2029,\n",
    "6121,\n",
    "6147,\n",
    "3312,\n",
    "6560,\n",
    "3679,\n",
    "6186,\n",
    "8924,\n",
    "2537,\n",
    "6202,\n",
    "2002,\n",
    "6151,\n",
    "2069,\n",
    "2636,\n",
    "8111,\n",
    "2014,\n",
    "6020,\n",
    "6177,\n",
    "8481,\n",
    "1312,\n",
    "1608,\n",
    "5236,\n",
    "2020,\n",
    "2108,\n",
    "3537,\n",
    "2916,\n",
    "8150,\n",
    "2597,\n",
    "2065,\n",
    "3227,\n",
    "1452,\n",
    "6506,\n",
    "6229,\n",
    "3512,\n",
    "1303,\n",
    "2204,\n",
    "1604,\n",
    "3078,\n",
    "6405,\n",
    "8081,\n",
    "1806,\n",
    "8358,\n",
    "6189,\n",
    "2454,\n",
    "4933,\n",
    "2353,\n",
    "3006,\n",
    "1305,\n",
    "5016,\n",
    "6195,\n",
    "5546,\n",
    "3026,\n",
    "1304,\n",
    "5519\n",
    "]\n",
    "\"\"\""
   ]
  },
  {
   "cell_type": "code",
   "execution_count": 240,
   "metadata": {},
   "outputs": [
    {
     "data": {
      "image/png": "[encoded data removed]",
      "text/plain": [
       "<Figure size 1152x648 with 11 Axes>"
      ]
     },
     "metadata": {
      "needs_background": "light"
     },
     "output_type": "display_data"
    }
   ],
   "source": [
    "import matplotlib.pyplot as plt\n",
    "pd.options.plotting.backend = \"matplotlib\"\n",
    "plt.rcParams['font.family'] = ['Microsoft JhengHei'] # 中文標籤\n",
    "plt.rcParams['axes.unicode_minus'] = False # 負號\n",
    "pd.set_option('display.max_rows', None)\n",
    "pd.set_option('display.float_format', lambda x: '%.3f' % x)\n",
    "pd.options.display.float_format = '{:,.4f}'.format\n",
    "fig = plt.figure(figsize=(16, 9))\n",
    "color = 0.01\n",
    "f = 1\n",
    "for t in stk_list:\n",
    "    color += 0.05\n",
    "    fig.add_subplot(3, 4, f)\n",
    "    plt.plot(報酬[str(t)].cumsum())\n",
    "    f += 1\n",
    "plt.show()"
   ]
  },
  {
   "cell_type": "code",
   "execution_count": 234,
   "metadata": {},
   "outputs": [
    {
     "data": {
      "text/plain": [
       "'341'"
      ]
     },
     "execution_count": 234,
     "metadata": {},
     "output_type": "execute_result"
    }
   ],
   "source": [
    "'34' + '1'"
   ]
  },
  {
   "cell_type": "code",
   "execution_count": 211,
   "metadata": {},
   "outputs": [
    {
     "data": {
      "text/plain": [
       "6204"
      ]
     },
     "execution_count": 211,
     "metadata": {},
     "output_type": "execute_result"
    }
   ],
   "source": []
  },
  {
   "cell_type": "code",
   "execution_count": 115,
   "metadata": {},
   "outputs": [],
   "source": [
    "殖利率 = dict()\n",
    "股利 = dict()\n",
    "日期 = dict()\n",
    "k = '1101'\n",
    "p = price.loc[:, k].dropna()\n",
    "日期[k] = set(date_y[date_y['股票代號'] == int(k)].T.dropna().values[2:].reshape(-1)) | set(date1_y[date1_y['股票代號'] == int(k)].T.dropna().values[2:].reshape(-1))\n",
    "日期[k] = set(p.index) & set(日期[k])\n",
    "股利[k] = div_y[div_y['股票代號'] == int(k)].T.dropna().iloc[2:]\n",
    "p = p.shift(1).loc[list(日期[k])]"
   ]
  },
  {
   "cell_type": "code",
   "execution_count": 122,
   "metadata": {},
   "outputs": [],
   "source": [
    "股利[k]\n",
    "日期[k] = set(date_y[date_y['股票代號'] == int(k)].T.dropna().values[2:].reshape(-1)) | set(date1_y[date1_y['股票代號'] == int(k)].T.dropna().values[2:].reshape(-1))"
   ]
  },
  {
   "cell_type": "code",
   "execution_count": 137,
   "metadata": {},
   "outputs": [],
   "source": [
    "股票股利 = pd.concat([date_share_y[date_share_y['股票代號'] == int(k)].T, div_share_y[div_share_y['股票代號'] == int(k)].T], axis=1, ignore_index=True)\n",
    "現金股利 = pd.concat([date_cash_y[date_cash_y['股票代號'] == int(k)].T, div_cash_y[div_cash_y['股票代號'] == int(k)].T], axis=1, ignore_index=True)"
   ]
  },
  {
   "cell_type": "code",
   "execution_count": 154,
   "metadata": {},
   "outputs": [],
   "source": [
    "da_s = date_share_y[date_share_y['股票代號'] == int(k)].T.iloc[2:].reset_index(drop=True)\n",
    "di_s = div_share_y[div_share_y['股票代號'] == int(k)].T.iloc[2:].reset_index(drop=True)\n",
    "股票股利 = pd.concat([da_s, di_s], axis=1)\n",
    "da_c = date_cash_y[date_cash_y['股票代號'] == int(k)].T.iloc[2:].reset_index(drop=True)\n",
    "di_c = div_cash_y[div_cash_y['股票代號'] == int(k)].T.iloc[2:].reset_index(drop=True)\n",
    "現金股利 = pd.concat([da_c, di_c], axis=1)"
   ]
  },
  {
   "cell_type": "code",
   "execution_count": 155,
   "metadata": {},
   "outputs": [
    {
     "data": {
      "text/html": [
       "<div>\n",
       "<style scoped>\n",
       "    .dataframe tbody tr th:only-of-type {\n",
       "        vertical-align: middle;\n",
       "    }\n",
       "\n",
       "    .dataframe tbody tr th {\n",
       "        vertical-align: top;\n",
       "    }\n",
       "\n",
       "    .dataframe thead th {\n",
       "        text-align: right;\n",
       "    }\n",
       "</style>\n",
       "<table border=\"1\" class=\"dataframe\">\n",
       "  <thead>\n",
       "    <tr style=\"text-align: right;\">\n",
       "      <th></th>\n",
       "      <th>股票股利</th>\n",
       "    </tr>\n",
       "    <tr>\n",
       "      <th>日期</th>\n",
       "      <th></th>\n",
       "    </tr>\n",
       "  </thead>\n",
       "  <tbody>\n",
       "    <tr>\n",
       "      <th>1990-08-13</th>\n",
       "      <td>2.0</td>\n",
       "    </tr>\n",
       "    <tr>\n",
       "      <th>1991-10-16</th>\n",
       "      <td>1.4</td>\n",
       "    </tr>\n",
       "    <tr>\n",
       "      <th>1992-07-13</th>\n",
       "      <td>1.5</td>\n",
       "    </tr>\n",
       "    <tr>\n",
       "      <th>1993-06-24</th>\n",
       "      <td>1.0</td>\n",
       "    </tr>\n",
       "    <tr>\n",
       "      <th>1994-07-22</th>\n",
       "      <td>1.3</td>\n",
       "    </tr>\n",
       "    <tr>\n",
       "      <th>1995-07-19</th>\n",
       "      <td>1.2</td>\n",
       "    </tr>\n",
       "    <tr>\n",
       "      <th>1996-06-22</th>\n",
       "      <td>1.0</td>\n",
       "    </tr>\n",
       "    <tr>\n",
       "      <th>1997-07-22</th>\n",
       "      <td>1.0</td>\n",
       "    </tr>\n",
       "    <tr>\n",
       "      <th>1998-06-09</th>\n",
       "      <td>1.0</td>\n",
       "    </tr>\n",
       "    <tr>\n",
       "      <th>1999-07-08</th>\n",
       "      <td>1.0</td>\n",
       "    </tr>\n",
       "    <tr>\n",
       "      <th>2000-07-21</th>\n",
       "      <td>0.8</td>\n",
       "    </tr>\n",
       "    <tr>\n",
       "      <th>2001-07-10</th>\n",
       "      <td>0.3</td>\n",
       "    </tr>\n",
       "    <tr>\n",
       "      <th>2002-07-23</th>\n",
       "      <td>0.2</td>\n",
       "    </tr>\n",
       "    <tr>\n",
       "      <th>2003-08-13</th>\n",
       "      <td>0.2</td>\n",
       "    </tr>\n",
       "    <tr>\n",
       "      <th>2004-08-26</th>\n",
       "      <td>0.35</td>\n",
       "    </tr>\n",
       "    <tr>\n",
       "      <th>2005-09-19</th>\n",
       "      <td>0.5</td>\n",
       "    </tr>\n",
       "    <tr>\n",
       "      <th>2006-08-25</th>\n",
       "      <td>0.156216</td>\n",
       "    </tr>\n",
       "    <tr>\n",
       "      <th>2007-07-30</th>\n",
       "      <td>0.1</td>\n",
       "    </tr>\n",
       "    <tr>\n",
       "      <th>2008-07-25</th>\n",
       "      <td>0.1</td>\n",
       "    </tr>\n",
       "    <tr>\n",
       "      <th>2018-07-26</th>\n",
       "      <td>1.0</td>\n",
       "    </tr>\n",
       "    <tr>\n",
       "      <th>2019-08-13</th>\n",
       "      <td>0.701088</td>\n",
       "    </tr>\n",
       "    <tr>\n",
       "      <th>2020-08-12</th>\n",
       "      <td>0.500163</td>\n",
       "    </tr>\n",
       "    <tr>\n",
       "      <th>2022-07-21</th>\n",
       "      <td>0.999283</td>\n",
       "    </tr>\n",
       "  </tbody>\n",
       "</table>\n",
       "</div>"
      ],
      "text/plain": [
       "                股票股利\n",
       "日期                  \n",
       "1990-08-13       2.0\n",
       "1991-10-16       1.4\n",
       "1992-07-13       1.5\n",
       "1993-06-24       1.0\n",
       "1994-07-22       1.3\n",
       "1995-07-19       1.2\n",
       "1996-06-22       1.0\n",
       "1997-07-22       1.0\n",
       "1998-06-09       1.0\n",
       "1999-07-08       1.0\n",
       "2000-07-21       0.8\n",
       "2001-07-10       0.3\n",
       "2002-07-23       0.2\n",
       "2003-08-13       0.2\n",
       "2004-08-26      0.35\n",
       "2005-09-19       0.5\n",
       "2006-08-25  0.156216\n",
       "2007-07-30       0.1\n",
       "2008-07-25       0.1\n",
       "2018-07-26       1.0\n",
       "2019-08-13  0.701088\n",
       "2020-08-12  0.500163\n",
       "2022-07-21  0.999283"
      ]
     },
     "execution_count": 155,
     "metadata": {},
     "output_type": "execute_result"
    }
   ],
   "source": [
    "現金股利.dropna(inplace=True)\n",
    "現金股利.columns = ['日期', '現金股利']\n",
    "現金股利.set_index('日期', inplace=True)\n",
    "股票股利.dropna(inplace=True)\n",
    "股票股利.columns = ['日期', '股票股利']\n",
    "股票股利.set_index('日期', inplace=True)\n",
    "股利 = pd.concat([現金股利, 股票股利], axis=1).sort_index()"
   ]
  },
  {
   "cell_type": "code",
   "execution_count": 189,
   "metadata": {},
   "outputs": [],
   "source": [
    "股利 = pd.concat([現金股利, 股票股利], axis=1).sort_index()\n",
    "p = price.loc[:, k].dropna()\n",
    "idx = list(set(p.index) & set(股利.index))\n",
    "\n",
    "買進收入 = (p.shift(-1) - p.shift(1)).loc[idx].sort_index()\n",
    "買進收入 += 股利.loc[idx].sum(axis=1).sort_index()"
   ]
  },
  {
   "cell_type": "code",
   "execution_count": 190,
   "metadata": {},
   "outputs": [
    {
     "data": {
      "text/plain": [
       "日期\n",
       "2006-08-25   -0.237841\n",
       "2007-07-30    1.800000\n",
       "2008-07-25   -1.000000\n",
       "2009-08-17   -1.480000\n",
       "2010-07-14    0.450000\n",
       "2011-07-26   -1.650000\n",
       "2012-07-26    1.350000\n",
       "2013-07-25    0.150000\n",
       "2014-07-17   -0.100000\n",
       "2015-07-23    0.190000\n",
       "2016-07-25    0.230000\n",
       "2017-07-25   -0.050000\n",
       "2018-07-26   -2.300000\n",
       "2019-08-13   -1.643780\n",
       "2020-08-12   -2.299021\n",
       "2021-08-12    0.668119\n",
       "2022-07-21   -1.901435\n",
       "Name: 1101, dtype: float64"
      ]
     },
     "execution_count": 190,
     "metadata": {},
     "output_type": "execute_result"
    }
   ],
   "source": [
    "買進收入"
   ]
  },
  {
   "cell_type": "code",
   "execution_count": 188,
   "metadata": {},
   "outputs": [
    {
     "data": {
      "text/plain": [
       "日期\n",
       "2006-08-25    1.562159\n",
       "2007-07-30    1.800000\n",
       "2008-07-25    2.000000\n",
       "2009-08-17    1.320000\n",
       "2010-07-14    1.800000\n",
       "2011-07-26    2.000000\n",
       "2012-07-26    1.900000\n",
       "2013-07-25    1.900000\n",
       "2014-07-17    2.300000\n",
       "2015-07-23    2.490000\n",
       "2016-07-25    1.330000\n",
       "2017-07-25    1.450000\n",
       "2018-07-26    2.500000\n",
       "2019-08-13    4.006220\n",
       "2020-08-12    3.000979\n",
       "2021-08-12    3.368119\n",
       "2022-07-21    1.998565\n",
       "dtype: float64"
      ]
     },
     "execution_count": 188,
     "metadata": {},
     "output_type": "execute_result"
    }
   ],
   "source": [
    "股利.loc[idx].sum(axis=1).sort_index()"
   ]
  },
  {
   "cell_type": "code",
   "execution_count": null,
   "metadata": {},
   "outputs": [],
   "source": []
  }
 ],
 "metadata": {
  "kernelspec": {
   "display_name": "Python 3.9.12 ('base')",
   "language": "python",
   "name": "python3"
  },
  "language_info": {
   "codemirror_mode": {
    "name": "ipython",
    "version": 3
   },
   "file_extension": ".py",
   "mimetype": "text/x-python",
   "name": "python",
   "nbconvert_exporter": "python",
   "pygments_lexer": "ipython3",
   "version": "3.9.12"
  },
  "orig_nbformat": 4,
  "vscode": {
   "interpreter": {
    "hash": "733e3c2263f7036f7a50028cdb47f26c0bc8babbbcf0f10350df5ed5d46e1ebf"
   }
  }
 },
 "nbformat": 4,
 "nbformat_minor": 2
}
