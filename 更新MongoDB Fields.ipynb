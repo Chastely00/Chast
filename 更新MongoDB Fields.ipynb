{
 "cells": [
  {
   "cell_type": "markdown",
   "metadata": {},
   "source": [
    "# 更新Fields DB\n",
    "* 所有資料匯入DB之前要改成 \n",
    "* index: datetime \n",
    "* columns: 股票代號、商品名稱 str\n",
    "* 日期要擁有一個columns"
   ]
  },
  {
   "cell_type": "code",
   "execution_count": 67,
   "metadata": {},
   "outputs": [],
   "source": [
    "import pymongo\n",
    "import pandas as pd\n",
    "import time\n",
    "import datetime\n",
    "import xlwings as xw\n",
    "import gc\n",
    "# 連接MongoClient、Excel表，以及抓取CMoney的更新函數\n"
   ]
  },
  {
   "cell_type": "code",
   "execution_count": 68,
   "metadata": {},
   "outputs": [],
   "source": [
    "client = pymongo.MongoClient()\n",
    "db = client['Fields']"
   ]
  },
  {
   "cell_type": "code",
   "execution_count": 78,
   "metadata": {},
   "outputs": [],
   "source": [
    "# 季資料日期轉換\n",
    "def change_Q(se: pd.Series):\n",
    "    new = list()\n",
    "    for s in se:\n",
    "        if 'Q1' in s:\n",
    "            s = s[:4] + '0515'\n",
    "        elif 'Q2' in s:\n",
    "            s = s[:4] + '0814'\n",
    "        elif 'Q3' in s:\n",
    "            s = s[:4] + '1114'\n",
    "        elif 'Q4' in s:\n",
    "            s = str(int(s[:4]) + 1) + '0331'\n",
    "        new.append(s)\n",
    "    return new\n",
    "\n",
    "# 更新DB\n",
    "def update_mongo(df: pd.DataFrame, dbname: str) -> None:\n",
    "    for i, row in df.iterrows():\n",
    "        db[dbname].update_one(filter={'日期': row['日期']}, update={'$set': row.to_dict()}, upsert=True)\n",
    "\n",
    "\n",
    "wb1 = xw.Book(r\"C:\\Users\\ChastLai\\Documents\\Data\\每日更新DB\\價值股資料.xlsm\")\n",
    "wb2 = xw.Book(r\"C:\\Users\\ChastLai\\Documents\\Data\\CMoney單日更新.xlsm\")\n",
    "func_all = wb1.macro(\"CM全部更新\")\n",
    "func_all()\n",
    "func_ = wb2.macro(\"CM更新\")\n",
    "func_('一日')\n",
    "\n",
    "\n",
    "wb1.save()\n",
    "wb2.save()\n",
    "EPS_Q = pd.read_excel(r'C:\\Users\\ChastLai\\Documents\\Data\\每日更新DB\\價值股資料.xlsm', sheet_name='EPS_Q', header=4)\n",
    "股票名稱轉換 = dict(zip(EPS_Q['股票代號'].astype(str), EPS_Q['股票名稱']))\n",
    "EPS_Q = EPS_Q.drop('股票名稱', axis=1).set_index('股票代號')\n",
    "EPS_Q.columns = [s.split('每')[0] for s in EPS_Q.columns]\n",
    "EPS_Q.columns = change_Q(EPS_Q.columns)\n",
    "EPS_Q.columns = pd.to_datetime(EPS_Q.columns)\n",
    "EPS_Q = EPS_Q.T.dropna(how='all', axis=0)\n",
    "預估EPS_Q = pd.read_excel(r'C:\\Users\\ChastLai\\Documents\\Data\\每日更新DB\\價值股資料.xlsm', sheet_name='預估EPS_Q', header=4)\n",
    "預估EPS_Q = 預估EPS_Q.drop('股票名稱', axis=1).set_index('股票代號')\n",
    "預估EPS_Q.columns = [s.split('稅')[0] for s in 預估EPS_Q.columns]\n",
    "預估EPS_Q.columns = change_Q(預估EPS_Q.columns)\n",
    "預估EPS_Q.columns = pd.to_datetime(預估EPS_Q.columns)\n",
    "預估EPS_Q = 預估EPS_Q.T.dropna(how='all', axis=0)\n",
    "# 這個為年單位\n",
    "營業收入淨額_Y = pd.read_excel(r'C:\\Users\\ChastLai\\Documents\\Data\\每日更新DB\\價值股資料.xlsm', sheet_name='營業收入淨額_Y', header=4)\n",
    "營業收入淨額_Y = 營業收入淨額_Y.drop('股票名稱', axis=1).set_index('股票代號')\n",
    "# 年資料日期轉換\n",
    "營業收入淨額_Y.columns = [str(int(s.split('營')[0]) + 1) + '0331' for s in 營業收入淨額_Y.columns]\n",
    "營業收入淨額_Y.columns = pd.to_datetime(營業收入淨額_Y.columns)\n",
    "營業收入淨額_Y = 營業收入淨額_Y.T.dropna(how='all', axis=0)\n",
    "殖利率 = pd.read_excel(r'C:\\Users\\ChastLai\\Documents\\Data\\每日更新DB\\價值股資料.xlsm', sheet_name='殖利率', header=4)\n",
    "殖利率 = 殖利率.drop('股票名稱', axis=1).set_index('股票代號')\n",
    "殖利率.columns = [s.split('殖')[0] for s in 殖利率.columns]\n",
    "殖利率.columns = pd.to_datetime(殖利率.columns)\n",
    "殖利率 = 殖利率.T.dropna(how='all', axis=0)\n",
    "# 把股票代號改成字串\n",
    "EPS_Q.columns = EPS_Q.columns.astype(str)\n",
    "預估EPS_Q.columns = 預估EPS_Q.columns.astype(str)\n",
    "殖利率.columns = 殖利率.columns.astype(str)\n",
    "營業收入淨額_Y.columns = 營業收入淨額_Y.columns.astype(str)\n",
    "# 將日期也拉出來\n",
    "EPS_Q['日期'] = EPS_Q.index\n",
    "預估EPS_Q['日期'] = 預估EPS_Q.index\n",
    "殖利率['日期'] = 殖利率.index\n",
    "營業收入淨額_Y['日期'] = 營業收入淨額_Y.index\n"
   ]
  },
  {
   "cell_type": "code",
   "execution_count": null,
   "metadata": {},
   "outputs": [],
   "source": [
    "股票 = pd.read_excel(r'C:\\Users\\ChastLai\\Documents\\Data\\Cmoney單日更新.xlsm', sheet_name='一日', header=4)\n",
    "股票.columns = [x[8:] if len(x) >=8 else x for x in 股票.columns]\n",
    "股票.rename({\n",
    "    '開盤價': '還原開盤價', '最高價': '還原最高價', '最低價': '還原最低價', '收盤價': '還原收盤價',\\\n",
    "    '開盤價.1': '開盤價', '最高價.1': '最高價','最低價.1': '最低價', '收盤價.1': '收盤價' \n",
    "    }, axis=1, inplace=True)\n"
   ]
  },
  {
   "cell_type": "code",
   "execution_count": null,
   "metadata": {},
   "outputs": [],
   "source": [
    "股票['股票代號'] = 股票['股票代號'].astype(str)\n",
    "日期 = 股票['日期'].iloc[0]\n",
    "for name in 股票.columns[3:]:\n",
    "    單資料 = dict(zip(股票['股票代號'], 股票[name]))\n",
    "    單資料['日期'] = 日期\n",
    "    db[name].update_one({'日期': 日期}, update={'$set': 單資料}, upsert=True)\n"
   ]
  },
  {
   "cell_type": "code",
   "execution_count": null,
   "metadata": {},
   "outputs": [],
   "source": [
    "# db['stock_name_mapping'].insert_many([股票名稱轉換]) # 如果要更新股票名稱再考慮這個\n",
    "\n",
    "update_mongo(EPS_Q, 'EPS_Q')\n",
    "update_mongo(預估EPS_Q, '預估EPS_Q')\n",
    "update_mongo(營業收入淨額_Y, '營業收入淨額_Y')\n",
    "update_mongo(殖利率, '殖利率')\n"
   ]
  },
  {
   "cell_type": "markdown",
   "metadata": {},
   "source": [
    "# 舊DB轉換\n",
    "db_old = client['Data']\n",
    "field_list = db_old['2330'].find_one({}, {'_id': 0}).keys()\n",
    "\n",
    "for field in field_list:\n",
    "    df = pd.concat([pd.DataFrame(db_old[x].find({}, {'_id': 0, '日期': 1, field: 1})).set_index('日期') for x in db_old.list_collection_names()], axis=1).dropna(how='all')\n",
    "    df.columns = db_old.list_collection_names()\n",
    "    df = df.sort_index()\n",
    "    df['日期'] = df.index\n",
    "    db[field].insert_many(df.to_dict('records'))\n"
   ]
  }
 ],
 "metadata": {
  "kernelspec": {
   "display_name": "Python 3.9.12 ('base')",
   "language": "python",
   "name": "python3"
  },
  "language_info": {
   "codemirror_mode": {
    "name": "ipython",
    "version": 3
   },
   "file_extension": ".py",
   "mimetype": "text/x-python",
   "name": "python",
   "nbconvert_exporter": "python",
   "pygments_lexer": "ipython3",
   "version": "3.9.12"
  },
  "orig_nbformat": 4,
  "vscode": {
   "interpreter": {
    "hash": "733e3c2263f7036f7a50028cdb47f26c0bc8babbbcf0f10350df5ed5d46e1ebf"
   }
  }
 },
 "nbformat": 4,
 "nbformat_minor": 2
}
