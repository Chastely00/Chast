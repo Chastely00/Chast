{
 "cells": [
  {
   "cell_type": "code",
   "execution_count": 1,
   "metadata": {},
   "outputs": [],
   "source": [
    "import pymongo\n",
    "import pandas as pd\n",
    "import time\n",
    "import datetime\n",
    "import xlwings as xw\n",
    "import gc\n",
    "# 連接MongoClient、Excel表，以及抓取CMoney的更新函數\n",
    "client = pymongo.MongoClient()\n",
    "db = client['Fields']"
   ]
  },
  {
   "cell_type": "code",
   "execution_count": 2,
   "metadata": {},
   "outputs": [
    {
     "name": "stdout",
     "output_type": "stream",
     "text": [
      "processing..  負債總計_Q\n",
      "processing..  資產總計_Q\n",
      "processing..  營業收入淨額_Q\n",
      "processing..  EPS_Q\n",
      "processing..  預估EPS_Q\n",
      "processing..  現金股利殖利率_Q\n",
      "processing..  現金流量比率_Q\n",
      "processing..  槓桿比率_Q\n",
      "processing..  EBITDA_Q\n",
      "processing..  存貨週轉天數_Q\n",
      "processing..  存貨_Q\n",
      "processing..  現金及約當現金_Q\n",
      "processing..  折舊費用_Q\n",
      "processing..  不動產廠房設備_Q\n"
     ]
    }
   ],
   "source": [
    "# 季資料日期轉換\n",
    "def change_Q(se: pd.Series):\n",
    "    new = list()\n",
    "    for s in se:\n",
    "        if 'Q1' in s:\n",
    "            s = s[:4] + '0515'\n",
    "        elif 'Q2' in s:\n",
    "            s = s[:4] + '0814'\n",
    "        elif 'Q3' in s:\n",
    "            s = s[:4] + '1114'\n",
    "        elif 'Q4' in s:\n",
    "            s = str(int(s[:4]) + 1) + '0331'\n",
    "        new.append(s)\n",
    "    return new\n",
    "\n",
    "# 更新DB\n",
    "def update_mongo(df: pd.DataFrame, dbname: str) -> None:\n",
    "    for i, row in df.iterrows():\n",
    "        db[dbname].update_one(filter={'日期': row['日期']}, update={'$set': row.to_dict()}, upsert=True)\n",
    "\n",
    "path = r'C:\\Users\\ChastLai\\Documents\\Data\\每日更新DB\\季資料.xlsm'\n",
    "wb1 = xw.Book(path)\n",
    "func_all = wb1.macro(\"CM全部更新\")\n",
    "func_all()\n",
    "wb1.save()\n",
    "wb1.close()\n",
    "\n",
    "exl = pd.read_excel(path, sheet_name=None, header=4)\n",
    "for k, v in exl.items():\n",
    "    print('Q processing.. ', k)\n",
    "    Q = v.drop('股票名稱', axis=1).set_index('股票代號')\n",
    "    Q.columns = change_Q(Q.columns)\n",
    "    Q.columns = pd.to_datetime(Q.columns)\n",
    "    Q = Q.T.dropna(how='all', axis=0)\n",
    "    Q.columns = Q.columns.astype(str)\n",
    "    Q['日期'] = Q.index\n",
    "    update_mongo(Q, k)\n",
    "\n",
    "\n",
    "path = r'C:\\Users\\ChastLai\\Documents\\Data\\每日更新DB\\年資料.xlsm'\n",
    "wb1 = xw.Book(path)\n",
    "func_all = wb1.macro(\"CM全部更新\")\n",
    "func_all()\n",
    "wb1.save()\n",
    "wb1.close()\n",
    "\n",
    "exl = pd.read_excel(path, sheet_name=None, header=4)\n",
    "for k, v in exl.items():\n",
    "    print('Y processing.. ', k)\n",
    "    Y = v.drop('股票名稱', axis=1).set_index('股票代號')\n",
    "    Y.columns = [str(int(s[:4]) + 1) + '0331' for s in Y.columns]\n",
    "    Y.columns = pd.to_datetime(Y.columns)\n",
    "    Y = Y.T.dropna(how='all', axis=0)\n",
    "    Y.columns = Y.columns.astype(str)\n",
    "    Y['日期'] = Y.index\n",
    "    update_mongo(Y, k)\n",
    "\n",
    "path = r'C:\\Users\\ChastLai\\Documents\\Data\\每日更新DB\\日資料.xlsm'\n",
    "wb1 = xw.Book(path)\n",
    "func_all = wb1.macro(\"CM全部更新\")\n",
    "func_all()\n",
    "wb1.save()\n",
    "wb1.close()\n",
    "exl = pd.read_excel(path, sheet_name=None, header=4)\n",
    "for k, v in exl.items():\n",
    "    print('D processing.. ', k)\n",
    "    D = v.drop('股票名稱', axis=1).set_index('股票代號')\n",
    "    D.columns = [s[:8] for s in D.columns]\n",
    "    D.columns = pd.to_datetime(D.columns)\n",
    "    D = D.T.dropna(how='all', axis=0)\n",
    "    D.columns = D.columns.astype(str)\n",
    "    D['日期'] = D.index\n",
    "    update_mongo(D, k)\n"
   ]
  }
 ],
 "metadata": {
  "kernelspec": {
   "display_name": "Python 3.9.12 ('base')",
   "language": "python",
   "name": "python3"
  },
  "language_info": {
   "codemirror_mode": {
    "name": "ipython",
    "version": 3
   },
   "file_extension": ".py",
   "mimetype": "text/x-python",
   "name": "python",
   "nbconvert_exporter": "python",
   "pygments_lexer": "ipython3",
   "version": "3.9.12"
  },
  "orig_nbformat": 4,
  "vscode": {
   "interpreter": {
    "hash": "733e3c2263f7036f7a50028cdb47f26c0bc8babbbcf0f10350df5ed5d46e1ebf"
   }
  }
 },
 "nbformat": 4,
 "nbformat_minor": 2
}
