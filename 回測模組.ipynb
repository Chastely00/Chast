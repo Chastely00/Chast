{
 "cells": [
  {
   "cell_type": "code",
   "execution_count": 13,
   "metadata": {},
   "outputs": [],
   "source": [
    "import pymongo\n",
    "import pandas as pd\n",
    "import datetime\n",
    "import numpy as np\n",
    "import matplotlib.pyplot as plt\n",
    "import matplotlib.dates as mdates\n",
    "from tqdm import tqdm\n",
    "import talib\n",
    "import gc\n",
    "from typing import Union\n"
   ]
  },
  {
   "cell_type": "code",
   "execution_count": 44,
   "metadata": {},
   "outputs": [],
   "source": [
    "class Chast:\n",
    "\n",
    "    def __init__(self, client, db_name='Fields'):\n",
    "        self.client = client\n",
    "        self.db = client[db_name]\n",
    "        self._config()\n",
    "        self.data = dict()\n",
    "        self.results = dict()\n",
    "        self.initial_capital = 100000000\n",
    "        \n",
    "    def _config(self):\n",
    "        # 設定繪圖、TQDM讀取條、小數點位數、顯示視窗長度\n",
    "        pd.options.plotting.backend = \"matplotlib\"\n",
    "        tqdm.pandas(desc=\"progress-bar\")\n",
    "        plt.rcParams['font.family'] = ['Microsoft JhengHei'] # 中文標籤\n",
    "        plt.rcParams['axes.unicode_minus'] = False # 負號\n",
    "        pd.set_option('display.max_rows', 200)\n",
    "        pd.set_option('display.float_format', lambda x: '%.3f' % x)\n",
    "        pd.options.display.float_format = '{:,.4f}'.format\n",
    "\n",
    "    def _result(self):\n",
    "        pf = self.results['PROFIT']\n",
    "        com = self.results['COMMISION']\n",
    "        self.results['RESULT'] = (pf - com).sum(axis=1).cumsum()\n",
    "\n",
    "    def _maxdrawdown(self):\n",
    "        se = self.results['RESULT']\n",
    "        mdd = 0\n",
    "        mdd_ = list()\n",
    "        h = 0\n",
    "        for i in se:\n",
    "            if i > h:\n",
    "                h = i\n",
    "            mdd = i - h\n",
    "            mdd_.append(mdd)\n",
    "        self.results['MDD'] = pd.Series(mdd_, index=se.index, name='MDD')\n",
    "\n",
    "    def _sharpe_ratio(self, roll: int = 120):\n",
    "        \"\"\"\n",
    "        計算Sharpe ratio\n",
    "        預設roll 120天=半年\n",
    "        roll\n",
    "        \"\"\"\n",
    "        pf = self.results['RESULT']\n",
    "        self.results['SHARPE RATIO'] = (pf-pf.shift(1)).rolling(roll).apply(lambda x: x.mean() / x.std() if x.std() != 0 else 0, raw=True)\n",
    "    \n",
    "    def _holding(self):\n",
    "\n",
    "        bs = self.results['BS']\n",
    "        if '收盤價' in self.data.keys():\n",
    "            holding = bs.fillna(0) * self.data['收盤價'].loc[bs.index, bs.columns] * 1000\n",
    "        else:\n",
    "            self.get_from_mongo('收盤價')\n",
    "            holding = bs.fillna(0) * self.data['收盤價'].loc[bs.index, bs.columns] * 1000\n",
    "        self.results['HOLDING'] = holding\n",
    "\n",
    "    def _capital(self):\n",
    "        self.results['CAPITAL NET'] = self.results['CAPITAL'][:-1]\n",
    "\n",
    "\n",
    "    def get_chart(self):\n",
    "        keys = self.results\n",
    "\n",
    "        self._result()\n",
    "        self._maxdrawdown()\n",
    "        self._holding()\n",
    "        self._sharpe_ratio(120)\n",
    "        self._capital()\n",
    "\n",
    "        fig ,ax = plt.subplots(8, 1, figsize=(16, 16), gridspec_kw={'height_ratios': [2, 1, 1, 1, 1, 1, 2, 1]})\n",
    "        \n",
    "        if 'RESULT' in keys:\n",
    "            ax[0].plot(self.results['RESULT'][:-1])\n",
    "            ax[0].set_title(f'累計損益')\n",
    "            ax[0].grid(True)\n",
    "            ax[0].yaxis.set_major_formatter('{x:,.0f}')\n",
    "            ax[0].xaxis.set_minor_locator(mdates.YearLocator())\n",
    "        if 'MDD' in keys:\n",
    "            ax[1].plot(self.results['MDD'][:-1], color='orange')\n",
    "            ax[1].grid(True)\n",
    "            ax[1].set_title('MaxDrawdown')\n",
    "            ax[1].yaxis.set_major_formatter('{x:,.0f}')\n",
    "        if 'BS' in keys:\n",
    "            ax[2].plot(self.results['BS'].fillna(0).astype(bool).sum(axis=1)[:-1], color='green')\n",
    "            ax[2].set_title('累計股數')\n",
    "        if 'HOLDING' in keys:\n",
    "            ax[3].plot(self.results['HOLDING'].sum(axis=1)[:-1], color='lightgreen')\n",
    "            ax[3].set_title('累計市值')\n",
    "            ax[3].yaxis.set_major_formatter('{x:,.0f}')\n",
    "        if 'SHARPE RATIO' in keys:\n",
    "            ax[4].plot(self.results['SHARPE RATIO'][:-1], color='lightblue')\n",
    "            ax[4].grid(True)\n",
    "            ax[4].set_title('Rolling Sharpe Ratio')\n",
    "            ax[4].yaxis.set_major_formatter('{x:.3f}')\n",
    "        if 'CAPITAL' in keys:\n",
    "            ax[5].plot(self.results['CAPITAL NET'][:-1], color='darkgreen')\n",
    "            ax[5].grid(True)\n",
    "            ax[5].set_title('Capital')\n",
    "            ax[5].yaxis.set_major_formatter('{x:,.0f}')\n",
    "        if 'HEDGE' in keys:\n",
    "            ax[6].plot(self.results['RESULT'] + self.results['HEDGE'].cumsum())\n",
    "            ax[6].grid(True)\n",
    "            ax[6].set_title('避險後損益')\n",
    "            ax[6].yaxis.set_major_formatter('{x:,.0f}')\n",
    "            ax[7].plot(self.results['HEDGE'].cumsum())\n",
    "            ax[7].grid(True)\n",
    "            ax[7].set_title('避險單獨損益')\n",
    "            ax[7].yaxis.set_major_formatter('{x:,.0f}')\n",
    "\n",
    "        fig.tight_layout()\n",
    "        plt.show()        \n",
    "\n",
    "    def get_from_mongo(self, elements,\n",
    "     start: Union[datetime.datetime, None]=None, \n",
    "     end: Union[datetime.datetime, None]=None):\n",
    "        \"\"\"\n",
    "        elements: Element, 表示要在Mongo中抓哪些資料, 可用list包起來好幾項\n",
    "        start: 開始時間\n",
    "        end: 結束時間\n",
    "        \"\"\"\n",
    "        \n",
    "        if type(elements) != list:\n",
    "            self.data[elements] = pd.DataFrame(self.db[elements].find({\"日期\": {'$gt': start, '$lt': end}}, {'_id': 0})).set_index('日期')\n",
    "        else:\n",
    "            for e in elements:\n",
    "                self.data[e] = pd.DataFrame(self.db[e].find({\"日期\": {'$gt': start, '$lt': end}}, {'_id': 0})).set_index('日期')\n",
    "\n",
    "    def set_data(self, name: str, df: pd.DataFrame):\n",
    "        \"\"\"\n",
    "        name: 指定data名稱\n",
    "        data: 放入data\n",
    "        \"\"\"\n",
    "        self.data[name] = df\n",
    "    \n",
    "    def set_result(self, pf: pd.DataFrame, bs: pd.DataFrame, com: pd.DataFrame, ep: pd.DataFrame, ed: pd.DataFrame, ca: pd.Series, hedge: pd.Series):\n",
    "        \"\"\"\n",
    "        pf: 損益明細\n",
    "        bs: 部位明細\n",
    "        com: 費用明細\n",
    "        ep: 進場價格明細\n",
    "        ed: 進場時間明細\n",
    "        ca: 剩餘資金變化\n",
    "        hedge: 避險損益\n",
    "        \"\"\"\n",
    "        self.results['PROFIT'] = pf\n",
    "        self.results['BS'] = bs\n",
    "        self.results['COMMISION'] = com\n",
    "        self.results['ENTRY PRICE'] = ep\n",
    "        self.results['ENTRY DATE'] = ed\n",
    "        self.results['CAPITAL'] = ca\n",
    "        self.results['HEDGE'] = hedge\n",
    "\n",
    "    def creat_to_daily(self, df: pd.DataFrame):\n",
    "        n = pd.DataFrame(columns=self.data['還原收盤價'].columns, index=self.data['還原收盤價'].index.union(df.index))\n",
    "        for i in df.index:\n",
    "            for c in df.columns:\n",
    "                n.at[i, str(c)] = df.at[i, c]\n",
    "        return n.fillna(method='ffill')"
   ]
  },
  {
   "cell_type": "code",
   "execution_count": 45,
   "metadata": {},
   "outputs": [],
   "source": [
    "from IPython.display import display\n",
    "client = pymongo.MongoClient()\n",
    "chast = Chast(client, 'Fields')\n",
    "index = Chast(client, 'Index')"
   ]
  },
  {
   "cell_type": "markdown",
   "metadata": {},
   "source": [
    "### <font color=osheet.range> 策略步驟 </font>\n",
    "* 1. 下載需要的資料\n",
    "* 2. 設定要用到的資料，時間點要對齊收盤\n",
    "* 3."
   ]
  },
  {
   "cell_type": "markdown",
   "metadata": {},
   "source": [
    "##### 1. 下載需要的資料"
   ]
  },
  {
   "cell_type": "code",
   "execution_count": 46,
   "metadata": {},
   "outputs": [],
   "source": [
    "getting_list = [\n",
    "    '還原最高價', '還原最低價', '還原收盤價', '收盤價', '成交金額(千)', '資餘', '融資維持率(%)'\n",
    "]\n",
    "start = datetime.datetime(2006, 1, 1)\n",
    "end = datetime.datetime(2022, 10, 7)\n",
    "chast.get_from_mongo(getting_list, start, end)\n",
    "\n",
    "index_list = [\n",
    "    'TWA00', 'VIX'\n",
    "]\n",
    "index.get_from_mongo(index_list, start, end)"
   ]
  },
  {
   "cell_type": "markdown",
   "metadata": {},
   "source": [
    "##### 2. 設定要用到的資料"
   ]
  },
  {
   "cell_type": "code",
   "execution_count": 47,
   "metadata": {},
   "outputs": [],
   "source": [
    "# Trend判斷\n",
    "def key(series, rate=.1):\n",
    "    # init \n",
    "    '''\n",
    "    dt_lpre: DownTrend Low prepare\n",
    "    dt_tpre: DownTrend Top prepare\n",
    "    dt_low: DownTrend Low Final\n",
    "    dt_top: DownTrend Top Final\n",
    "    ut_lpre: UpTrend Low prepare\n",
    "    ut_tpre: UpTrend Top prepare\n",
    "    ut_low: UpTrend Low Final\n",
    "    ut_top: UpTrend Top Final\n",
    "\n",
    "    return:\n",
    "        pd.Series(series_return)\n",
    "    '''\n",
    "    dt_lpre = 99999\n",
    "    dt_tpre = 0\n",
    "    dt_low = 0\n",
    "    dt_top = 0\n",
    "    ut_lpre = 99999\n",
    "    ut_tpre = 0\n",
    "    ut_top = 0\n",
    "    ut_low = 0\n",
    "    trend = 'none'\n",
    "    dt_top_ok = False\n",
    "    ut_low_ok = False\n",
    "    series_return = list()\n",
    "    for v in series:\n",
    "        # 非上升趨勢時執行\n",
    "        if trend != 'up':\n",
    "            # 價格往下時更新 lpre\n",
    "            if v < dt_lpre:\n",
    "                dt_lpre = v\n",
    "            # 當價格從低點往上 1 + rate，確定之前的低點為低點，且若高點有超過曾出現過的高點，則高點重置\n",
    "            if v > dt_lpre * (1 + rate):\n",
    "                dt_low = dt_lpre\n",
    "                if v > dt_tpre:\n",
    "                    dt_tpre = v\n",
    "            # 如果價格從高點回落 1 + rate，確定之前的高點為高點，趨勢轉向準備完成\n",
    "            if v < dt_tpre * (1 - rate):\n",
    "                dt_top = dt_tpre\n",
    "                dt_top_ok = True\n",
    "            # 當趨勢轉向準備完成，且價格往上突破則先重置前波高點，若突破到 1 + rate*.5，確認轉為up趨勢，並重置一些相關數值\n",
    "            if dt_top_ok:\n",
    "                if v > dt_top:\n",
    "                    dt_tpre = v\n",
    "                    if v > dt_top * (1 + rate*.5):\n",
    "                        trend = 'up'\n",
    "                        up_tpre = v\n",
    "                        up_low = v * 0.5\n",
    "                        dt_top_ok = False\n",
    "        # 上升趨勢時執行\n",
    "        elif trend == 'up':\n",
    "            # 價格繼續往上更新 tpre\n",
    "            if v > ut_tpre:\n",
    "                ut_tpre = v\n",
    "            # 當價格從高點回落 1 - rate，確定之前高為高點，如果價格比曾經低點低，則更新lpre\n",
    "            if v < ut_tpre * (1 - rate):\n",
    "                ut_top = ut_tpre\n",
    "                if v < ut_lpre:\n",
    "                    ut_lpre = v\n",
    "            # 如果價格從低點往上 1 + rate，確定之前低點為低點，反轉為下降趨勢準備完成\n",
    "            if v > ut_lpre * (1 + rate):\n",
    "                ut_low = ut_lpre\n",
    "                ut_low_ok = True\n",
    "            # 如果反轉為下降趨勢準備完成，則當價格往下跌破時更新lpre，當價格跌破前低 1 - rate*.5時則轉為下降趨勢，並重置數值\n",
    "            if ut_low_ok:\n",
    "                if v < ut_low:\n",
    "                    ut_lpre = v\n",
    "                    if v < ut_low * (1 - rate*.5):\n",
    "                        trend = 'down'\n",
    "                        dt_lpre = v\n",
    "                        dt_top = v * 2\n",
    "                        ut_low_ok = False\n",
    "            # 如果價格從高點回落20%，直接轉為無趨勢\n",
    "            if v < ut_tpre * (1 - rate*2):\n",
    "                trend = 'none'\n",
    "        series_return.append(trend)\n",
    "    return pd.Series(series_return, index=series.index, name=series.name)"
   ]
  },
  {
   "cell_type": "code",
   "execution_count": 48,
   "metadata": {},
   "outputs": [],
   "source": [
    "# std level preprocess 如果要改買賣乘數就改labels\n",
    "# labels = [5, 3.5, 2, 1, 0.5]\n",
    "labels = [10, 7, 4, 2, 1]\n",
    "std_level = chast.data['還原收盤價'].pct_change().rolling(20).std().div(chast.data['還原收盤價'].pct_change().std(axis=1), axis=0).replace([np.inf, -np.inf], 1)\n",
    "for i, v in std_level.iterrows():\n",
    "    # 去除極端值\n",
    "    v99 = v.quantile(.95)\n",
    "    v01 = v.quantile(.05)\n",
    "    mask_99 = v[v > v99].index\n",
    "    mask_01 = v[v < v01].index\n",
    "    std_level.loc[i, mask_99] = v99\n",
    "    std_level.loc[i, mask_01] = v01\n",
    "# 把股票按照波動排名，後續用作買的倍率[5, 4, 3, 2, 1]\n",
    "std_level = std_level.apply(lambda x: pd.cut(x, bins=5, labels=labels, duplicates='drop') if x.sum() != 0 else [0] * len(x), axis=0)\n",
    "chast.set_data('std_level', std_level)\n"
   ]
  },
  {
   "cell_type": "code",
   "execution_count": 49,
   "metadata": {},
   "outputs": [],
   "source": [
    "chast.set_data('收盤價', chast.data['收盤價'].fillna(method='ffill'))\n",
    "chast.set_data('還原收盤價', chast.data['還原收盤價'].fillna(method='ffill'))\n",
    "chast.set_data('還原最高價', chast.data['還原最高價'].fillna(method='ffill'))\n",
    "chast.set_data('還原最低價', chast.data['還原最低價'].fillna(method='ffill'))\n",
    "# Trend\n",
    "chast.set_data('trend', chast.data['還原收盤價'].apply(func=key, axis=0))\n",
    "chast.set_data('mean_cross_down', chast.data['還原收盤價'].rolling(20).mean() < chast.data['還原收盤價'].rolling(20).mean().shift(1)) # 月線下彎，作為出場判定之一\n",
    "# 將需要的值製作放到df中\n",
    "chast.set_data('arg_vol', chast.data['成交金額(千)'].rolling(5).sum()) # 五日成交金額，作為流動性判斷\n",
    "# chast.set_data('std level', chast.data['還原收盤價'].pct_change().rolling(20).std())\n",
    "chast.set_data('l1', chast.data['還原收盤價'] < chast.data['還原最低價'].rolling(20).min().shift(1))\n",
    "chast.set_data('h1', chast.data['還原收盤價'] > chast.data['還原最高價'].rolling(20).max().shift(1))\n",
    "chast.set_data('bias', ((chast.data['還原收盤價'] - chast.data['還原收盤價'].rolling(20).mean()) / chast.data['還原收盤價'].rolling(20).std()).replace([np.inf, -np.inf], 0))\n",
    "# 用近期SHARPE RATIO選股\n",
    "chast.set_data('Sharpe Ratio', (chast.data['還原收盤價'].pct_change().rolling(20).mean() / \\\n",
    "    chast.data['還原收盤價'].pct_change().rolling(20).std()).replace([np.inf, -np.inf], 0))\n",
    "chast.set_data('20std', chast.data['還原收盤價'].rolling(20).std().fillna(0))\n",
    "\n",
    "# 避險用資料\n",
    "index.set_data('VIX20H', index.data['VIX']['收盤價'].rolling(20).max().shift(1))\n",
    "index.set_data('VIX20L', index.data['VIX']['收盤價'].rolling(20).min().shift(1))"
   ]
  },
  {
   "cell_type": "code",
   "execution_count": 50,
   "metadata": {},
   "outputs": [
    {
     "name": "stdout",
     "output_type": "stream",
     "text": [
      "總RAM用量為 879.02 MB\n"
     ]
    }
   ],
   "source": [
    "# 總記憶體用量\n",
    "memory = [i.memory_usage().sum() / (1024**2) for i in chast.data.values()]\n",
    "print('總RAM用量為 {:.2f} MB'.format(sum(memory)))"
   ]
  },
  {
   "cell_type": "code",
   "execution_count": 51,
   "metadata": {},
   "outputs": [
    {
     "name": "stdout",
     "output_type": "stream",
     "text": [
      "資料 還原最高價 Shape: (4132, 2211)\n",
      "資料 還原最低價 Shape: (4132, 2211)\n",
      "資料 還原收盤價 Shape: (4132, 2211)\n",
      "資料 收盤價 Shape: (4132, 2211)\n",
      "資料 成交金額(千) Shape: (4132, 2211)\n",
      "資料 資餘 Shape: (4132, 2211)\n",
      "資料 融資維持率(%) Shape: (4132, 2211)\n",
      "資料 std_level Shape: (4132, 2211)\n",
      "資料 trend Shape: (4132, 2211)\n",
      "資料 mean_cross_down Shape: (4132, 2211)\n",
      "資料 arg_vol Shape: (4132, 2211)\n",
      "資料 l1 Shape: (4132, 2211)\n",
      "資料 h1 Shape: (4132, 2211)\n",
      "資料 bias Shape: (4132, 2211)\n",
      "資料 Sharpe Ratio Shape: (4132, 2211)\n",
      "資料 20std Shape: (4132, 2211)\n"
     ]
    }
   ],
   "source": [
    "# 檢查資料貼合程度\n",
    "for k, v in chast.data.items():\n",
    "    print(f'資料 {k} Shape: {v.shape}')"
   ]
  },
  {
   "cell_type": "markdown",
   "metadata": {},
   "source": [
    "# <font color=yellow> 回測開始 </font>"
   ]
  },
  {
   "cell_type": "code",
   "execution_count": 52,
   "metadata": {},
   "outputs": [
    {
     "name": "stdout",
     "output_type": "stream",
     "text": [
      "dict_keys(['還原最高價', '還原最低價', '還原收盤價', '收盤價', '成交金額(千)', '資餘', '融資維持率(%)', 'std_level', 'trend', 'mean_cross_down', 'arg_vol', 'l1', 'h1', 'bias', 'Sharpe Ratio', '20std'])\n"
     ]
    }
   ],
   "source": [
    "# 先跑一個我現在有什麼資料，方便後續操作\n",
    "print(chast.data.keys())"
   ]
  },
  {
   "cell_type": "code",
   "execution_count": 64,
   "metadata": {},
   "outputs": [
    {
     "name": "stdout",
     "output_type": "stream",
     "text": [
      "10到1  系列開始 ----------------------------------------------------------------\n",
      "每單位 375000 上限 50000000\n"
     ]
    },
    {
     "name": "stderr",
     "output_type": "stream",
     "text": [
      "C:\\Users\\ChastLai\\AppData\\Local\\Temp\\ipykernel_17496\\2151358122.py:17: FutureWarning: The default dtype for empty Series will be 'object' instead of 'float64' in a future version. Specify a dtype explicitly to silence this warning.\n",
      "  hbs, hbs_ = 0, pd.Series(index=h_idx).fillna(0)\n",
      "C:\\Users\\ChastLai\\AppData\\Local\\Temp\\ipykernel_17496\\2151358122.py:18: FutureWarning: The default dtype for empty Series will be 'object' instead of 'float64' in a future version. Specify a dtype explicitly to silence this warning.\n",
      "  hcom, hcom_ = 0, pd.Series(index=h_idx).fillna(0)\n",
      "C:\\Users\\ChastLai\\AppData\\Local\\Temp\\ipykernel_17496\\2151358122.py:19: FutureWarning: The default dtype for empty Series will be 'object' instead of 'float64' in a future version. Specify a dtype explicitly to silence this warning.\n",
      "  hpf, hpf_ = 0, pd.Series(index=h_idx).fillna(0)\n"
     ]
    },
    {
     "name": "stdout",
     "output_type": "stream",
     "text": [
      "2007-02-12 00:00:00 -30.0\n",
      "2007-06-15 00:00:00 -30.0\n",
      "2007-10-22 00:00:00 -20.0\n",
      "2008-01-22 00:00:00 -5.0\n",
      "2008-06-09 00:00:00 -10.0\n",
      "2008-09-08 00:00:00 -3.0\n",
      "2009-04-17 00:00:00 -15.0\n",
      "2009-08-10 00:00:00 -34.0\n",
      "2009-10-13 00:00:00 -32.0\n",
      "2010-01-26 00:00:00 -10.0\n",
      "2010-04-13 00:00:00 -29.0\n"
     ]
    }
   ],
   "source": [
    "# 用還原收盤價當基準\n",
    "def backtesting(per_capital: int = 250000, total_capital: int = 100000000):\n",
    "    h_idx = index.data['TWA00'].index.intersection(index.data['VIX'].index)\n",
    "    f_idx, f_col = chast.data['還原收盤價'].index, chast.data['還原收盤價'].columns\n",
    "    # 製作空表格，用於計算時存值，最後set回去五個底線dataframe\n",
    "    def make_df(idx, col):\n",
    "        return pd.DataFrame(index=idx, columns=col)\n",
    "\n",
    "    bs = make_df(f_idx, f_col).fillna(0)\n",
    "    com_ = make_df(f_idx, f_col).fillna(0)\n",
    "    pf_ = make_df(f_idx, f_col).fillna(0)\n",
    "    ep_ = make_df(f_idx, f_col).fillna(99999)\n",
    "    ed_ = make_df(f_idx, f_col).fillna(f_idx[0])\n",
    "    bs_ = make_df(f_idx, f_col).fillna(0)\n",
    "    eh_ = make_df(f_idx, f_col).fillna(0)\n",
    "\n",
    "    hbs, hbs_ = 0, pd.Series(index=h_idx).fillna(0)\n",
    "    hcom, hcom_ = 0, pd.Series(index=h_idx).fillna(0)\n",
    "    hpf, hpf_ = 0, pd.Series(index=h_idx).fillna(0)\n",
    "    # 存前一根K的時間\n",
    "    idx1 = f_idx[0]\n",
    "    # 還原收盤價與收盤價的轉換\n",
    "    transform = chast.data['收盤價'] / chast.data['還原收盤價']\n",
    "    # 資金設定 1 億\n",
    "    # per_capital = 250000\n",
    "    # total_capital = 100000000\n",
    "    capital = pd.Series([total_capital] * len(f_idx), index=f_idx)\n",
    "\n",
    "    ## ----------------------------------------------------------------------------------------------------------------------------------------##\n",
    "    for idx, row in chast.data['還原收盤價'].iterrows():\n",
    "        # 用at取代loc，聽說更快\n",
    "        for col in row.index:\n",
    "            bs_.at[idx, col] = bs.at[idx1, col]\n",
    "            bs.at[idx, col] = bs.at[idx1, col]\n",
    "            ep_.at[idx, col] = ep_.at[idx1, col]\n",
    "            eh_.at[idx, col] = eh_.at[idx1, col]\n",
    "            ed_.at[idx, col] = ed_.at[idx1, col]\n",
    "\n",
    "        capital[idx] = capital[idx1]\n",
    "        \n",
    "        # 進場條件1\n",
    "        entry_mask1 = (bs.loc[idx, :] == 0) &\\\n",
    "            (chast.data['arg_vol'].loc[idx, :] > 50000) & \\\n",
    "            (chast.data['mean_cross_down'].loc[idx, :] == False) & \\\n",
    "            chast.data['bias'].loc[idx, :].between(0.5, 2) &\\\n",
    "            (chast.data['trend'].loc[idx, :] == 'up') & \\\n",
    "            (chast.data['trend'].loc[idx1, :] != 'up') & \\\n",
    "            (chast.data['20std'].loc[idx, :] >= 0.0001)\n",
    "            \n",
    "        # 進場條件2\n",
    "        entry_mask2 = (bs.loc[idx, : ] == 0) &\\\n",
    "            (chast.data['arg_vol'].loc[idx, :] > 50000) & \\\n",
    "            (chast.data['mean_cross_down'].loc[idx, :] == False) & \\\n",
    "            chast.data['bias'].loc[idx, :].between(0.5, 2) &\\\n",
    "            (chast.data['trend'].loc[idx, :] == 'up') & \\\n",
    "            (chast.data['trend'].loc[idx1, :] == 'up') & \\\n",
    "            (chast.data['h1'].loc[idx, :]) & \\\n",
    "            (chast.data['20std'].loc[idx, :] >= 0.0001)\n",
    "        \n",
    "        # 出場條件\n",
    "        exit_mask = (bs_.loc[idx, :] >= 1) & \\\n",
    "            ((((chast.data['mean_cross_down'].loc[idx, :] & \\\n",
    "            chast.data['l1'].loc[idx, :])) | \\\n",
    "           ((chast.data['還原收盤價'].loc[idx, :] < eh_.loc[idx, :] * 0.9))| \\\n",
    "            (chast.data['trend'].loc[idx, :] != 'up'))| \\\n",
    "            (chast.data['20std'].loc[idx, :] <= 0.0001))\n",
    "        # | \\ \n",
    "        #    ((chast.data['還原收盤價'].loc[idx, :] > ep_.loc[idx, :] * 1.5) | \\\n",
    "        #    (chast.data['還原收盤價'].loc[idx, :] < eh_.loc[idx, :] * 0.9))\n",
    "        # 當有商品滿足進場條件時執行  \n",
    "        if entry_mask1.sum() > 0:\n",
    "            # 用Sharpe Ratio排序股票，作為買進順序\n",
    "            for col in chast.data['Sharpe Ratio'].loc[idx, row[entry_mask1].index].rank(ascending=False).sort_values().index:\n",
    "                # 買進的股數\n",
    "                contract = np.floor(per_capital / chast.data['收盤價'].at[idx, col] / 1000) * chast.data['std_level'].at[idx, col]\n",
    "                # 買進花多少錢\n",
    "                money = contract * 1000 * chast.data['收盤價'].at[idx, col]\n",
    "                # 目前持倉多少錢\n",
    "                holding = ((chast.data['收盤價'].loc[idx, :] * bs.loc[idx, :]) * 1000).sum()\n",
    "                # 若資金足夠、持倉市值沒太大才買進\n",
    "                if (capital.at[idx] > money) & (holding < total_capital) & (contract >= 1):\n",
    "                    bs.at[idx, col] = contract\n",
    "                    capital.at[idx] -= money\n",
    "                else:\n",
    "                    pass\n",
    "                \n",
    "        if entry_mask2.sum() > 0:\n",
    "            for col in chast.data['Sharpe Ratio'].loc[idx, row[entry_mask2].index].rank(ascending=False).sort_values().index:\n",
    "                contract = np.floor(per_capital / chast.data['收盤價'].at[idx, col] / 1000) * chast.data['std_level'].at[idx, col]\n",
    "                money = contract * 1000 * chast.data['收盤價'].at[idx, col]\n",
    "                holding = ((chast.data['收盤價'].loc[idx, :] * bs.loc[idx, :]) * 1000).sum()\n",
    "                if (capital.at[idx] > money) & (holding < total_capital) & (contract >= 1):\n",
    "                    bs.at[idx, col] = contract\n",
    "                    capital.at[idx] -= money\n",
    "                    pass\n",
    "\n",
    "        # 當有商品滿足出場條件時執行\n",
    "        if exit_mask.sum() > 0:\n",
    "            for col in row[exit_mask].index:\n",
    "                money = bs.at[idx, col] * 1000 * chast.data['收盤價'].at[idx, col]\n",
    "                capital.at[idx] += money\n",
    "                bs.at[idx, col] = 0\n",
    "                \n",
    "        for col in row.index:\n",
    "            # 進場\n",
    "            if (bs_.at[idx, col] >= 1) & (bs_.at[idx1, col] == 0):\n",
    "                com_.at[idx, col] = np.round((0.001425 + 0.003) * bs_.at[idx, col] * 1000 * chast.data['收盤價'].at[idx, col], 2)\n",
    "                ep_.at[idx, col] = chast.data['還原收盤價'].at[idx, col]\n",
    "                eh_.at[idx, col] = chast.data['還原收盤價'].at[idx, col]\n",
    "                ed_.at[idx, col] = idx\n",
    "            # 出場   \n",
    "            if (bs_.at[idx, col] == 0) & (bs_.at[idx1, col] >= 1):\n",
    "                com_.at[idx, col] = np.round((0.001425 + 0.003 +0.003) * bs_.at[idx1, col] * 1000 * chast.data['收盤價'].at[idx, col], 2)\n",
    "                # money = np.round(bs_.at[idx1, col] * 1000 * chast.data['收盤價'].at[idx, col], 2)\n",
    "                # capital.at[idx] += money\n",
    "                # print(f'出場 capital 剩餘: {capital.at[idx]} 增加資金: {money}')\n",
    "            \n",
    "            # 損益計算\n",
    "            if (bs_.at[idx1, col] >= 1):\n",
    "                pf_.at[idx, col] = np.round((chast.data['還原收盤價'].at[idx, col] - chast.data['還原收盤價'].at[idx1, col]) * transform.at[idx1, col] * bs_.at[idx1, col] * 1000, 2)\n",
    "                if chast.data['還原收盤價'].at[idx, col] > eh_.at[idx, col]:\n",
    "                    eh_.at[idx, col] = chast.data['還原收盤價'].at[idx, col]\n",
    "        \n",
    "        # 避險部分\n",
    "        if idx1 in h_idx:\n",
    "            vix = index.data['VIX'].at[idx, '收盤價']\n",
    "            h20 = index.data['VIX20H'].at[idx]\n",
    "            l20 = index.data['VIX20L'].at[idx]\n",
    "            twa = index.data['TWA00'].at[idx, '還原收盤價']\n",
    "            twa1 = index.data['TWA00'].at[idx1, '還原收盤價']\n",
    "            hbs_.at[idx] = hbs\n",
    "            hcom_.at[idx] = hcom\n",
    "            hcom = 0\n",
    "            if hbs_.at[idx1] <= -1:\n",
    "                hpf_.at[idx] = hbs_.at[idx1] * (twa - twa1) * 200\n",
    "            if hbs_.at[idx1] != hbs_.at[idx]:\n",
    "                hcom = abs(hbs_.at[idx] - hbs_.at[idx1]) * (twa * 200 * (2 / 100000) + 50)\n",
    "            if hbs == 0:\n",
    "                if vix > h20:\n",
    "                    holding = ((chast.data['收盤價'].loc[idx, :] * bs.loc[idx, :]) * 1000).sum()\n",
    "                    if holding > 0:\n",
    "                        hbs = -np.floor(holding / (twa * 200))\n",
    "                        print(idx, hbs)\n",
    "            if hbs <= -1:\n",
    "                if vix < l20:\n",
    "                    hbs = 0\n",
    "            \n",
    "        idx1 = idx\n",
    "    ## ----------------------------------------------------------------------------------------------------------------------------------------##\n",
    "    hedge_ = pd.Series(index=f_idx).fillna(0)\n",
    "    hedge_.loc[h_idx] = hpf_ - hcom_\n",
    "    chast.set_result(pf_, bs_, com_, ep_, ed_, capital, hedge_)\n",
    "    chast.get_chart()\n",
    "\n",
    "\n",
    "# 最佳化\n",
    "# std level preprocess 如果要改買賣乘數就改labels\n",
    "# labels = [5, 3.5, 2, 1, 0.5]\n",
    "labels_test = {\n",
    "    '10到1': [10, 7, 4, 2, 1],\n",
    "    #'10': [24, 0.001, 0.0011, 0.0012, 0.0013],\n",
    "    #'7': [0.001, 24, 0.0011, 0.0012, 0.0014],\n",
    "    #'4': [0.001, 0.0011, 24, 0.0013, 0.0014],\n",
    "    #'2': [0.001, 0.0011, 0.0012, 24, 0.0014],\n",
    "    #'1': [0.001, 0.0011, 0.0012, 0.0013, 24]\n",
    "    #'猜測最佳組合': [10, 7, 5, 0.5, 0.3]\n",
    "}\n",
    "for k, labels in labels_test.items():\n",
    "    std_level = chast.data['還原收盤價'].pct_change().rolling(20).std().div(chast.data['還原收盤價'].pct_change().std(axis=1), axis=0).replace([np.inf, -np.inf], 1)\n",
    "    for i, v in std_level.iterrows():\n",
    "        # 去除極端值\n",
    "        v99 = v.quantile(.95)\n",
    "        v01 = v.quantile(.05)\n",
    "        mask_99 = v[v > v99].index\n",
    "        mask_01 = v[v < v01].index\n",
    "        std_level.loc[i, mask_99] = v99\n",
    "        std_level.loc[i, mask_01] = v01\n",
    "    # 把股票按照波動排名，後續用作買的倍率[5, 4, 3, 2, 1]\n",
    "    std_level = std_level.apply(lambda x: pd.cut(x, bins=5, labels=labels) if x.sum() != 0 else [0] * len(x), axis=0)\n",
    "    chast.set_data('std_level', std_level)\n",
    "    print(k, ' 系列開始 ----------------------------------------------------------------')\n",
    "    for per in [375000]:\n",
    "        for limit in [50000000]:\n",
    "            print(f'每單位 {per} 上限 {limit}')\n",
    "            backtesting(per, limit)\n",
    "            print('\\n\\n\\n\\n\\n\\n')\n",
    "            gc.collect()"
   ]
  },
  {
   "cell_type": "code",
   "execution_count": null,
   "metadata": {},
   "outputs": [
    {
     "data": {
      "text/plain": [
       "Timestamp('2022-10-03 00:00:00')"
      ]
     },
     "metadata": {},
     "output_type": "display_data"
    },
    {
     "data": {
      "text/html": [
       "<div>\n",
       "<style scoped>\n",
       "    .dataframe tbody tr th:only-of-type {\n",
       "        vertical-align: middle;\n",
       "    }\n",
       "\n",
       "    .dataframe tbody tr th {\n",
       "        vertical-align: top;\n",
       "    }\n",
       "\n",
       "    .dataframe thead th {\n",
       "        text-align: right;\n",
       "    }\n",
       "</style>\n",
       "<table border=\"1\" class=\"dataframe\">\n",
       "  <thead>\n",
       "    <tr style=\"text-align: right;\">\n",
       "      <th></th>\n",
       "      <th>股票代號</th>\n",
       "      <th>持倉張數</th>\n",
       "      <th>進場日期</th>\n",
       "      <th>進場價格</th>\n",
       "    </tr>\n",
       "  </thead>\n",
       "  <tbody>\n",
       "    <tr>\n",
       "      <th>2</th>\n",
       "      <td>1402</td>\n",
       "      <td>77</td>\n",
       "      <td>2022-05-23</td>\n",
       "      <td>29.9200</td>\n",
       "    </tr>\n",
       "    <tr>\n",
       "      <th>0</th>\n",
       "      <td>1216</td>\n",
       "      <td>50</td>\n",
       "      <td>2022-07-04</td>\n",
       "      <td>65.3200</td>\n",
       "    </tr>\n",
       "    <tr>\n",
       "      <th>1</th>\n",
       "      <td>2301</td>\n",
       "      <td>10</td>\n",
       "      <td>2022-08-01</td>\n",
       "      <td>63.5700</td>\n",
       "    </tr>\n",
       "    <tr>\n",
       "      <th>3</th>\n",
       "      <td>2752</td>\n",
       "      <td>14</td>\n",
       "      <td>2022-09-07</td>\n",
       "      <td>177.0000</td>\n",
       "    </tr>\n",
       "  </tbody>\n",
       "</table>\n",
       "</div>"
      ],
      "text/plain": [
       "   股票代號  持倉張數       進場日期     進場價格\n",
       "2  1402    77 2022-05-23  29.9200\n",
       "0  1216    50 2022-07-04  65.3200\n",
       "1  2301    10 2022-08-01  63.5700\n",
       "3  2752    14 2022-09-07 177.0000"
      ]
     },
     "metadata": {},
     "output_type": "display_data"
    },
    {
     "name": "stdout",
     "output_type": "stream",
     "text": [
      "(4, 4)\n"
     ]
    },
    {
     "data": {
      "text/html": [
       "<div>\n",
       "<style scoped>\n",
       "    .dataframe tbody tr th:only-of-type {\n",
       "        vertical-align: middle;\n",
       "    }\n",
       "\n",
       "    .dataframe tbody tr th {\n",
       "        vertical-align: top;\n",
       "    }\n",
       "\n",
       "    .dataframe thead th {\n",
       "        text-align: right;\n",
       "    }\n",
       "</style>\n",
       "<table border=\"1\" class=\"dataframe\">\n",
       "  <thead>\n",
       "    <tr style=\"text-align: right;\">\n",
       "      <th></th>\n",
       "      <th>股票代號</th>\n",
       "      <th>買進張數</th>\n",
       "    </tr>\n",
       "  </thead>\n",
       "  <tbody>\n",
       "  </tbody>\n",
       "</table>\n",
       "</div>"
      ],
      "text/plain": [
       "Empty DataFrame\n",
       "Columns: [股票代號, 買進張數]\n",
       "Index: []"
      ]
     },
     "metadata": {},
     "output_type": "display_data"
    },
    {
     "data": {
      "text/html": [
       "<div>\n",
       "<style scoped>\n",
       "    .dataframe tbody tr th:only-of-type {\n",
       "        vertical-align: middle;\n",
       "    }\n",
       "\n",
       "    .dataframe tbody tr th {\n",
       "        vertical-align: top;\n",
       "    }\n",
       "\n",
       "    .dataframe thead th {\n",
       "        text-align: right;\n",
       "    }\n",
       "</style>\n",
       "<table border=\"1\" class=\"dataframe\">\n",
       "  <thead>\n",
       "    <tr style=\"text-align: right;\">\n",
       "      <th></th>\n",
       "      <th>股票代號</th>\n",
       "      <th>賣出張數</th>\n",
       "    </tr>\n",
       "  </thead>\n",
       "  <tbody>\n",
       "  </tbody>\n",
       "</table>\n",
       "</div>"
      ],
      "text/plain": [
       "Empty DataFrame\n",
       "Columns: [股票代號, 賣出張數]\n",
       "Index: []"
      ]
     },
     "metadata": {},
     "output_type": "display_data"
    }
   ],
   "source": [
    "# 持有部位資訊\n",
    "day = -1\n",
    "position = pd.DataFrame(list(zip(\n",
    "    chast.results['BS'].iloc[day][chast.results['BS'].iloc[day] >= 1].index,\n",
    "    chast.results['BS'].iloc[day][chast.results['BS'].iloc[day] >= 1],\n",
    "    chast.results['ENTRY DATE'].iloc[day][chast.results['BS'].iloc[day] >= 1],\n",
    "    chast.results['ENTRY PRICE'].iloc[day][chast.results['BS'].iloc[day] >= 1])), columns=['股票代號', '持倉張數', '進場日期', '進場價格']).sort_values('進場日期')\n",
    "\n",
    "\n",
    "new_buy = pd.DataFrame(list(zip(\n",
    "    chast.results['BS'].iloc[day][(chast.results['BS'].iloc[day] >= 1) & (chast.results['BS'].iloc[day-1] == 0)].index,\n",
    "    chast.results['BS'].iloc[day][(chast.results['BS'].iloc[day] >= 1) & (chast.results['BS'].iloc[day-1] == 0)])), columns=['股票代號', '買進張數'])\n",
    "\n",
    "new_sell = pd.DataFrame(list(zip(\n",
    "    chast.results['BS'].iloc[day-1][(chast.results['BS'].iloc[day] == 0) & (chast.results['BS'].iloc[day-1] >= 1)].index,\n",
    "    chast.results['BS'].iloc[day-1][(chast.results['BS'].iloc[day] == 0) & (chast.results['BS'].iloc[day-1] >= 1)])), columns=['股票代號', '賣出張數'])\n",
    "display(chast.results['BS'].iloc[day].name)\n",
    "display(position)\n",
    "print(position.shape)\n",
    "display(new_buy)\n",
    "display(new_sell)"
   ]
  },
  {
   "cell_type": "code",
   "execution_count": 63,
   "metadata": {},
   "outputs": [
    {
     "data": {
      "text/plain": [
       "<AxesSubplot:xlabel='日期'>"
      ]
     },
     "execution_count": 63,
     "metadata": {},
     "output_type": "execute_result"
    },
    {
     "data": {
      "image/png": "[encoded data removed]",
      "text/plain": [
       "<Figure size 432x288 with 1 Axes>"
      ]
     },
     "metadata": {
      "needs_background": "light"
     },
     "output_type": "display_data"
    }
   ],
   "source": [
    "chast.results['HEDGE'].cumsum().plot()"
   ]
  },
  {
   "cell_type": "markdown",
   "metadata": {},
   "source": [
    "#### 匯出到EXCEL 連動XQ 目前匯出去資料格式還要自己改"
   ]
  },
  {
   "cell_type": "markdown",
   "metadata": {},
   "source": [
    "xq = pd.read_excel(r'C:\\Users\\ChastLai\\Documents\\Python Scripts\\Chast\\XQ連結損益.xlsx')\n",
    "xq_dict = dict()\n",
    "for k, v in xq.loc[0].items():\n",
    "    xq_dict[k] = v.split('.')[1]\n",
    "position.reset_index(drop=True, inplace=True)\n",
    "for col in xq.columns:\n",
    "    position[col] = [f\"=@XQ|Quote!'{x}.\" + xq_dict[col] for x in position['股票代號']]\n",
    "position['當日損益'] = [f'=(F{i+2}-H{i+2})/H{i+2}' for i in position.index]\n",
    "position['當日損益金額'] = [f'=(F{i+2}-H{i+2})*B{i+2}*1000' for i in position.index]\n",
    "position['累計損益'] = [f'=(F{i+2}-D{i+2})/D{i+2}' for i in position.index]\n",
    "position['累計損益金額'] = [f'=(F{i+2}-D{i+2})*B{i+2}*1000' for i in position.index]\n",
    "position['持有市值'] = [f'=B{i+2}*F{i+2}' for i in position.index]\n",
    "position.to_excel('匯出給XQ.xlsx', index=False)"
   ]
  },
  {
   "cell_type": "markdown",
   "metadata": {},
   "source": [
    "import xlwings as xw\n",
    "app = xw.App(add_book=False)\n",
    "app.display_alerts = False\n",
    "wb = app.books.api.Open(r\"C:\\Users\\ChastLai\\Documents\\Python Scripts\\Chast\\匯出給XQ.xlsx\", UpdateLinks=True)\n",
    "\n",
    "#wbs = app.books.api.Open(r\"C:\\Users\\ChastLai\\AppData\\Roaming\\Microsoft\\Excel\\XLSTART\\PERSONAL.XLSB\")\n",
    "#func = wbs.macro(\"改XQ回報格式\")\n",
    "#func()"
   ]
  },
  {
   "cell_type": "code",
   "execution_count": null,
   "metadata": {},
   "outputs": [],
   "source": [
    "# wb.sheets['Sheet1'].range(\"O1\").Value = \"當日損益\"\n",
    "\n",
    "# sheet.range(\"O1\").Value = \"當日損益\"\n",
    "# sheet.range(\"Q1\").Value = \"累計損益\"\n",
    "# sheet.range(\"O2\").Value = \"當日平均報酬\"\n",
    "# sheet.range(\"Q2\").Value = \"累計平均報酬\"\n",
    "# sheet.range(\"P1\").formula = \"=SUM(C[-5])\"\n",
    "# sheet.range(\"R1\").formula = \"=SUM(C[-5])\"\n",
    "# sheet.range(\"P2\").formula = \"=AVERAGE(C[-6])\"\n",
    "# sheet.range(\"R2\").formula = \"=AVERAGE(C[-6])\""
   ]
  },
  {
   "cell_type": "markdown",
   "metadata": {},
   "source": [
    "(chast.results['PROFIT'] - chast.results['COMMISION']).groupby(pd.Grouper(freq='1y')).sum().sum(axis=1)"
   ]
  },
  {
   "cell_type": "markdown",
   "metadata": {},
   "source": [
    "# 測試避險策略|"
   ]
  },
  {
   "cell_type": "code",
   "execution_count": 43,
   "metadata": {},
   "outputs": [
    {
     "name": "stderr",
     "output_type": "stream",
     "text": [
      "C:\\Users\\ChastLai\\AppData\\Local\\Temp\\ipykernel_17496\\1774172458.py:2: FutureWarning: The default dtype for empty Series will be 'object' instead of 'float64' in a future version. Specify a dtype explicitly to silence this warning.\n",
      "  bs, bs_ = 0, pd.Series(index = f_idx).fillna(0)\n",
      "C:\\Users\\ChastLai\\AppData\\Local\\Temp\\ipykernel_17496\\1774172458.py:3: FutureWarning: The default dtype for empty Series will be 'object' instead of 'float64' in a future version. Specify a dtype explicitly to silence this warning.\n",
      "  pf, pf_ = 0, pd.Series(index = f_idx).fillna(0)\n",
      "C:\\Users\\ChastLai\\AppData\\Local\\Temp\\ipykernel_17496\\1774172458.py:4: FutureWarning: The default dtype for empty Series will be 'object' instead of 'float64' in a future version. Specify a dtype explicitly to silence this warning.\n",
      "  com, com_ = 0, pd.Series(index = f_idx).fillna(0)\n"
     ]
    },
    {
     "data": {
      "text/plain": [
       "<AxesSubplot:xlabel='日期'>"
      ]
     },
     "execution_count": 43,
     "metadata": {},
     "output_type": "execute_result"
    },
    {
     "data": {
      "image/png": "[encoded data removed]",
      "text/plain": [
       "<Figure size 432x288 with 1 Axes>"
      ]
     },
     "metadata": {
      "needs_background": "light"
     },
     "output_type": "display_data"
    }
   ],
   "source": [
    "f_idx = index.data['TWA00'].index.intersection(index.data['VIX'].index)\n",
    "bs, bs_ = 0, pd.Series(index = f_idx).fillna(0)\n",
    "pf, pf_ = 0, pd.Series(index = f_idx).fillna(0)\n",
    "com, com_ = 0, pd.Series(index = f_idx).fillna(0)\n",
    "index.set_data('VIX20H', index.data['VIX']['收盤價'].rolling(20).max().shift(1))\n",
    "index.set_data('VIX20L', index.data['VIX']['收盤價'].rolling(20).min().shift(1))\n",
    "idx1 = f_idx[0]\n",
    "for idx, row in index.data['TWA00'].loc[f_idx].iterrows():\n",
    "\n",
    "\n",
    "    vix = index.data['VIX'].at[idx, '收盤價']\n",
    "    h20 = index.data['VIX20H'].at[idx]\n",
    "    l20 = index.data['VIX20L'].at[idx]\n",
    "    twa = index.data['TWA00'].at[idx, '還原收盤價']\n",
    "    twa1 = index.data['TWA00'].at[idx1, '還原收盤價']\n",
    "    bs_.at[idx] = bs\n",
    "    com_.at[idx] = com\n",
    "    com = 0\n",
    "    if bs_.at[idx1] <= -1:\n",
    "        pf_.at[idx] = bs_.at[idx1] * (twa - twa1) * 200\n",
    "    if bs_.at[idx1] != bs_.at[idx]:\n",
    "        com = abs(bs_.at[idx] - bs_.at[idx1]) * (twa * 200 * (2 / 100000) + 50)\n",
    "    if bs == 0:\n",
    "        if vix > h20:\n",
    "            bs = -1\n",
    "    if bs <= -1:\n",
    "        if vix < l20:\n",
    "            bs = 0\n",
    "\n",
    "    idx1 = idx\n",
    "(pf_-com_).cumsum().plot()"
   ]
  },
  {
   "cell_type": "code",
   "execution_count": 41,
   "metadata": {},
   "outputs": [
    {
     "data": {
      "text/plain": [
       "<AxesSubplot:xlabel='日期'>"
      ]
     },
     "execution_count": 41,
     "metadata": {},
     "output_type": "execute_result"
    },
    {
     "data": {
      "image/png": "[encoded data removed]",
      "text/plain": [
       "<Figure size 432x288 with 1 Axes>"
      ]
     },
     "metadata": {
      "needs_background": "light"
     },
     "output_type": "display_data"
    }
   ],
   "source": [
    "com_.cumsum().plot()"
   ]
  },
  {
   "cell_type": "code",
   "execution_count": null,
   "metadata": {},
   "outputs": [],
   "source": []
  }
 ],
 "metadata": {
  "kernelspec": {
   "display_name": "Python 3.9.12 ('base')",
   "language": "python",
   "name": "python3"
  },
  "language_info": {
   "codemirror_mode": {
    "name": "ipython",
    "version": 3
   },
   "file_extension": ".py",
   "mimetype": "text/x-python",
   "name": "python",
   "nbconvert_exporter": "python",
   "pygments_lexer": "ipython3",
   "version": "3.9.12"
  },
  "orig_nbformat": 4,
  "vscode": {
   "interpreter": {
    "hash": "733e3c2263f7036f7a50028cdb47f26c0bc8babbbcf0f10350df5ed5d46e1ebf"
   }
  }
 },
 "nbformat": 4,
 "nbformat_minor": 2
}
