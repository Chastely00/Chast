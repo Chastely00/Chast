{
 "cells": [
  {
   "cell_type": "code",
   "execution_count": 1,
   "metadata": {},
   "outputs": [],
   "source": [
    "import vectorbt as vbt\n",
    "import pandas as pd\n",
    "import numpy as np\n",
    "from numba import njit\n",
    "import feed\n",
    "import datetime\n",
    "import matplotlib.pyplot as plt\n",
    "import copy\n",
    "import random\n",
    "from tqdm.notebook import tqdm\n"
   ]
  },
  {
   "cell_type": "markdown",
   "metadata": {},
   "source": [
    "#### 優化程式 \n",
    "    1. 試著將pandas的東西都轉換成vectorbt\n",
    "    2. 試著將for loop可以vectorize的都轉換"
   ]
  },
  {
   "attachments": {},
   "cell_type": "markdown",
   "metadata": {},
   "source": [
    "#### 關於vectorbt好用的函數整理\n",
    "1. series.vbt.rolling_split 可以分割成train, valid, test的rolling\n",
    "2. vbt.range_splt 可以分割成很多個range包 (分成幾包，每包多少資料，會自動將資料重疊)\n",
    "3. vbt.LEXLB.run 可以找到local extrema用來給ML\n",
    "\n"
   ]
  },
  {
   "cell_type": "code",
   "execution_count": 2,
   "metadata": {},
   "outputs": [],
   "source": [
    "def init():\n",
    "    vbt.settings['plotting']['layout']['width'] = 800\n",
    "    vbt.settings['plotting']['layout']['height'] = 400\n",
    "    pd.options.plotting.backend = \"matplotlib\"\n",
    "    plt.rcParams['font.family'] = ['Microsoft JhengHei']  # 中文標籤\n",
    "    plt.rcParams['axes.unicode_minus'] = False  # 負號\n",
    "    pd.set_option('display.max_rows', 20)\n",
    "    pd.set_option('display.float_format', lambda x: '%.3f' % x)\n",
    "    pd.options.display.float_format = '{:,.4f}'.format\n",
    "\n",
    "\n",
    "def add_factors(name, df, stk_len, stk_num, func):\n",
    "    new_col = list(zip([name]*stk_len, stk_num))\n",
    "    new_df = eval(func)\n",
    "    new_df.columns = new_col\n",
    "    new_df = new_df.replace([np.inf, -np.inf, np.nan],\n",
    "                            0).mask(new_df > 5, 5).mask(new_df < -5, -5)\n",
    "    df = pd.concat([df, new_df], axis=1)\n",
    "    return df\n",
    "\n",
    "\n",
    "def calculate_value(df, dic, data_list, reverse_list, stk_len, stk_num):\n",
    "    # 行業名稱\n",
    "    df_value = copy.deepcopy(df)\n",
    "    for sname in dic['指數彙編'].iloc[:, 0].unique():\n",
    "        # 由行業名稱選定股票代碼\n",
    "        symbols = dic['指數彙編'][dic['指數彙編'].iloc[:, 0]\n",
    "                              == sname].iloc[:, -2].astype(str).values\n",
    "        # 從大表中提取單一行業中所有股票的單一Factor\n",
    "\n",
    "        for factor in data_list:  # 這邊沒再對MA做比較(這樣額外Factors都不會做比較)\n",
    "            table = df.loc[:, factor].loc[:, symbols].fillna(method='ffill')\n",
    "            # 計算單一個股目前資料水準\n",
    "            table1 = (table - table.rolling(500).mean()) / \\\n",
    "            table.rolling(500).std()\n",
    "            # 計算行業中心目前資料水平\n",
    "            table2 = table.subtract(table.mean(axis=1), axis=0).divide(\n",
    "                table.std(axis=1), axis=0)\n",
    "            # 處理錯誤值與極端值\n",
    "            table1.replace([np.inf, -np.inf, np.nan], 0, inplace=True)\n",
    "            table2.replace([np.inf, -np.inf, np.nan], 0, inplace=True)\n",
    "            table1 = table1.mask(table1 > 5, 5).mask(table1 < -5, -5)\n",
    "            table2 = table2.mask(table2 > 5, 5).mask(table2 < -5, -5)\n",
    "            # 個別與行業相加\n",
    "            ta = table1+table2\n",
    "            ta.columns = list(zip([factor]*len(table.columns), table.columns))\n",
    "            df_value.loc[:, ta.columns] = ta\n",
    "\n",
    "    # 先將反向的乘上-1\n",
    "    reverse = reverse_list\n",
    "    for re in reverse:\n",
    "        col = list(zip([re]*stk_len, stk_num))\n",
    "        df_value.loc[:, col] = df_value.loc[:, col] * -1\n",
    "    return df_value\n",
    "\n",
    "    # 計算合計分數\n",
    "\n",
    "\n",
    "def calculate_scores(df_value, stk_idx, stk_num, **params):\n",
    "    scores = pd.DataFrame(index=stk_idx, columns=stk_num).fillna(0)\n",
    "    for d in df_value.columns.get_level_values(0).unique():\n",
    "        scores += df_value[d] * params[d]\n",
    "    return scores\n",
    "\n",
    "\n",
    "def backtesting(df, scores, bins, stk_idx, stk_num, ls: str='onlylong', pplot: bool=False, freq='D', init_cash: int=10000000, returnbs: bool=False):\n",
    "    return_df = list()\n",
    "    # long = dict()\n",
    "    # short = dict()\n",
    "    bins = bins\n",
    "    labels = [str(i) for i in range(1, bins+1)]\n",
    "    rt = df['還原收盤價'].shift(-1).groupby(pd.Grouper(freq=freq)).tail(\n",
    "        1).pct_change().shift(-1).replace([np.inf, -np.inf, np.nan], 0)\n",
    "    bs_l = pd.DataFrame(index=stk_idx, columns=stk_num).fillna(\n",
    "        0).groupby(pd.Grouper(freq=freq)).tail(1)\n",
    "    if ls != 'onlylong':\n",
    "        bs_s = pd.DataFrame(index=stk_idx, columns=stk_num).fillna(\n",
    "            0).groupby(pd.Grouper(freq=freq)).tail(1)\n",
    "\n",
    "    for idx, row in scores.groupby(pd.Grouper(freq=freq)).tail(1).iterrows():\n",
    "        try:\n",
    "            bs_l.loc[idx, row[pd.cut(row, bins=bins, labels=labels)\n",
    "                            == labels[-1]].index.values] = 1\n",
    "            if ls != 'onlylong':\n",
    "                bs_s.loc[idx, row[pd.cut(row, bins=bins, labels=labels)\n",
    "                                == labels[0]].index.values] = -1\n",
    "        # long[idx] = row[pd.cut(row, bins=bins, labels=labels)\n",
    "        #                 == labels[-1]].index.values\n",
    "        # short[idx] = row[pd.cut(row, bins=bins, labels=labels)\n",
    "        #                 == labels[0]].index.values\n",
    "        except:\n",
    "            pass\n",
    "        if pplot:\n",
    "            se = rt.loc[idx].groupby(pd.cut(row, bins=bins, labels=labels)).mean()\n",
    "            return_df.append(se)\n",
    "    if pplot:\n",
    "        return_df = pd.concat(return_df, axis=1).T\n",
    "        return_df.cumsum().plot(figsize=(16, 9)).plot(title='Bins Return')\n",
    "        plt.show()\n",
    "\n",
    "    per_cash = init_cash / bs_l.sum(axis=1)\n",
    "    # long\n",
    "    bs_l_share = copy.deepcopy(bs_l)\n",
    "    for idx, row in bs_l.iterrows():\n",
    "        bs_l_share.loc[idx, row[row > 0].index] = (per_cash.at[idx] / df['還原收盤價'].fillna(\n",
    "            method='ffill').loc[idx, row[row > 0].index] / 1000).replace([np.inf, -np.inf, np.nan], 0).astype(int)\n",
    "    bs_l_daily = pd.DataFrame(index=stk_idx, columns=stk_num)\n",
    "    bs_l_daily.loc[bs_l_share.index, bs_l_share.columns] = bs_l_share\n",
    "    bs_l_daily.fillna(method='ffill', inplace=True)\n",
    "    bs_l_daily = bs_l_daily.shift(1)\n",
    "    diff = bs_l_daily.diff()\n",
    "    cost = ((diff[diff > 0].shift(1).fillna(0) *\n",
    "            df['還原收盤價']*0.001425)*1000).fillna(0)\n",
    "    cost -= ((diff[diff < 0].fillna(0)*df['還原收盤價']*0.004425)*1000).fillna(0)\n",
    "    pf_l_daily = bs_l_daily * \\\n",
    "        df['還原收盤價'].fillna(method='ffill').diff().shift(-1)*1000\n",
    "    pf_l_daily_minus_cost = pf_l_daily - cost\n",
    "\n",
    "    if ls != 'onlylong':\n",
    "        bs_s_share = copy.deepcopy(bs_s)\n",
    "        for idx, row in bs_s.iterrows():\n",
    "            bs_s_share.loc[idx, row[row < 0].index] = (per_cash.at[idx] / df['還原收盤價'].fillna(\n",
    "                method='ffill').loc[idx, row[row < 0].index] / 1000).replace([np.inf, -np.inf, np.nan], 0).astype(int)\n",
    "        bs_s_daily = pd.DataFrame(index=stk_idx, columns=stk_num)\n",
    "        bs_s_daily.loc[bs_s_share.index, bs_s_share.columns] = -1 * bs_s_share\n",
    "        bs_s_daily.fillna(method='ffill', inplace=True)\n",
    "        bs_s_daily = bs_s_daily.shift(1)\n",
    "        diff = bs_s_daily.diff()\n",
    "        cost = ((diff[diff > 0].shift(1).fillna(0) *\n",
    "                df['還原收盤價']*0.001425)*1000).fillna(0)\n",
    "        cost -= ((diff[diff < 0].fillna(0)*df['還原收盤價']*0.004425)*1000).fillna(0)\n",
    "        pf_s_daily = bs_s_daily * \\\n",
    "            df['還原收盤價'].fillna(method='ffill').diff().shift(-1)*1000\n",
    "        pf_s_daily_minus_cost = pf_s_daily - cost\n",
    "\n",
    "\n",
    "\n",
    "    if ls == 'onlylong':\n",
    "        sortino = ((250 * pf_l_daily_minus_cost.sum(axis=1).mean()) / (pf_l_daily_minus_cost.sum(axis=1)\n",
    "                [pf_l_daily_minus_cost.sum(axis=1) < 0].std() * np.sqrt(250))).mean()\n",
    "    else:\n",
    "        pf_minus_cost = pf_l_daily_minus_cost + pf_s_daily_minus_cost\n",
    "        sortino = ((250 * pf_minus_cost.sum(axis=1).mean()) / (pf_minus_cost.sum(axis=1)\n",
    "                [pf_minus_cost.sum(axis=1) < 0].std() * np.sqrt(250))).mean()\n",
    "    if pplot:\n",
    "        if ls == 'onlylong':\n",
    "            pf_l_daily_minus_cost.sum(axis=1).cumsum().plot(title=f'Sortino: {sortino:.2f}', figsize=(16, 9))\n",
    "        else:\n",
    "            pf_minus_cost.sum(axis=1).cumsum().plot(title=f'Sortino: {sortino:.2f}', figsize=(16, 9))\n",
    "        plt.show()\n",
    "    if returnbs:\n",
    "        if ls != 'onlylong':\n",
    "            return bs_l_daily, bs_s_daily, sortino\n",
    "        else:\n",
    "            return bs_l_daily, sortino\n",
    "    else:\n",
    "        return sortino\n",
    "    \n",
    "\n"
   ]
  },
  {
   "cell_type": "code",
   "execution_count": 13,
   "metadata": {},
   "outputs": [
    {
     "name": "stdout",
     "output_type": "stream",
     "text": [
      "Data TWA00 has shape (6056, 34)\n",
      "Data 指數彙編 has shape (2211, 8)\n",
      "Data 指數名稱轉換 has shape (1, 22)\n",
      "Data 本益比(近四季) has shape (4678, 2211)\n",
      "Data 股價淨值比 has shape (4678, 2211)\n",
      "Data 成交金額(千) has shape (4678, 2211)\n",
      "Data 還原收盤價 has shape (4678, 2211)\n",
      "Data EPS_Q has shape (76, 2211)\n",
      "Data 營業收入淨額_Q has shape (76, 2211)\n",
      "Data 殖利率 has shape (4678, 2211)\n",
      "Data 總市值(億) has shape (4678, 2211)\n"
     ]
    }
   ],
   "source": [
    "# , '資產總計_Q', '負債總計_Q', '現金股利殖利率_Q'\n",
    "if __name__ == '__main__':\n",
    "    init()\n",
    "    data_list = ['本益比(近四季)', '股價淨值比', '成交金額(千)', '還原收盤價',\n",
    "                 'EPS_Q', '營業收入淨額_Q', '殖利率', '總市值(億)']\n",
    "    start = datetime.datetime(2004, 1, 1)\n",
    "    end = datetime.datetime.today()\n",
    "    data2_list = ['TWA00', '指數彙編', '指數名稱轉換']\n",
    "    dic = feed.get_from_mongo(elements=data2_list, db='Index')\n",
    "\n",
    "    df_params = {\n",
    "        'EPS_Q': '.rolling(4).sum().pct_change().replace([np.inf, -np.inf], 0)',\n",
    "        '營業收入淨額_Q': '.rolling(4).sum().pct_change().replace([np.inf, -np.inf], 0)',\n",
    "        '本益比(近四季)': '.mask(data>100, 100)',\n",
    "        '殖利率': '.mask(data>100, 100)'\n",
    "    }\n",
    "    df = feed.get_from_mongo(\n",
    "        elements=data_list,\n",
    "        db='Fields',\n",
    "        symbols=[],\n",
    "        start=start,\n",
    "        end=end,\n",
    "        concat=True,\n",
    "        ffill=['EPS_Q', '營業收入淨額_Q'],\n",
    "        zscore=[],\n",
    "        **df_params)\n",
    "    # 抓完資料後有些資料會因為fill重複(推估來自於Q轉D)，因此要先調整到正確日期，這邊我選還原收盤價來當作正確日期標準\n",
    "    df = df.loc[df['還原收盤價'].drop_duplicates().index]\n",
    "\n",
    "    stk_num = df['還原收盤價'].columns\n",
    "    stk_len = len(stk_num)\n",
    "    stk_idx = df['還原收盤價'].index\n",
    "\n",
    "    # 增加額外Factors\n",
    "    df = add_factors(name='MA60_diff',\n",
    "                     df=df, stk_len=stk_len, stk_num=stk_num,\n",
    "                     func=\"(df['還原收盤價'] - df['還原收盤價'].rolling(60).mean()) / df['還原收盤價'].rolling(60).std()\")\n",
    "    df = add_factors(name='MA120_diff',\n",
    "                     df=df, stk_len=stk_len, stk_num=stk_num,\n",
    "                     func=\"(df['還原收盤價'] - df['還原收盤價'].rolling(120).mean()) / df['還原收盤價'].rolling(120).std()\")\n",
    "    df = add_factors(name='5MOM',\n",
    "                     df=df, stk_len=stk_len, stk_num=stk_num,\n",
    "                     func=\"(df['還原收盤價'] - df['還原收盤價'].shift(5)) / df['還原收盤價'].shift(5)\")\n",
    "    df = add_factors(name='30MOM',\n",
    "                     df=df, stk_len=stk_len, stk_num=stk_num,\n",
    "                     func=\"(df['還原收盤價'] - df['還原收盤價'].shift(5)) / df['還原收盤價'].shift(5)\")\n",
    "    df = add_factors(name='5std',\n",
    "                     df=df, stk_len=stk_len, stk_num=stk_num,\n",
    "                     func=\"df['還原收盤價'].rolling(5).std()\")\n",
    "    df = add_factors(name='30std',\n",
    "                     df=df, stk_len=stk_len, stk_num=stk_num,\n",
    "                     func=\"df['還原收盤價'].rolling(30).std()\")\n",
    "    df = add_factors(name='bias',\n",
    "                     df=df, stk_len=stk_len, stk_num=stk_num,\n",
    "                     func=\"pd.DataFrame(np.random.randint(-5,5, size=(len(df.index), stk_len)), \\\n",
    "                     index=df['還原收盤價'].index, columns=df['還原收盤價'].columns)\")\n",
    "    data_list.extend(['5MOM', '30MOM', 'bias', '5std', '30std'])\n",
    "\n",
    "    reverse_list = ['本益比(近四季)', '股價淨值比', '5std', '30std']\n",
    "\n",
    "    # opt_params = {\n",
    "    #     '本益比(近四季)': 1,\n",
    "    #     '股價淨值比': 1,\n",
    "    #     '成交金額(千)': 1,\n",
    "    #     '還原收盤價': 1,\n",
    "    #     'EPS_Q': 1,\n",
    "    #     '營業收入淨額_Q': 1,\n",
    "    #     '殖利率': 1,\n",
    "    #     '總市值(億)': 1,\n",
    "    #     'MA60_diff': 1,\n",
    "    #     'MA120_diff': 1,\n",
    "    #     'bias': 0\n",
    "    # }\n",
    "    opt_params = {k: 1 for k in df.columns.get_level_values(0).unique()}\n",
    "    \n",
    "    df_value = calculate_value(\n",
    "        df=df, dic=dic, data_list=data_list, \n",
    "        reverse_list=reverse_list, stk_len=stk_len, stk_num=stk_num)\n",
    "\n",
    "    scores = calculate_scores(\n",
    "        df_value=df_value, stk_idx=stk_idx, stk_num=stk_num, **opt_params)\n",
    "        \n",
    "\n"
   ]
  },
  {
   "cell_type": "code",
   "execution_count": 14,
   "metadata": {},
   "outputs": [],
   "source": [
    "import pymongo as pm\n",
    "import pandas as pd\n",
    "from typing import Union\n",
    "import datetime\n",
    "import numpy as np\n",
    "import vectorbt as vbt\n",
    "import talib\n",
    "from numba import njit\n",
    "import gc\n",
    "\n",
    "def get_from_mongo(elements: list, symbols: list=[], db:str='Fields',\n",
    "    start: Union[datetime.datetime, None]=None, \n",
    "    end: Union[datetime.datetime, None]=None,\n",
    "    concat: bool=False,\n",
    "    ffill: list=[],\n",
    "    zscore: list=[],\n",
    "    pprint: bool=True,\n",
    "    **kwards) -> Union[pd.DataFrame, dict]:\n",
    "    \"\"\"\n",
    "    elements: Element, 表示要在Mongo中抓哪些資料, 須用list包起來\n",
    "    symbols: 商品清單\n",
    "    start: 開始時間, 若沒定義則會抓取沒有日期的資料\n",
    "    end: 結束時間\n",
    "    concat: 打開以後就會return一個大表，擁有multiindex的columns，level0是表單名稱(開盤價、收盤價等)\n",
    "    \"\"\"\n",
    "    client = pm.MongoClient()\n",
    "    if concat:\n",
    "        df = pd.DataFrame()\n",
    "    else:\n",
    "        df = dict()\n",
    "    symbols = {s: 1 for s in symbols}\n",
    "    symbols['_id'] = 0\n",
    "    if start == None:\n",
    "        date = {}\n",
    "    else:\n",
    "        date = {'日期': {'$gte': start, '$lte': end}}\n",
    "        if len(symbols) != 1:\n",
    "            symbols['日期'] = 1\n",
    "\n",
    "    for e in elements:\n",
    "        data = pd.DataFrame(client[db][e].find(date, symbols))\n",
    "        if '日期' in data.columns:\n",
    "            data.set_index('日期', inplace=True)\n",
    "        data = data.reindex(sorted(data.columns), axis=1)\n",
    "        if pprint:\n",
    "            print(f'Data {e} has shape {data.shape}')\n",
    "        data.columns = pd.MultiIndex.from_tuples(tuple(zip([e]*len(data.columns), data.columns)))\n",
    "        # 資料預先處理就放在**kwards裡\n",
    "        if e in kwards: # 'Q': .rolling(4).sum()\n",
    "            string = 'data'+kwards[e]\n",
    "            data = eval(string)\n",
    "        if e in zscore:\n",
    "            data = (data.subtract(data.mean(axis=1), axis=0)).divide(data.std(ddof=0, axis=1), axis=0)\n",
    "            data = data.mask(data>5, 5)\n",
    "            data = data.mask(data<-5, -5)\n",
    "        if concat:\n",
    "            df = pd.concat([df, data], axis=1, join='outer')\n",
    "        else:\n",
    "            df[e] = data\n",
    "    if concat:\n",
    "        df.sort_index(inplace=True)\n",
    "    for f in ffill:\n",
    "        df.loc[:, f] = df.ffill()\n",
    "    return df"
   ]
  },
  {
   "cell_type": "code",
   "execution_count": 2,
   "metadata": {},
   "outputs": [],
   "source": [
    "client = pm.MongoClient()\n",
    "\n",
    "data = pd.DataFrame(client['Fields']['還原收盤價'].find(\n",
    "    {'日期': {'$gte': datetime.datetime(2006, 1, 1), \n",
    "    '$lte': datetime.datetime.today()}}, {'_id': 0})).set_index('日期')\n",
    "pb = pd.DataFrame(client['Fields']['股價淨值比'].find(\n",
    "    {'日期': {'$gte': datetime.datetime(2006, 1, 1), \n",
    "    '$lte': datetime.datetime.today()}}, {'_id': 0})).set_index('日期')\n"
   ]
  },
  {
   "cell_type": "code",
   "execution_count": 3,
   "metadata": {},
   "outputs": [],
   "source": [
    "data.dropna(axis=1, how='all', inplace=True)\n",
    "data = data.fillna(method='ffill').fillna(method='bfill').replace(to_replace=0, method='ffill')\n",
    "data.columns.name = \"symbol\"\n",
    "pb.dropna(axis=1, how='all', inplace=True)\n",
    "pb = pb.fillna(method='ffill').fillna(method='bfill').replace(to_replace=0, method='ffill')\n",
    "pb.columns.name = \"symbol\"\n",
    "pb = pb.align(data, join=\"right\")[0]"
   ]
  },
  {
   "cell_type": "code",
   "execution_count": 4,
   "metadata": {},
   "outputs": [],
   "source": [
    "data, indexes = data.vbt.range_split(n=25, range_len=1*250)\n",
    "pb, indexespb = pb.vbt.range_split(n=25, range_len=1*250)"
   ]
  },
  {
   "cell_type": "code",
   "execution_count": 66,
   "metadata": {},
   "outputs": [],
   "source": [
    "score_rank = np.zeros(scores.shape)\n",
    "for e in enumerate(np.argsort(scores.to_numpy(), axis=1)[:, -1:]):\n",
    "    score_rank[e] = 1\n"
   ]
  },
  {
   "cell_type": "code",
   "execution_count": 115,
   "metadata": {},
   "outputs": [
    {
     "data": {
      "text/plain": [
       "1.0"
      ]
     },
     "execution_count": 115,
     "metadata": {},
     "output_type": "execute_result"
    }
   ],
   "source": [
    "scores.rank(axis=1, ascending=False).iloc[10, 289]"
   ]
  },
  {
   "cell_type": "code",
   "execution_count": 117,
   "metadata": {},
   "outputs": [],
   "source": [
    "score = scores.rank(axis=1, ascending=False)\n",
    "score.columns.name = \"symbol\"\n",
    "score, score_idx = score.vbt.range_split(n=25, range_len=250)"
   ]
  },
  {
   "cell_type": "code",
   "execution_count": 118,
   "metadata": {},
   "outputs": [],
   "source": [
    "data = df['還原收盤價'].fillna(method='ffill').fillna(method='bfill').replace(to_replace=0, method='ffill')\n",
    "data.columns.name = \"symbol\"\n",
    "data, data_idx = data.vbt.range_split(n=25, range_len=250)\n",
    "\n",
    "\n"
   ]
  },
  {
   "cell_type": "code",
   "execution_count": 119,
   "metadata": {},
   "outputs": [],
   "source": [
    "\n",
    "@njit\n",
    "def optimize_rsi(close, scores, entry, exit):\n",
    "    return scores <= entry, scores > exit\n",
    "\n",
    "rsi_ind = vbt.IndicatorFactory(\n",
    "        class_name=\"ScoresRanking\",\n",
    "        short_name=\"Sc\",\n",
    "        input_names=[\"close\", \"scores\"],\n",
    "        param_names=[\"entry\", \"exit\"],\n",
    "        output_names=[\"entries\", \"exits\"]\n",
    "        ).from_apply_func(\n",
    "            optimize_rsi,\n",
    "            entry=50,\n",
    "            exit=100)\n",
    "\n",
    "step_size = 1\n",
    "entries = np.arange(1, 51, step=step_size, dtype=int)\n",
    "exits = np.arange(52, 101, step=step_size, dtype=int)\n",
    "\n",
    "master_pf = list()\n",
    "for entry in entries:\n",
    "    for exit in exits:\n",
    "        for i in range(25):\n",
    "            gc.collect()\n",
    "            score_res = rsi_ind.run(\n",
    "                    data[i],\n",
    "                    score[i],\n",
    "                    entry=entry,\n",
    "                    exit=exit,\n",
    "                    param_product=True)\n",
    "\n",
    "            score_entries = score_res.entries\n",
    "            score_exits = score_res.exits\n",
    "\n",
    "            score_exits.iloc[-1, :] = True\n",
    "\n",
    "            rsi_pf = vbt.Portfolio.from_signals(data[i], score_entries, score_exits, freq=\"1D\", fees=0.001425)\n",
    "            master_pf.append(rsi_pf.total_return())\n",
    "\n",
    "            # fig = rsi_pf.total_return().vbt.volume(\n",
    "            #         x_level=\"rsi_exit\",\n",
    "            #         y_level=\"rsi_entry\",\n",
    "            #         z_level=\"rsi_window\",\n",
    "            #         slider_level=\"split_idx\"\n",
    "            # )\n",
    "            # fig.show()"
   ]
  },
  {
   "cell_type": "code",
   "execution_count": 9,
   "metadata": {},
   "outputs": [
    {
     "data": {
      "application/vnd.plotly.v1+json": {
       "config": {
        "plotlyServerURL": "https://plot.ly"
       },
       "data": [
        {
         "colorscale": [
          [
           0,
           "#0d0887"
          ],
          [
           0.1111111111111111,
           "#46039f"
          ],
          [
           0.2222222222222222,
           "#7201a8"
          ],
          [
           0.3333333333333333,
           "#9c179e"
          ],
          [
           0.4444444444444444,
           "#bd3786"
          ],
          [
           0.5555555555555556,
           "#d8576b"
          ],
          [
           0.6666666666666666,
           "#ed7953"
          ],
          [
           0.7777777777777778,
           "#fb9f3a"
          ],
          [
           0.8888888888888888,
           "#fdca26"
          ],
          [
           1,
           "#f0f921"
          ]
         ],
         "hoverongaps": false,
         "hovertemplate": "PB_entry: %{x}<br>PB_exit: %{y}<br>value: %{z}<extra></extra>",
         "type": "heatmap",
         "uid": "141b658c-f498-4f5d-8f76-865b399a8173",
         "x": [
          70,
          75,
          80,
          85,
          90,
          95,
          100,
          105,
          110,
          115,
          120,
          125,
          130,
          135,
          140,
          145
         ],
         "y": [
          150,
          155,
          160,
          165,
          170,
          175,
          180,
          185,
          190,
          195,
          200,
          205,
          210,
          215,
          220,
          225,
          230,
          235,
          240,
          245,
          250,
          255,
          260,
          265,
          270,
          275,
          280,
          285,
          290,
          295,
          300,
          305
         ],
         "z": [
          [
           0.07546748675914275,
           0.07701887689037276,
           0.0804634098134216,
           0.08149961553897458,
           0.08237008595000445,
           0.08315362429747339,
           0.08425765151362753,
           0.08589239314116912,
           0.08510119550057774,
           0.08487444136547563,
           0.0847413262743411,
           0.08304195196708578,
           0.08287329524119354,
           0.08169118571248257,
           0.07957841087074678,
           0.07781879150002208
          ],
          [
           0.07545356563867248,
           0.07692056528538176,
           0.08050555657890844,
           0.08185710073999794,
           0.0831287993911281,
           0.08372927362174828,
           0.08463632959603806,
           0.08636189111387217,
           0.08559136538248781,
           0.085414742299833,
           0.08538314494004343,
           0.0843754748859582,
           0.08469303534627906,
           0.08355659667739315,
           0.08219951632003984,
           0.08136023667043715
          ],
          [
           0.07620704791092353,
           0.07788848706672623,
           0.08143485959347968,
           0.08268463073349762,
           0.08420092594888053,
           0.08499054747258301,
           0.08622107467504925,
           0.0877867755149057,
           0.08738786171611,
           0.08743148815645353,
           0.08738698745041429,
           0.08669463286399026,
           0.08714012986840204,
           0.08628099213075974,
           0.08507508931849699,
           0.08442346367548158
          ],
          [
           0.07697912175712124,
           0.0789616366534912,
           0.08216039481401013,
           0.08383487002598214,
           0.0853772891955307,
           0.08626038311925675,
           0.08755812860286982,
           0.08912410783901038,
           0.08867307894289667,
           0.08879396529454156,
           0.08899201667182961,
           0.08845410638135981,
           0.08906391720319674,
           0.08834056709434485,
           0.08705591345771159,
           0.08683339692322294
          ],
          [
           0.077423184135192,
           0.07964035754279557,
           0.08305448576827544,
           0.08497032539509333,
           0.0868525578645103,
           0.08793583770518097,
           0.0895208078026311,
           0.09047330920439253,
           0.09027125391235133,
           0.0910838722027847,
           0.09142674428274082,
           0.09050920581865879,
           0.09113509308890229,
           0.09061061653094551,
           0.08988793215731213,
           0.08981554607377776
          ],
          [
           0.07792561597567932,
           0.080165607673057,
           0.0837557177168318,
           0.08588094180023076,
           0.08788845753377506,
           0.08907206237562028,
           0.09081605067907088,
           0.09177479894624734,
           0.09120218293457667,
           0.09236845633441702,
           0.09320757909620282,
           0.09207599758923839,
           0.09342404271126632,
           0.09326820013375953,
           0.09253554792770065,
           0.09260979605951848
          ],
          [
           0.07840738066822263,
           0.08084121296618768,
           0.08451564119924045,
           0.08682241000931107,
           0.08886777479235775,
           0.09038739291985275,
           0.0920529990193472,
           0.09298029980366451,
           0.09246586101980102,
           0.09365739134763562,
           0.09452039315085617,
           0.09351043736495894,
           0.09428073488225787,
           0.0945143233535738,
           0.0937811478960442,
           0.09405500620815159
          ],
          [
           0.07911631607294271,
           0.08197891313029863,
           0.08584488199750627,
           0.08784130147779115,
           0.09020697922770032,
           0.09186542787194703,
           0.0937787600677355,
           0.09486371240025913,
           0.09463093939893967,
           0.09609993334229204,
           0.09708969236729427,
           0.09611811088489776,
           0.09734541022834801,
           0.09695975407928274,
           0.09635099679285003,
           0.09632738796824074
          ],
          [
           0.0784725199529211,
           0.08136923143840033,
           0.08497403567851343,
           0.08686069559582492,
           0.08941654659450848,
           0.09111379926881774,
           0.09352027427041229,
           0.09497965014499722,
           0.09493218298265761,
           0.0963605333130943,
           0.09765242880075121,
           0.09697066451562486,
           0.09815843929091612,
           0.09811577484896758,
           0.09741253904052408,
           0.0972072640442385
          ],
          [
           0.07878104915462372,
           0.08184171293545028,
           0.08541110345649909,
           0.0874118504953224,
           0.09021279836510068,
           0.09215775659778454,
           0.09467759219608486,
           0.09624483652971934,
           0.09627603609974425,
           0.09751330536866176,
           0.0989249140773596,
           0.09849236895281148,
           0.09949949643162179,
           0.09970139442928161,
           0.09939972363323174,
           0.09906489147487818
          ],
          [
           0.07901597534520884,
           0.08222168789875806,
           0.0859636436681632,
           0.08822981951093221,
           0.091012692985567,
           0.0933419050478649,
           0.09595256211832719,
           0.09740786175834562,
           0.09759757008833547,
           0.0986591366426932,
           0.1001659275348357,
           0.09981882132626764,
           0.10090784937939626,
           0.1008326809366849,
           0.10093072809806643,
           0.10076689804545154
          ],
          [
           0.07937815349761207,
           0.08267831490189789,
           0.0861431209772016,
           0.08843157328231792,
           0.09141996210469489,
           0.09401644613121357,
           0.0967572255399048,
           0.09827822704618197,
           0.09856620473428984,
           0.09983401386175113,
           0.10151758570174295,
           0.10101794537455575,
           0.10227799346974466,
           0.1023286851780164,
           0.10255616596212933,
           0.10244310555632914
          ],
          [
           0.0793448588797162,
           0.08270515969354134,
           0.08631975189877876,
           0.08818810077729601,
           0.09130468552724821,
           0.09349199009310041,
           0.09626582228239085,
           0.0978308846156271,
           0.09781520585062563,
           0.09921089938418352,
           0.10092284718351341,
           0.10070348440259555,
           0.10217437192270531,
           0.10250900198678833,
           0.10298567917447345,
           0.10285278138340337
          ],
          [
           0.08000428024971923,
           0.08332183904009945,
           0.08697439442560649,
           0.08854603230852771,
           0.09173848297912289,
           0.09393273707056296,
           0.09675297967148776,
           0.09825266442038937,
           0.09850443444274755,
           0.09974932686745833,
           0.10151829010592067,
           0.10138042709147152,
           0.10318393417617791,
           0.10348106168167513,
           0.10387940546532574,
           0.1038896152393011
          ],
          [
           0.08038226757128043,
           0.08386542921556907,
           0.08763584070823262,
           0.08917209177486794,
           0.0924889348304317,
           0.09423696815797973,
           0.09723687279220533,
           0.09877613164799387,
           0.09916403518205037,
           0.10031968949943898,
           0.10217606540247479,
           0.10231189852082968,
           0.10414510190014441,
           0.10452857838445669,
           0.10514485172045192,
           0.1051989604041676
          ],
          [
           0.0805402125539156,
           0.08413322956596833,
           0.08791127970984886,
           0.08961087063698198,
           0.09290846485282916,
           0.09444550482462977,
           0.09767814207929926,
           0.0990752056559056,
           0.09933672095859143,
           0.1005471897654974,
           0.10253995758203098,
           0.10289398318819289,
           0.10486850245221535,
           0.10507254654972543,
           0.1061198879051375,
           0.10596312953477349
          ],
          [
           0.0808670276344697,
           0.08451045463145378,
           0.08833254042495953,
           0.09006027696441683,
           0.09318470983168314,
           0.09494540840503278,
           0.09841475769746263,
           0.09961307981910462,
           0.09988352571110858,
           0.10122403721963452,
           0.10324476385678011,
           0.10364867004879631,
           0.1055123059638908,
           0.1056363978547157,
           0.10640148715200656,
           0.10637563175830059
          ],
          [
           0.08074636619951865,
           0.08432753425741782,
           0.08826253943332159,
           0.09010934839504964,
           0.09317730901444847,
           0.09429161479216494,
           0.09801467333202302,
           0.09926009049037128,
           0.09961302569949197,
           0.10119331016048945,
           0.10328560237804232,
           0.10373388291970105,
           0.10566772997310224,
           0.10598122998131129,
           0.10691897555545628,
           0.10692045198045405
          ],
          [
           0.08088299838771798,
           0.08461498189891875,
           0.08848587862170479,
           0.090383007143823,
           0.09324192467100997,
           0.09452200872044847,
           0.09804039669542257,
           0.09940256516783391,
           0.09995578987231718,
           0.10148804441911465,
           0.10360031679839049,
           0.10393333240396249,
           0.10609851126266828,
           0.10658787666764817,
           0.10772452341605318,
           0.10789043700180248
          ],
          [
           0.08237431349688853,
           0.08611494407793435,
           0.09000738080606895,
           0.09195284077991397,
           0.09475196948695003,
           0.09608423855320276,
           0.09960584431132692,
           0.1009872255634052,
           0.10164350595200353,
           0.10329865127489346,
           0.10545805439794213,
           0.1058656012917483,
           0.10808533054469774,
           0.10865790501892918,
           0.10978610590313095,
           0.11009883163163556
          ],
          [
           0.08279445961380183,
           0.08658305065625528,
           0.09056725126423397,
           0.09268396038056244,
           0.09555103367966576,
           0.09686474862740999,
           0.10057448067311144,
           0.10202271749299627,
           0.10282222629424957,
           0.10458547674841821,
           0.10670329830198563,
           0.10708664924594007,
           0.10915266315233633,
           0.10973350747983013,
           0.11107093081296418,
           0.11154501450128873
          ],
          [
           0.0829831960170486,
           0.08692557895102603,
           0.09096637872776858,
           0.09290513155423784,
           0.09583635906106948,
           0.09720906861712397,
           0.10085219376901684,
           0.10234032483176314,
           0.10313857374029962,
           0.1050118877757147,
           0.1071419771861165,
           0.10761083721386418,
           0.10987617054191161,
           0.11052737292900687,
           0.11203942012468268,
           0.1126189942871133
          ],
          [
           0.08299206780962043,
           0.08708322619670623,
           0.09129278102310877,
           0.09332165973657387,
           0.09617626841013652,
           0.09765629774945145,
           0.10136873500337523,
           0.10285527432465087,
           0.1036010380880259,
           0.10548498846893493,
           0.10778848298820551,
           0.10818150195085204,
           0.11023376144228375,
           0.11085720903093332,
           0.1124839235338018,
           0.1131461945110907
          ],
          [
           0.08303761371205527,
           0.08733876652854713,
           0.09154176982456674,
           0.09354675061189895,
           0.09643120872549484,
           0.09796540747625561,
           0.10173490637317092,
           0.10319777046635956,
           0.10403326588520272,
           0.10599963537999228,
           0.10836750113773817,
           0.10882400402324205,
           0.1109381827393417,
           0.11150843281263488,
           0.11310047124258199,
           0.11360611872121945
          ],
          [
           0.0830218978118403,
           0.08732387723015228,
           0.09162190518101904,
           0.0934046812678642,
           0.09631155986207833,
           0.09776240180448374,
           0.10147846052989762,
           0.10313243353333063,
           0.10411079118639574,
           0.10602243994181351,
           0.10833948401723659,
           0.10879220917577333,
           0.11099723247919753,
           0.11177893768745857,
           0.1134420619276865,
           0.11404290614892984
          ],
          [
           0.08310033279873194,
           0.08744186195637224,
           0.09175668614168918,
           0.09358061179602566,
           0.09651495682185673,
           0.09807519972505653,
           0.10188803557233583,
           0.10358429303685386,
           0.1046288501616819,
           0.10662465575654698,
           0.10895994248932057,
           0.1094270687740166,
           0.11180441847094764,
           0.11259098033475168,
           0.11429214472500505,
           0.11506737768977048
          ],
          [
           0.08315639183984085,
           0.0875253985520588,
           0.09198823310337877,
           0.09382349466754258,
           0.09680856375706774,
           0.0985040856483038,
           0.1023753278861005,
           0.10413835063070145,
           0.10502555889529543,
           0.10714126549867861,
           0.10959534730332143,
           0.11018734178555724,
           0.11252521788783805,
           0.11323013453790517,
           0.11509785305462182,
           0.11592138836167819
          ],
          [
           0.0830478888150785,
           0.0874740247654022,
           0.09202438306024746,
           0.09386018527668427,
           0.09691429061060948,
           0.09862518107873929,
           0.10256799518120355,
           0.10446233876742891,
           0.10524801234776643,
           0.1073159291810442,
           0.10989149751218646,
           0.11060620171607598,
           0.11300975419736614,
           0.11370589477125059,
           0.1157136622842778,
           0.11652597296197824
          ],
          [
           0.0830851924844321,
           0.08754209763924686,
           0.09218834897910373,
           0.09408155960245891,
           0.09724273700223969,
           0.09908850953470474,
           0.10305074318177523,
           0.10485674103558026,
           0.10559198987068862,
           0.10776672139191326,
           0.11038541567582294,
           0.11112832040328595,
           0.11367557908661764,
           0.11442796593737611,
           0.116485949855448,
           0.11735706472931544
          ],
          [
           0.08335850937782797,
           0.08760523105444454,
           0.09199523343427561,
           0.093983795157643,
           0.09722082095580366,
           0.09906914462469313,
           0.10287422096471278,
           0.10444814416553305,
           0.10516437535845553,
           0.10744685174729342,
           0.1101966158093846,
           0.11095386257107956,
           0.11316000783939052,
           0.11398846413161651,
           0.11619579340282127,
           0.11708082267222548
          ],
          [
           0.08338117618176559,
           0.08767197562767354,
           0.09208044455698863,
           0.09408935390960023,
           0.09728138396962605,
           0.09920245086343991,
           0.10310333358832816,
           0.10474626345586033,
           0.10547816324750886,
           0.10784567827578286,
           0.11060331008694219,
           0.1113447682240627,
           0.11338745129705145,
           0.11433569026972105,
           0.11670549014639003,
           0.11752587356852198
          ],
          [
           0.08355180635742009,
           0.08785742849037437,
           0.0923248168337027,
           0.09437298432757675,
           0.09749226178808659,
           0.0993617832781601,
           0.10337351608804927,
           0.10496899075011236,
           0.10545457683415012,
           0.10765139942561243,
           0.11037978592535305,
           0.11109118905000068,
           0.11313083049958257,
           0.11411729737071336,
           0.1161679768993235,
           0.11700164332653079
          ]
         ]
        }
       ],
       "layout": {
        "height": 489.99999999999994,
        "legend": {
         "orientation": "h",
         "traceorder": "normal",
         "x": 1,
         "xanchor": "right",
         "y": 1.02,
         "yanchor": "bottom"
        },
        "margin": {
         "b": 30,
         "l": 30,
         "r": 30,
         "t": 30
        },
        "template": {
         "data": {
          "bar": [
           {
            "error_x": {
             "color": "#2a3f5f"
            },
            "error_y": {
             "color": "#2a3f5f"
            },
            "marker": {
             "line": {
              "color": "#E5ECF6",
              "width": 0.5
             }
            },
            "type": "bar"
           }
          ],
          "barpolar": [
           {
            "marker": {
             "line": {
              "color": "#E5ECF6",
              "width": 0.5
             }
            },
            "type": "barpolar"
           }
          ],
          "carpet": [
           {
            "aaxis": {
             "endlinecolor": "#2a3f5f",
             "gridcolor": "white",
             "linecolor": "white",
             "minorgridcolor": "white",
             "startlinecolor": "#2a3f5f"
            },
            "baxis": {
             "endlinecolor": "#2a3f5f",
             "gridcolor": "white",
             "linecolor": "white",
             "minorgridcolor": "white",
             "startlinecolor": "#2a3f5f"
            },
            "type": "carpet"
           }
          ],
          "choropleth": [
           {
            "colorbar": {
             "outlinewidth": 0,
             "ticks": ""
            },
            "type": "choropleth"
           }
          ],
          "contour": [
           {
            "colorbar": {
             "outlinewidth": 0,
             "ticks": ""
            },
            "colorscale": [
             [
              0,
              "#0d0887"
             ],
             [
              0.1111111111111111,
              "#46039f"
             ],
             [
              0.2222222222222222,
              "#7201a8"
             ],
             [
              0.3333333333333333,
              "#9c179e"
             ],
             [
              0.4444444444444444,
              "#bd3786"
             ],
             [
              0.5555555555555556,
              "#d8576b"
             ],
             [
              0.6666666666666666,
              "#ed7953"
             ],
             [
              0.7777777777777778,
              "#fb9f3a"
             ],
             [
              0.8888888888888888,
              "#fdca26"
             ],
             [
              1,
              "#f0f921"
             ]
            ],
            "type": "contour"
           }
          ],
          "contourcarpet": [
           {
            "colorbar": {
             "outlinewidth": 0,
             "ticks": ""
            },
            "type": "contourcarpet"
           }
          ],
          "heatmap": [
           {
            "colorbar": {
             "outlinewidth": 0,
             "ticks": ""
            },
            "colorscale": [
             [
              0,
              "#0d0887"
             ],
             [
              0.1111111111111111,
              "#46039f"
             ],
             [
              0.2222222222222222,
              "#7201a8"
             ],
             [
              0.3333333333333333,
              "#9c179e"
             ],
             [
              0.4444444444444444,
              "#bd3786"
             ],
             [
              0.5555555555555556,
              "#d8576b"
             ],
             [
              0.6666666666666666,
              "#ed7953"
             ],
             [
              0.7777777777777778,
              "#fb9f3a"
             ],
             [
              0.8888888888888888,
              "#fdca26"
             ],
             [
              1,
              "#f0f921"
             ]
            ],
            "type": "heatmap"
           }
          ],
          "heatmapgl": [
           {
            "colorbar": {
             "outlinewidth": 0,
             "ticks": ""
            },
            "colorscale": [
             [
              0,
              "#0d0887"
             ],
             [
              0.1111111111111111,
              "#46039f"
             ],
             [
              0.2222222222222222,
              "#7201a8"
             ],
             [
              0.3333333333333333,
              "#9c179e"
             ],
             [
              0.4444444444444444,
              "#bd3786"
             ],
             [
              0.5555555555555556,
              "#d8576b"
             ],
             [
              0.6666666666666666,
              "#ed7953"
             ],
             [
              0.7777777777777778,
              "#fb9f3a"
             ],
             [
              0.8888888888888888,
              "#fdca26"
             ],
             [
              1,
              "#f0f921"
             ]
            ],
            "type": "heatmapgl"
           }
          ],
          "histogram": [
           {
            "marker": {
             "colorbar": {
              "outlinewidth": 0,
              "ticks": ""
             }
            },
            "type": "histogram"
           }
          ],
          "histogram2d": [
           {
            "colorbar": {
             "outlinewidth": 0,
             "ticks": ""
            },
            "colorscale": [
             [
              0,
              "#0d0887"
             ],
             [
              0.1111111111111111,
              "#46039f"
             ],
             [
              0.2222222222222222,
              "#7201a8"
             ],
             [
              0.3333333333333333,
              "#9c179e"
             ],
             [
              0.4444444444444444,
              "#bd3786"
             ],
             [
              0.5555555555555556,
              "#d8576b"
             ],
             [
              0.6666666666666666,
              "#ed7953"
             ],
             [
              0.7777777777777778,
              "#fb9f3a"
             ],
             [
              0.8888888888888888,
              "#fdca26"
             ],
             [
              1,
              "#f0f921"
             ]
            ],
            "type": "histogram2d"
           }
          ],
          "histogram2dcontour": [
           {
            "colorbar": {
             "outlinewidth": 0,
             "ticks": ""
            },
            "colorscale": [
             [
              0,
              "#0d0887"
             ],
             [
              0.1111111111111111,
              "#46039f"
             ],
             [
              0.2222222222222222,
              "#7201a8"
             ],
             [
              0.3333333333333333,
              "#9c179e"
             ],
             [
              0.4444444444444444,
              "#bd3786"
             ],
             [
              0.5555555555555556,
              "#d8576b"
             ],
             [
              0.6666666666666666,
              "#ed7953"
             ],
             [
              0.7777777777777778,
              "#fb9f3a"
             ],
             [
              0.8888888888888888,
              "#fdca26"
             ],
             [
              1,
              "#f0f921"
             ]
            ],
            "type": "histogram2dcontour"
           }
          ],
          "mesh3d": [
           {
            "colorbar": {
             "outlinewidth": 0,
             "ticks": ""
            },
            "type": "mesh3d"
           }
          ],
          "parcoords": [
           {
            "line": {
             "colorbar": {
              "outlinewidth": 0,
              "ticks": ""
             }
            },
            "type": "parcoords"
           }
          ],
          "pie": [
           {
            "automargin": true,
            "type": "pie"
           }
          ],
          "scatter": [
           {
            "marker": {
             "colorbar": {
              "outlinewidth": 0,
              "ticks": ""
             }
            },
            "type": "scatter"
           }
          ],
          "scatter3d": [
           {
            "line": {
             "colorbar": {
              "outlinewidth": 0,
              "ticks": ""
             }
            },
            "marker": {
             "colorbar": {
              "outlinewidth": 0,
              "ticks": ""
             }
            },
            "type": "scatter3d"
           }
          ],
          "scattercarpet": [
           {
            "marker": {
             "colorbar": {
              "outlinewidth": 0,
              "ticks": ""
             }
            },
            "type": "scattercarpet"
           }
          ],
          "scattergeo": [
           {
            "marker": {
             "colorbar": {
              "outlinewidth": 0,
              "ticks": ""
             }
            },
            "type": "scattergeo"
           }
          ],
          "scattergl": [
           {
            "marker": {
             "colorbar": {
              "outlinewidth": 0,
              "ticks": ""
             }
            },
            "type": "scattergl"
           }
          ],
          "scattermapbox": [
           {
            "marker": {
             "colorbar": {
              "outlinewidth": 0,
              "ticks": ""
             }
            },
            "type": "scattermapbox"
           }
          ],
          "scatterpolar": [
           {
            "marker": {
             "colorbar": {
              "outlinewidth": 0,
              "ticks": ""
             }
            },
            "type": "scatterpolar"
           }
          ],
          "scatterpolargl": [
           {
            "marker": {
             "colorbar": {
              "outlinewidth": 0,
              "ticks": ""
             }
            },
            "type": "scatterpolargl"
           }
          ],
          "scatterternary": [
           {
            "marker": {
             "colorbar": {
              "outlinewidth": 0,
              "ticks": ""
             }
            },
            "type": "scatterternary"
           }
          ],
          "surface": [
           {
            "colorbar": {
             "outlinewidth": 0,
             "ticks": ""
            },
            "colorscale": [
             [
              0,
              "#0d0887"
             ],
             [
              0.1111111111111111,
              "#46039f"
             ],
             [
              0.2222222222222222,
              "#7201a8"
             ],
             [
              0.3333333333333333,
              "#9c179e"
             ],
             [
              0.4444444444444444,
              "#bd3786"
             ],
             [
              0.5555555555555556,
              "#d8576b"
             ],
             [
              0.6666666666666666,
              "#ed7953"
             ],
             [
              0.7777777777777778,
              "#fb9f3a"
             ],
             [
              0.8888888888888888,
              "#fdca26"
             ],
             [
              1,
              "#f0f921"
             ]
            ],
            "type": "surface"
           }
          ],
          "table": [
           {
            "cells": {
             "fill": {
              "color": "#EBF0F8"
             },
             "line": {
              "color": "white"
             }
            },
            "header": {
             "fill": {
              "color": "#C8D4E3"
             },
             "line": {
              "color": "white"
             }
            },
            "type": "table"
           }
          ]
         },
         "layout": {
          "annotationdefaults": {
           "arrowcolor": "#2a3f5f",
           "arrowhead": 0,
           "arrowwidth": 1
          },
          "coloraxis": {
           "colorbar": {
            "outlinewidth": 0,
            "ticks": ""
           }
          },
          "colorscale": {
           "diverging": [
            [
             0,
             "#8e0152"
            ],
            [
             0.1,
             "#c51b7d"
            ],
            [
             0.2,
             "#de77ae"
            ],
            [
             0.3,
             "#f1b6da"
            ],
            [
             0.4,
             "#fde0ef"
            ],
            [
             0.5,
             "#f7f7f7"
            ],
            [
             0.6,
             "#e6f5d0"
            ],
            [
             0.7,
             "#b8e186"
            ],
            [
             0.8,
             "#7fbc41"
            ],
            [
             0.9,
             "#4d9221"
            ],
            [
             1,
             "#276419"
            ]
           ],
           "sequential": [
            [
             0,
             "#0d0887"
            ],
            [
             0.1111111111111111,
             "#46039f"
            ],
            [
             0.2222222222222222,
             "#7201a8"
            ],
            [
             0.3333333333333333,
             "#9c179e"
            ],
            [
             0.4444444444444444,
             "#bd3786"
            ],
            [
             0.5555555555555556,
             "#d8576b"
            ],
            [
             0.6666666666666666,
             "#ed7953"
            ],
            [
             0.7777777777777778,
             "#fb9f3a"
            ],
            [
             0.8888888888888888,
             "#fdca26"
            ],
            [
             1,
             "#f0f921"
            ]
           ],
           "sequentialminus": [
            [
             0,
             "#0d0887"
            ],
            [
             0.1111111111111111,
             "#46039f"
            ],
            [
             0.2222222222222222,
             "#7201a8"
            ],
            [
             0.3333333333333333,
             "#9c179e"
            ],
            [
             0.4444444444444444,
             "#bd3786"
            ],
            [
             0.5555555555555556,
             "#d8576b"
            ],
            [
             0.6666666666666666,
             "#ed7953"
            ],
            [
             0.7777777777777778,
             "#fb9f3a"
            ],
            [
             0.8888888888888888,
             "#fdca26"
            ],
            [
             1,
             "#f0f921"
            ]
           ]
          },
          "colorway": [
           "#1f77b4",
           "#ff7f0e",
           "#2ca02c",
           "#dc3912",
           "#9467bd",
           "#8c564b",
           "#e377c2",
           "#7f7f7f",
           "#bcbd22",
           "#17becf"
          ],
          "font": {
           "color": "#2a3f5f"
          },
          "geo": {
           "bgcolor": "white",
           "lakecolor": "white",
           "landcolor": "#E5ECF6",
           "showlakes": true,
           "showland": true,
           "subunitcolor": "white"
          },
          "hoverlabel": {
           "align": "left"
          },
          "hovermode": "closest",
          "mapbox": {
           "style": "light"
          },
          "paper_bgcolor": "white",
          "plot_bgcolor": "#E5ECF6",
          "polar": {
           "angularaxis": {
            "gridcolor": "white",
            "linecolor": "white",
            "ticks": ""
           },
           "bgcolor": "#E5ECF6",
           "radialaxis": {
            "gridcolor": "white",
            "linecolor": "white",
            "ticks": ""
           }
          },
          "scene": {
           "xaxis": {
            "backgroundcolor": "#E5ECF6",
            "gridcolor": "white",
            "gridwidth": 2,
            "linecolor": "white",
            "showbackground": true,
            "ticks": "",
            "zerolinecolor": "white"
           },
           "yaxis": {
            "backgroundcolor": "#E5ECF6",
            "gridcolor": "white",
            "gridwidth": 2,
            "linecolor": "white",
            "showbackground": true,
            "ticks": "",
            "zerolinecolor": "white"
           },
           "zaxis": {
            "backgroundcolor": "#E5ECF6",
            "gridcolor": "white",
            "gridwidth": 2,
            "linecolor": "white",
            "showbackground": true,
            "ticks": "",
            "zerolinecolor": "white"
           }
          },
          "shapedefaults": {
           "line": {
            "color": "#2a3f5f"
           }
          },
          "ternary": {
           "aaxis": {
            "gridcolor": "white",
            "linecolor": "white",
            "ticks": ""
           },
           "baxis": {
            "gridcolor": "white",
            "linecolor": "white",
            "ticks": ""
           },
           "bgcolor": "#E5ECF6",
           "caxis": {
            "gridcolor": "white",
            "linecolor": "white",
            "ticks": ""
           }
          },
          "title": {
           "x": 0.05
          },
          "xaxis": {
           "automargin": true,
           "gridcolor": "white",
           "linecolor": "white",
           "ticks": "",
           "title": {
            "standoff": 15
           },
           "zerolinecolor": "white",
           "zerolinewidth": 2
          },
          "yaxis": {
           "automargin": true,
           "gridcolor": "white",
           "linecolor": "white",
           "ticks": "",
           "title": {
            "standoff": 15
           },
           "zerolinecolor": "white",
           "zerolinewidth": 2
          }
         }
        },
        "width": 524,
        "xaxis": {
         "title": {
          "text": "PB_entry"
         }
        },
        "yaxis": {
         "title": {
          "text": "PB_exit"
         }
        }
       }
      }
     },
     "metadata": {},
     "output_type": "display_data"
    }
   ],
   "source": [
    "master = pd.concat(master_pf).groupby([\"Sc_entry\", \"Sc_exit\"]).mean()\n",
    "fig = master.vbt.heatmap(\n",
    "        x_level=\"Sc_entry\",\n",
    "        y_level=\"Sc_exit\"\n",
    ")\n",
    "\n",
    "fig.show()"
   ]
  },
  {
   "attachments": {},
   "cell_type": "markdown",
   "metadata": {},
   "source": [
    "# 挑越多股票越好"
   ]
  },
  {
   "cell_type": "code",
   "execution_count": 120,
   "metadata": {},
   "outputs": [
    {
     "data": {
      "application/vnd.plotly.v1+json": {
       "config": {
        "plotlyServerURL": "https://plot.ly"
       },
       "data": [
        {
         "colorscale": [
          [
           0,
           "#0d0887"
          ],
          [
           0.1111111111111111,
           "#46039f"
          ],
          [
           0.2222222222222222,
           "#7201a8"
          ],
          [
           0.3333333333333333,
           "#9c179e"
          ],
          [
           0.4444444444444444,
           "#bd3786"
          ],
          [
           0.5555555555555556,
           "#d8576b"
          ],
          [
           0.6666666666666666,
           "#ed7953"
          ],
          [
           0.7777777777777778,
           "#fb9f3a"
          ],
          [
           0.8888888888888888,
           "#fdca26"
          ],
          [
           1,
           "#f0f921"
          ]
         ],
         "hoverongaps": false,
         "hovertemplate": "Sc_entry: %{x}<br>Sc_exit: %{y}<br>value: %{z}<extra></extra>",
         "type": "heatmap",
         "uid": "1b11412a-da8f-4937-8529-ae285a06e123",
         "x": [
          1,
          2,
          3,
          4,
          5,
          6,
          7,
          8,
          9,
          10,
          11,
          12,
          13,
          14,
          15,
          16,
          17,
          18,
          19,
          20,
          21,
          22,
          23,
          24,
          25,
          26,
          27,
          28,
          29,
          30,
          31,
          32,
          33,
          34,
          35,
          36,
          37,
          38,
          39,
          40,
          41,
          42,
          43,
          44,
          45,
          46,
          47,
          48,
          49,
          50
         ],
         "y": [
          52,
          53,
          54,
          55,
          56,
          57,
          58,
          59,
          60,
          61,
          62,
          63,
          64,
          65,
          66,
          67,
          68,
          69,
          70,
          71,
          72,
          73,
          74,
          75,
          76,
          77,
          78,
          79,
          80,
          81,
          82,
          83,
          84,
          85,
          86,
          87,
          88,
          89,
          90,
          91,
          92,
          93,
          94,
          95,
          96,
          97,
          98,
          99,
          100
         ],
         "z": [
          [
           0.0010287522683011439,
           0.0015197341270230332,
           0.002236251356796848,
           0.0027831448975731126,
           0.0031782278209961544,
           0.003611815541082773,
           0.0039258348221296105,
           0.004145766584614756,
           0.0045258968298969,
           0.0046867847468726785,
           0.0049760056047591875,
           0.005334301815279599,
           0.005543027799128355,
           0.00568417080606734,
           0.0058107818388703795,
           0.005926242254299979,
           0.005940224284979865,
           0.006105344345903677,
           0.006163152334938839,
           0.006311656703617207,
           0.006382356193724123,
           0.006583072074910622,
           0.006685631647994373,
           0.006745151841298847,
           0.0068180048786253495,
           0.006919563179534047,
           0.006879240964200395,
           0.006962562816994929,
           0.007136552147089436,
           0.007137206985994055,
           0.007142829309383891,
           0.007213602956953126,
           0.007325583400786757,
           0.007318749683274188,
           0.007385812405443524,
           0.00735990273189172,
           0.007397269961784044,
           0.007464450712610002,
           0.007485302768500035,
           0.007452412710835816,
           0.007482892724353814,
           0.007537886181169533,
           0.007551310181062975,
           0.007620922604740678,
           0.007567007581175931,
           0.007571411439989705,
           0.007603497157077708,
           0.007534121789233023,
           0.007528004490416435,
           0.0075096732632832204
          ],
          [
           0.0010303691179610359,
           0.001505828229450418,
           0.002207863631919192,
           0.002757880298473883,
           0.0031545145982405393,
           0.003609415200557066,
           0.0039496023741032345,
           0.004176639870209418,
           0.004544979482666059,
           0.004691713434024095,
           0.004980605888449868,
           0.005343206964686994,
           0.005555879455517956,
           0.005687517256846796,
           0.00581937427433708,
           0.005946792199243225,
           0.005956916922427504,
           0.006118343882099479,
           0.006177442374066323,
           0.006326796574136919,
           0.006407992734430508,
           0.006602294187907589,
           0.006704875016209128,
           0.006766975825470246,
           0.006850499852469304,
           0.006952393296549126,
           0.0069091456659781504,
           0.0070009792300411225,
           0.007177148955929693,
           0.007180851899563108,
           0.007188710557828425,
           0.007264089538144834,
           0.007371167811078976,
           0.00736258514434922,
           0.007428201975416352,
           0.007397683935045291,
           0.007437328733958689,
           0.007496960493909752,
           0.007514391483857448,
           0.00748155152285493,
           0.00750599202123024,
           0.00756936255332727,
           0.007588758515004744,
           0.007659041472901792,
           0.00760505681415746,
           0.007617197955451444,
           0.00764814484880635,
           0.007578658249220753,
           0.007579727700132243,
           0.007564530607280124
          ],
          [
           0.0010265468434288957,
           0.001515708568217701,
           0.002240945955061387,
           0.0027916068677852073,
           0.003181255779606035,
           0.0036348761915198815,
           0.003982846084043628,
           0.004189723229420878,
           0.004547974544631635,
           0.004692617904770762,
           0.004978910647712244,
           0.005345624347580991,
           0.005553456074232195,
           0.005681934915037482,
           0.005813270930480261,
           0.005939599712482892,
           0.005961261831726811,
           0.006112792512492884,
           0.006182648082842459,
           0.00634024003441925,
           0.006421010708188675,
           0.006615043845828104,
           0.006712834754957268,
           0.006774095797175272,
           0.006861058271564793,
           0.006960299695850452,
           0.006915419403303608,
           0.007009307130117498,
           0.007181034731603676,
           0.007191653806640589,
           0.007199580726548917,
           0.007277145722494872,
           0.0073875175357211885,
           0.007383336649990337,
           0.0074531056086148805,
           0.007427063116356435,
           0.007474890594455279,
           0.007535800699508807,
           0.007556922736515116,
           0.007528696673703682,
           0.0075528537620730765,
           0.007612781721036692,
           0.007632930225279962,
           0.007705303533780428,
           0.0076503285805704395,
           0.0076606997168072385,
           0.007693580668905464,
           0.0076233825854082156,
           0.007625214005286889,
           0.0076127366335869175
          ],
          [
           0.0010269126819059823,
           0.001515266135252701,
           0.0022356999177186357,
           0.00278730809666836,
           0.003170477788595327,
           0.0036431963558696584,
           0.003996060565441677,
           0.00420840577264824,
           0.004580625320350459,
           0.004734058766824592,
           0.005027810516695039,
           0.00539417033153819,
           0.0056126082664931885,
           0.005741432644899859,
           0.005875296845477762,
           0.006000137193432672,
           0.006017823989558591,
           0.006175077529151129,
           0.006246953505459647,
           0.0064071073428064625,
           0.006494728129634291,
           0.006690184983904762,
           0.006790667901649865,
           0.006857324370225527,
           0.006935759359788682,
           0.007035620021666802,
           0.006991001026624597,
           0.007080680527941025,
           0.007247292050141343,
           0.0072501795857185716,
           0.007257473340862487,
           0.00733760093667357,
           0.007471049443628102,
           0.007465934369072288,
           0.0075345063651555255,
           0.007515412940548258,
           0.007567647212611533,
           0.007633269559389725,
           0.007651779105615376,
           0.007621433539507881,
           0.0076581281988514814,
           0.007715173648720178,
           0.007733876706828258,
           0.007810237783867344,
           0.0077517416331985105,
           0.007761295049650967,
           0.007797179826946949,
           0.007736422722351817,
           0.007735741357820675,
           0.007720248827149177
          ],
          [
           0.0010429689569364394,
           0.0015301111150076672,
           0.002256500094525452,
           0.0028084795627322297,
           0.003183175713976281,
           0.0036680257461455985,
           0.004033205049887144,
           0.0042483321278190935,
           0.004611819678952463,
           0.004758902939325179,
           0.005068970610987143,
           0.005434654901587894,
           0.005645127635245142,
           0.005774113252166333,
           0.005911050546590751,
           0.0060312786399173935,
           0.006050903690412495,
           0.006208837379149283,
           0.006286096407152926,
           0.006447874442903766,
           0.006534226533395205,
           0.006723817329725085,
           0.006824576814589566,
           0.006890520557672101,
           0.006975947644949664,
           0.00707950139441315,
           0.007038701007769096,
           0.007132069020629568,
           0.007306551066826812,
           0.0073148855054162056,
           0.007322484418801976,
           0.007411298991122905,
           0.007544661412713472,
           0.007547880621241734,
           0.007619962879266554,
           0.007604113255015402,
           0.007656932442413372,
           0.007718521152736499,
           0.007740931608152114,
           0.007711920294724923,
           0.007760263936691899,
           0.007822899167146237,
           0.007840000929739037,
           0.007913150777467326,
           0.007859055985255894,
           0.00786963016834984,
           0.007906246636349921,
           0.007840223576756011,
           0.007838173096476005,
           0.007823972965849019
          ],
          [
           0.001051928683665621,
           0.0015403098845596607,
           0.0022756953676354896,
           0.002832883794709374,
           0.003204287102771078,
           0.0036866975911241744,
           0.004060874397117516,
           0.004283386399305105,
           0.004639285730632769,
           0.004790850684914214,
           0.005101538345755118,
           0.005472515763419113,
           0.005688080287025913,
           0.005814052825723939,
           0.005954858129631135,
           0.006078887448959792,
           0.006103508314183575,
           0.006258831366056808,
           0.006334416463527606,
           0.006494444738041062,
           0.0065925058874209096,
           0.006780398884465879,
           0.006881229340829904,
           0.0069481146345908434,
           0.007032302741442489,
           0.00713024666076303,
           0.007087972856910073,
           0.007177132662094206,
           0.007352860898594032,
           0.007361273392954286,
           0.0073695134359188785,
           0.007463838075430539,
           0.007598965000407655,
           0.007602233237747103,
           0.007669829607869195,
           0.007653503764617103,
           0.007699828008352151,
           0.007769176616177903,
           0.007795011164170934,
           0.007768759283629658,
           0.00782183057235205,
           0.007886498926094858,
           0.007908104552333062,
           0.00798943177046779,
           0.007937364073508759,
           0.007950844146618405,
           0.007986026595137126,
           0.007922062145111163,
           0.007918923779774718,
           0.007902651211612353
          ],
          [
           0.0010593648854014008,
           0.0015460007407079965,
           0.0022762357925464782,
           0.0028372906520183236,
           0.0032119682229266935,
           0.0036973609654109923,
           0.004069109818309711,
           0.0042952947963587566,
           0.004649976112293209,
           0.004807987443800039,
           0.005119941697428802,
           0.005493066922480416,
           0.0057043673757256694,
           0.005834584647601927,
           0.005980416992114748,
           0.0061058775157919,
           0.006133893450074759,
           0.006285418846133719,
           0.006369239291133631,
           0.006532256557229162,
           0.0066379385002471,
           0.006829380517974314,
           0.006930177311549724,
           0.006988678235846627,
           0.007066156995334286,
           0.0071649670506612065,
           0.007123836716309086,
           0.007215102140397556,
           0.007402138543374445,
           0.007412635657216591,
           0.007423447966830925,
           0.007524778963780499,
           0.007660469843095138,
           0.007672594519368503,
           0.007738932586074024,
           0.00772531279857897,
           0.0077826230985476065,
           0.00785904347000569,
           0.007887986269826812,
           0.007857434995683197,
           0.007914985553197182,
           0.007978691897076642,
           0.008002218163008,
           0.008073170702931681,
           0.008021930134434235,
           0.008033531815570205,
           0.008069653863278016,
           0.008007207047494828,
           0.00799273253339872,
           0.007976990372018896
          ],
          [
           0.0010501197658996278,
           0.0015503900089071415,
           0.0022767348441047877,
           0.0028539525438034926,
           0.0032254979316623925,
           0.003706252019483186,
           0.004078214456983714,
           0.0043017583016213105,
           0.0046491563276939655,
           0.004802570833426952,
           0.005113481710912676,
           0.005497190356433369,
           0.005706781376150542,
           0.005854964648876852,
           0.006003293259028258,
           0.006128374945403596,
           0.006158595014051418,
           0.006315884214702291,
           0.006400079178398479,
           0.006556265413362233,
           0.006667687860341972,
           0.006865723439725728,
           0.006963374116005344,
           0.00701967866063005,
           0.00710332564521235,
           0.007204133846368398,
           0.007164295197052695,
           0.007256479691753747,
           0.007440258319558273,
           0.007447945017603855,
           0.007455343702669324,
           0.00755478944090927,
           0.007692198764752283,
           0.007704100595810644,
           0.0077730139810270995,
           0.007755564660334328,
           0.007819335017583815,
           0.007905027879193633,
           0.007930757747545635,
           0.007907226917364037,
           0.007970393942652367,
           0.008033572679608273,
           0.008057188533565579,
           0.008134902467585482,
           0.00809559578429389,
           0.008110756008198132,
           0.008153183759840768,
           0.00808675700188936,
           0.008068397795703786,
           0.008056308888439907
          ],
          [
           0.0010525550822255974,
           0.0015513294797665986,
           0.0022762791998806806,
           0.0028602813835104076,
           0.0032384754863522074,
           0.0037623838903510787,
           0.00413126810680926,
           0.004356379574099861,
           0.004701426493563985,
           0.0048540700378372935,
           0.005161023508084297,
           0.005549638968357342,
           0.005757442714190414,
           0.005906674462863187,
           0.006054483546320361,
           0.006177414988949211,
           0.006190341213760467,
           0.006345132857057108,
           0.006436630191506671,
           0.006601430685106362,
           0.006717938234890615,
           0.006920379697564028,
           0.007013989671420812,
           0.007069165064839641,
           0.007155222357992938,
           0.007223400427903335,
           0.007188622175300936,
           0.007293150923970548,
           0.007479225552997327,
           0.007488956692517061,
           0.007493988048651027,
           0.0075920133991875405,
           0.007728097941213784,
           0.007736674802795765,
           0.00780724517932793,
           0.007792719974873805,
           0.007858397875702123,
           0.00794744449163616,
           0.007972510348468551,
           0.007944011941977849,
           0.008011625065201167,
           0.008074432899624237,
           0.008103826656452158,
           0.008180277660806314,
           0.008144191321225748,
           0.008157999859178205,
           0.008196738861901786,
           0.008124284622217358,
           0.008107585974507572,
           0.008091102815757588
          ],
          [
           0.0010385624446152418,
           0.0015390909702673954,
           0.0022630134006227103,
           0.002852996334524441,
           0.003217136867076499,
           0.003741341589008188,
           0.004114798432045236,
           0.004347606001445833,
           0.004689168890139267,
           0.004841125740105432,
           0.005153427718154171,
           0.00554733387236159,
           0.005764265123872906,
           0.005904987231371934,
           0.006049409753949698,
           0.006169027067244186,
           0.006187655515181551,
           0.006338929718713235,
           0.006426168565227028,
           0.006592986500591512,
           0.00671936603475268,
           0.006926390101289585,
           0.007016435057271684,
           0.007060574360981407,
           0.007141954249388677,
           0.007209185920911025,
           0.007172265577841997,
           0.0072677706551366765,
           0.007471491521665723,
           0.007474069167093205,
           0.0074893326092886695,
           0.007586053755716818,
           0.007720504417426005,
           0.00773104942678628,
           0.007813640671421748,
           0.00780260996860647,
           0.007863688133055713,
           0.007952467837383513,
           0.00797490423044443,
           0.007944718974078536,
           0.008012672342492543,
           0.008076718563650404,
           0.008106192225421178,
           0.008181901141701241,
           0.008153665243247158,
           0.008166215588760949,
           0.008206815595318185,
           0.008136029963124966,
           0.008124981902219053,
           0.0081045707972215
          ],
          [
           0.0010408971503240608,
           0.0015562825768307544,
           0.002280062691778796,
           0.0028712563910719613,
           0.003228748063645171,
           0.0037522148582222843,
           0.004129241679511936,
           0.004355769297586382,
           0.004693983026616706,
           0.004839980637789378,
           0.005155288081467788,
           0.005541256482243222,
           0.005770652827985579,
           0.005900698834145399,
           0.006046222882595127,
           0.006162184242187778,
           0.006180885742409792,
           0.006330318699770735,
           0.006415110834487121,
           0.006577636432564121,
           0.006712967653243117,
           0.006919374812689781,
           0.006999103745072086,
           0.00704863153492351,
           0.007123676416360997,
           0.007192424169616133,
           0.007154139660758614,
           0.007254109611863328,
           0.007453166230211228,
           0.007458433698530518,
           0.007477456245025249,
           0.007575962603025143,
           0.007716680439514859,
           0.007729086047759796,
           0.007809989511414412,
           0.007810541560905089,
           0.007871120989788562,
           0.007961023694199999,
           0.007983437868805733,
           0.007951736179223977,
           0.008017435686337983,
           0.008081751286623827,
           0.008118486769632805,
           0.008195693769085225,
           0.008156609123500852,
           0.008170820130465379,
           0.008218884201014269,
           0.008139372170385899,
           0.008131357068794873,
           0.008110458400764811
          ],
          [
           0.001039272609293916,
           0.0015448572609925732,
           0.0022739443551495916,
           0.002864244027689665,
           0.0032653610225848078,
           0.003806856406064909,
           0.004157156103706532,
           0.004371566892756042,
           0.004698373026824092,
           0.004839201430539965,
           0.005147394925748716,
           0.0055404540812227015,
           0.005765930760046071,
           0.005895096989820774,
           0.006037636201726196,
           0.006156513030064121,
           0.006186705425566981,
           0.006348295496391224,
           0.006435295172751741,
           0.006596517379815168,
           0.006736680472794354,
           0.006939108624571032,
           0.00702561706024717,
           0.007077411186248523,
           0.007152455063779695,
           0.007227497499181982,
           0.007192761899820232,
           0.007285747359820714,
           0.007483813998959169,
           0.007489507657646194,
           0.007509607788666512,
           0.00761051400941924,
           0.007763183638567045,
           0.0077702656112630325,
           0.007846372390036523,
           0.007848024935657744,
           0.007914631390915135,
           0.008001579837326845,
           0.008019523309034089,
           0.007991678183684122,
           0.008062125254786747,
           0.008123296698017623,
           0.008154830906480478,
           0.008226238939002572,
           0.008192762172619664,
           0.008214042231540772,
           0.008265831078883235,
           0.008188432747277617,
           0.0081787751158261,
           0.008159123957882434
          ],
          [
           0.0010418558839668836,
           0.0015431579289678545,
           0.002267558730562493,
           0.0028538905519190317,
           0.003255467333517477,
           0.0038004001115973444,
           0.004147187821704177,
           0.004362023136350796,
           0.004691183922860478,
           0.0048311078892011245,
           0.005135504799271917,
           0.005524078860990324,
           0.005749762386978314,
           0.005878132739774855,
           0.006016056782909878,
           0.0061328615624828275,
           0.006164808651893288,
           0.00632654406993472,
           0.006418264532538435,
           0.0065798926492961615,
           0.006723491573217964,
           0.006922704029297822,
           0.007014393946762987,
           0.0070698892516308605,
           0.007146948826736437,
           0.007220413991117012,
           0.007186639091518657,
           0.007284659802936695,
           0.007480680140844522,
           0.007489763145987224,
           0.007512330054216819,
           0.007619028240811528,
           0.0077694664540943195,
           0.007775891388518785,
           0.007851648084403483,
           0.007858613342910131,
           0.007925504306981692,
           0.008018322358354804,
           0.008031383666134635,
           0.00800092739088603,
           0.008073427333750957,
           0.008139037724562726,
           0.008170251636988401,
           0.008245661125418436,
           0.00821593176002227,
           0.008232392578887145,
           0.008280138548714903,
           0.008206352677772862,
           0.008202846445793551,
           0.008184940041330625
          ],
          [
           0.0010517379238933497,
           0.0015636959820574995,
           0.002288993409399192,
           0.002852108108382138,
           0.003246204853662862,
           0.003794862737136247,
           0.004139822775899802,
           0.004348720600094955,
           0.004681751737829272,
           0.004843673929436507,
           0.005144786071426855,
           0.005539834513568913,
           0.005768935877409401,
           0.0059018306601052485,
           0.0060420397010732775,
           0.00616778020968198,
           0.0061871902220534845,
           0.006346939847614941,
           0.0064410546620919705,
           0.006584433315619624,
           0.006728571753967102,
           0.006921640077128403,
           0.007012383972095096,
           0.007060418075764577,
           0.007142562845106037,
           0.007218486184232519,
           0.007191316813906678,
           0.007288105617168233,
           0.007485210615306207,
           0.007494442301453583,
           0.007524220196305252,
           0.007636871154672193,
           0.007784418263287565,
           0.007789466847608707,
           0.00787236018527873,
           0.007876260664507325,
           0.007938813653681305,
           0.008035644813343831,
           0.008044493390456653,
           0.00801736884278793,
           0.008089072291330825,
           0.00815798198072309,
           0.008184258712281098,
           0.008266059917727726,
           0.008238369227471252,
           0.008259577731517163,
           0.00830238895784461,
           0.008233799663549132,
           0.00822672397110001,
           0.008209417647869003
          ],
          [
           0.0010623071183900404,
           0.0015764107416332406,
           0.0022869279250250373,
           0.0028489945535243155,
           0.00326436273455439,
           0.0038136227730003877,
           0.004159219800538561,
           0.004363692313864408,
           0.00470225131150077,
           0.004858885540694252,
           0.005155193805852526,
           0.005547367649216981,
           0.005773857607072691,
           0.0059091639138098475,
           0.006052779549029004,
           0.006175414669576841,
           0.006187322268429365,
           0.00634469961711659,
           0.006437176529923513,
           0.006583015406949824,
           0.0067356433933319585,
           0.006931643104314084,
           0.007025414882911249,
           0.007073796974616275,
           0.007159525224778076,
           0.007233372676873302,
           0.007202545331073045,
           0.0073046814706322636,
           0.007501314697080648,
           0.007502482743849859,
           0.007545690151368859,
           0.007663001400109258,
           0.007804074984870964,
           0.007814952245583979,
           0.007902284874282087,
           0.00791253744943783,
           0.007982958767353878,
           0.008077153985825584,
           0.00809103400257602,
           0.008056667201666283,
           0.008129256105940988,
           0.00820291200009717,
           0.008227838408612303,
           0.008311727641500833,
           0.008280628201458374,
           0.008300348215844541,
           0.008339545033530437,
           0.008268094276449454,
           0.008258664422870604,
           0.00824444235603378
          ],
          [
           0.0010528648027023978,
           0.0015678709950256865,
           0.002280567946735284,
           0.002838957195295299,
           0.003255050057700389,
           0.0038030137160117946,
           0.004144863698340483,
           0.004342629055019884,
           0.0046812941920152005,
           0.004831266481007393,
           0.005131658328956228,
           0.005530241342334163,
           0.0057522545895385664,
           0.00589339935714353,
           0.006042000410290161,
           0.006171042626870149,
           0.006182579187435035,
           0.006350245769434924,
           0.006449505673041612,
           0.006597940392016176,
           0.006742656407089481,
           0.0069385349588368265,
           0.007035672611128137,
           0.007079215685578836,
           0.007158202551189166,
           0.007233177181693105,
           0.007200866727268914,
           0.007305262606753933,
           0.0075052134830028445,
           0.007508731736321244,
           0.007551683463770926,
           0.007671450955313804,
           0.007815569513920335,
           0.007833676003994882,
           0.007920621956266603,
           0.00792950021945948,
           0.007998322410158566,
           0.008093662589685007,
           0.008103789199209715,
           0.008074670498027384,
           0.008147712932277937,
           0.008225706729038442,
           0.008255213262824492,
           0.00834151877681421,
           0.008302323416350847,
           0.008326319968652369,
           0.008366837545254555,
           0.008298028978297223,
           0.008279752675569312,
           0.008270839996318164
          ],
          [
           0.001060599761001013,
           0.0015701194276363402,
           0.00229424690426622,
           0.0028490872878215367,
           0.0032624916664002125,
           0.0038070803566308273,
           0.0041507882694379016,
           0.004341148179207203,
           0.0046771836316181065,
           0.004823191690953577,
           0.005129450427477558,
           0.005520248411383408,
           0.005743611450862887,
           0.005881080462729096,
           0.0060292508354793046,
           0.0061611340522952805,
           0.006181566413391107,
           0.006350692827868766,
           0.006450503036961761,
           0.006600657939312244,
           0.006744909459109934,
           0.006940044418152436,
           0.007032844702329713,
           0.0070862430961323285,
           0.007175374773055169,
           0.0072561393740407,
           0.007223481531001111,
           0.007330994671022379,
           0.007529437013204337,
           0.0075343390554268525,
           0.007582067802165193,
           0.007699571457484721,
           0.007848742095871452,
           0.007882051414591541,
           0.00796896964167248,
           0.00797729514944594,
           0.008042777112620858,
           0.0081384774183076,
           0.008147889821312954,
           0.00811878815554977,
           0.008193995578964048,
           0.008272955530344009,
           0.008298262158707017,
           0.00838913642150263,
           0.00835385351729108,
           0.008383954611253953,
           0.00842657142900153,
           0.008351835977192997,
           0.00833580874438556,
           0.008329441785619288
          ],
          [
           0.001065441798343579,
           0.0015748352163491338,
           0.002301609816774324,
           0.0028594793675416406,
           0.0032778870825529716,
           0.0038207703303655065,
           0.004164130100758188,
           0.004359008539270577,
           0.0046888006621541006,
           0.0048234986665543845,
           0.005123876212203099,
           0.005512376936329232,
           0.005733092399876941,
           0.005875688503009913,
           0.006026584592176524,
           0.006156470980677611,
           0.00617444818652017,
           0.006350688653884331,
           0.006452600804995912,
           0.00661337831636206,
           0.006754175603744931,
           0.00694629004609746,
           0.007042124301654191,
           0.007096866220106111,
           0.007185860372719333,
           0.007272507577613512,
           0.007243073492929997,
           0.00734410025180877,
           0.007543492348369995,
           0.007555398678833581,
           0.00760878936791308,
           0.007731684845106047,
           0.007881133500057192,
           0.007911579471491875,
           0.007998476627272195,
           0.008012059265052064,
           0.008071578716149561,
           0.008166409547169766,
           0.008167830762462698,
           0.008139131084504576,
           0.008212251062883582,
           0.00829321662189924,
           0.008321141060361054,
           0.008414987124978807,
           0.00837730547216113,
           0.008401314692146033,
           0.00844561308443815,
           0.008371002063817242,
           0.008352205654787231,
           0.008359082751846826
          ],
          [
           0.0010854760503506277,
           0.0015987867142016178,
           0.002332532310073399,
           0.0029019869298810004,
           0.003320232232348073,
           0.0038642987135017143,
           0.004217812326468133,
           0.0044108327537061886,
           0.004734748487278008,
           0.004868876071395029,
           0.005162423475685121,
           0.005549604032069695,
           0.005764111997817137,
           0.005913376058988677,
           0.006061315273541861,
           0.0061874439637987595,
           0.006195079749802334,
           0.00636465314963692,
           0.006462772903919705,
           0.0066401479002214684,
           0.006785165289336289,
           0.006979539961882087,
           0.007082856871015958,
           0.007136902087011603,
           0.007226746100321341,
           0.007321967413884583,
           0.007299516261917767,
           0.007395291280469052,
           0.007598764767305992,
           0.007612851941077792,
           0.0076704216369283445,
           0.0077964882727485025,
           0.007945345336489766,
           0.007968063216279228,
           0.008064921770562287,
           0.008075544706191175,
           0.008131292008904356,
           0.008227664348110852,
           0.008232680844603867,
           0.008205058389475405,
           0.00827946230963907,
           0.008358393457667099,
           0.008382260622615339,
           0.008472455422706603,
           0.00843383452556046,
           0.008458364204537053,
           0.00850560319164365,
           0.008426811678916566,
           0.008408726939975736,
           0.008417666009872092
          ],
          [
           0.0010861458610025838,
           0.0015916423125116885,
           0.0023350595420742314,
           0.0029048885078816152,
           0.003320689090772244,
           0.0038627779213401617,
           0.004213234650810984,
           0.004417165211727543,
           0.0047511811285677885,
           0.004881222197818684,
           0.005166566184732106,
           0.0055557742596919445,
           0.005772347207189572,
           0.005930547135075604,
           0.0060775673222324645,
           0.00620702607764818,
           0.006232173923344352,
           0.006412239616953043,
           0.006503049203967582,
           0.006676252857546443,
           0.006827942523868728,
           0.007028169529634375,
           0.007129470814110813,
           0.007173761129643588,
           0.00726149991765969,
           0.007353797906198871,
           0.007323703917581506,
           0.007416079898677584,
           0.007622607282433448,
           0.007635200321749002,
           0.007694358093922141,
           0.007819608242251537,
           0.007961560404929844,
           0.007984357655546597,
           0.008079016429421158,
           0.008097839245665952,
           0.008159734968638092,
           0.008254808510982214,
           0.008255830726374777,
           0.008233923626677768,
           0.008303425582946626,
           0.008376343124862962,
           0.00840364500237748,
           0.00850240469410631,
           0.008461587976002027,
           0.008486924770607562,
           0.00854355607416192,
           0.008466680922027105,
           0.00845269224059276,
           0.008462186081516436
          ],
          [
           0.0010818773503172212,
           0.001589822071783442,
           0.002342127436875416,
           0.002921693059844889,
           0.0033394968576687923,
           0.003882396697583864,
           0.004244254528239966,
           0.004452223339462822,
           0.004781884884439095,
           0.004915950952923388,
           0.005200921518733063,
           0.005591058651334625,
           0.0057988821907466875,
           0.00594960075405516,
           0.006101694787926767,
           0.006237596011947002,
           0.006262598304434869,
           0.006447337271489385,
           0.006537564281586016,
           0.006711114240223215,
           0.006858648665679272,
           0.007055494186033207,
           0.007161896394131809,
           0.007201835179686565,
           0.007294497628341502,
           0.007385252539381288,
           0.00736199508420769,
           0.007453584731027772,
           0.007657910353282491,
           0.007672114618490134,
           0.007732996446855877,
           0.00786282652311731,
           0.008002076615911834,
           0.00802228037958439,
           0.008118306052984128,
           0.00814549955246891,
           0.008203206414295611,
           0.008300661459594702,
           0.008300161935844864,
           0.008278896430505294,
           0.008351728573655213,
           0.008431161506530775,
           0.00845705915977968,
           0.008559413024633887,
           0.00851711138176974,
           0.008546473257625415,
           0.008602241822322098,
           0.008526534318657158,
           0.008517462434062557,
           0.008532501284945074
          ],
          [
           0.0010818893985207675,
           0.0015879429486063787,
           0.0023458546928648485,
           0.002920469426239848,
           0.003336837982895278,
           0.0038875016035418816,
           0.004253570039521892,
           0.0044583281100022765,
           0.004794975362250237,
           0.00492749320430713,
           0.005213217308001699,
           0.0056149702780705305,
           0.00582395134887378,
           0.005974207323852,
           0.006120481257711252,
           0.006245660541420722,
           0.006271378223836413,
           0.006455674785255959,
           0.006544391635612435,
           0.006720588810952659,
           0.006868860976414512,
           0.007068517055536234,
           0.007176127960778773,
           0.007214983466985132,
           0.0073066539566216775,
           0.007408834113347081,
           0.007383091542648473,
           0.007479691597788285,
           0.007700839365749176,
           0.0077177372630690836,
           0.007779020225707105,
           0.007915179550159832,
           0.008056928776269207,
           0.008078976815317182,
           0.008177690984036829,
           0.008208037491600512,
           0.008265649919867833,
           0.008361898953857173,
           0.008353321615036694,
           0.008331319757882134,
           0.008411205565505658,
           0.008493047553636857,
           0.008523444023791007,
           0.008625795163532363,
           0.008582747323725446,
           0.008610706429770366,
           0.008660383549514766,
           0.008587728210198613,
           0.008579349265463998,
           0.00859537045291113
          ],
          [
           0.0010797813682315984,
           0.0015804473569417696,
           0.002334711095177403,
           0.0029119705345213446,
           0.003329099711634999,
           0.003877101427713801,
           0.004236052179185197,
           0.004437605327398547,
           0.004767254337865133,
           0.004905578721092669,
           0.005185762767260426,
           0.0055877410173755665,
           0.005789946235200525,
           0.005940448436024204,
           0.006086067257950805,
           0.006212337830263666,
           0.006240514955868966,
           0.00642469477882178,
           0.006517450051626043,
           0.006690273101218668,
           0.006842692578897169,
           0.007047702517298967,
           0.007152876110298817,
           0.0071934917766143785,
           0.00728069413773073,
           0.0073758346440472074,
           0.007346090386167797,
           0.007443856863415718,
           0.00766860754560457,
           0.007687292397259955,
           0.007750280509158659,
           0.007883106983783816,
           0.008020891617385756,
           0.008042409275046077,
           0.008137337726560542,
           0.008167146536742928,
           0.008229499899831287,
           0.008330166249267341,
           0.008319850057405351,
           0.00829731978286492,
           0.008382349939444828,
           0.0084660264685784,
           0.008493726945483494,
           0.008601279088178745,
           0.008560162250040762,
           0.008588203915300154,
           0.008649770324434659,
           0.0085759094252103,
           0.008564756030677476,
           0.00858062904808285
          ],
          [
           0.0010799464784373674,
           0.0015778915111818884,
           0.0023282941195074515,
           0.0029016211149911603,
           0.0033286378309370103,
           0.003878298183987807,
           0.004230736286476558,
           0.0044345248422950345,
           0.0047771425412153285,
           0.0049097506368595036,
           0.005195695148976967,
           0.005598754323339683,
           0.005797583393611,
           0.0059531978502938175,
           0.006102631706305319,
           0.006229367429187878,
           0.006260540595219123,
           0.006444866938686302,
           0.006527247338942135,
           0.006697787946455785,
           0.00685535091933024,
           0.007068734302602447,
           0.007170969854971917,
           0.007221182146659546,
           0.0073078655005565886,
           0.007408683968206546,
           0.00738071960386936,
           0.0074812511518163845,
           0.007699556501378065,
           0.007714035774098771,
           0.00777389821435325,
           0.007907546706190835,
           0.008049091121182291,
           0.008063967475227933,
           0.008155650200087967,
           0.008187760037874655,
           0.008252374354077384,
           0.00835283370523048,
           0.008345866722014381,
           0.008326714663890285,
           0.00841214960274605,
           0.008498536148144822,
           0.00853001838667666,
           0.008643256738345846,
           0.008603669040286904,
           0.008638320221499624,
           0.00870298032600237,
           0.008626754598982824,
           0.008615629730550127,
           0.008636237401307199
          ],
          [
           0.0010779049074769525,
           0.0015701864020385018,
           0.0023338371474104585,
           0.002909746277188301,
           0.0033424416299792812,
           0.0038854530723519904,
           0.0042350266896592865,
           0.0044436246093110835,
           0.004795121599799618,
           0.0049271735750620336,
           0.005219004550231781,
           0.005622599802850209,
           0.0058119239564130305,
           0.005971027147882403,
           0.006117263788490568,
           0.006244153964116781,
           0.006273126743352444,
           0.006459451078156953,
           0.006538606131697365,
           0.006710895925744821,
           0.006871506458690651,
           0.0070856283917442335,
           0.007190030273672566,
           0.007246739093128199,
           0.007328853400743742,
           0.007429060294706568,
           0.007403798736987687,
           0.007500512205328362,
           0.007716272476572946,
           0.007723566019692118,
           0.007791401823073117,
           0.007927394678237158,
           0.008069410080863171,
           0.008081468941944853,
           0.008184651980459217,
           0.008215322533533407,
           0.008281486481572783,
           0.008388637832502054,
           0.008384274944271594,
           0.008358730504815741,
           0.008450789860042935,
           0.008539431731482881,
           0.008573361095168094,
           0.008688431881646355,
           0.008649799353713893,
           0.008683636431094885,
           0.008750292864708418,
           0.008674799071338545,
           0.008657837509828686,
           0.008674544962981721
          ],
          [
           0.0010810063991845047,
           0.001565433899655887,
           0.0023283120215082573,
           0.0029042772795179997,
           0.0033317573750702035,
           0.0038773919274009265,
           0.004231806093304772,
           0.004437615523388675,
           0.0047962693074450145,
           0.0049226043180654495,
           0.005219338327732503,
           0.005635225008599032,
           0.005823544056878158,
           0.005988081355516007,
           0.0061359319459606204,
           0.006258001086726791,
           0.006284411822185142,
           0.006473184291268063,
           0.006558361594332909,
           0.006728984510817545,
           0.00688623430799843,
           0.007103948434178933,
           0.007210482384694282,
           0.007272240928150843,
           0.007355476319769635,
           0.007463109719313879,
           0.007434273121324374,
           0.0075392217057972475,
           0.007760665985169064,
           0.0077725865873455235,
           0.007837625683085455,
           0.007977894726457983,
           0.008116958397752776,
           0.008121201460276077,
           0.008228034271722345,
           0.008261751945137322,
           0.008327419378418854,
           0.008434773653499802,
           0.008430603773343313,
           0.008407802792948426,
           0.008495591082205699,
           0.00858884749018662,
           0.008621297097165824,
           0.008736282323848365,
           0.008702242025023267,
           0.008731553936739975,
           0.008803281218270495,
           0.008744769331659632,
           0.008731114145934468,
           0.008749306618518417
          ],
          [
           0.0010780662268266177,
           0.0015593881448153972,
           0.0023239748865053846,
           0.0028973481302949494,
           0.0033318261253601953,
           0.003871941894286801,
           0.00421855338404718,
           0.004421569629973337,
           0.004779749528733076,
           0.004900132540904733,
           0.005200725936556747,
           0.005621186254351418,
           0.005812781855463591,
           0.005973190298194283,
           0.006117641599056416,
           0.006244537608042578,
           0.006270485007593085,
           0.00645986573406223,
           0.006547539702683926,
           0.006711720768100198,
           0.006865227671514308,
           0.007085755308763888,
           0.007191812730684552,
           0.007253846150561902,
           0.007342620137503838,
           0.007454050932392911,
           0.007424043222086812,
           0.007532799996253674,
           0.007753970954070551,
           0.007766570267289411,
           0.007836302895274776,
           0.007978507047727007,
           0.008121396449674098,
           0.008127506040029334,
           0.008231154008835912,
           0.008269980919879603,
           0.008340300589875458,
           0.008451960841685868,
           0.008451294750557543,
           0.008426564873675988,
           0.008523767780521463,
           0.008618335567044031,
           0.00864668973836008,
           0.008764508800310792,
           0.00872955358527845,
           0.008764625759312207,
           0.0088356027241318,
           0.008777321920312418,
           0.00876457159319193,
           0.008783482918034774
          ],
          [
           0.001097384492982084,
           0.0015724265979272908,
           0.002322886645997776,
           0.0029044945714496433,
           0.003327710697743288,
           0.0038768396591818796,
           0.004229749597593302,
           0.004436304536907058,
           0.004799961664142036,
           0.004922412025046059,
           0.00522316856612289,
           0.005636135442751149,
           0.00582030805297288,
           0.005979741151585392,
           0.006120703977766155,
           0.006249833448492214,
           0.00627258270561042,
           0.006458878560397835,
           0.006550236537386028,
           0.0067114502911821096,
           0.006855204647094676,
           0.007076617040884743,
           0.0071846981640309275,
           0.007255460691271354,
           0.007346125949880416,
           0.0074589898275176135,
           0.007431230404545688,
           0.007537173618573492,
           0.007752097654248197,
           0.0077632980135656235,
           0.007832088544278273,
           0.007970787352481449,
           0.00811644702877473,
           0.008123748561083175,
           0.00822727932062807,
           0.008271991030296659,
           0.00833886700218289,
           0.008443252675077046,
           0.00844356297144102,
           0.008421597851631029,
           0.00851518157306713,
           0.008603684265797273,
           0.008626955240753558,
           0.00874448461101448,
           0.008706590889741534,
           0.008745920357642807,
           0.008812318412685675,
           0.008756761257550153,
           0.008745325340298713,
           0.008769399230784078
          ],
          [
           0.00109113634549959,
           0.0015767252186322282,
           0.002328270130554476,
           0.0029108434407744133,
           0.003331679507722912,
           0.003886324857460003,
           0.004233219631867669,
           0.004442490404906234,
           0.0048134146169451905,
           0.004936094777339212,
           0.005237448584127129,
           0.005649975286048414,
           0.005833703054407749,
           0.005997478068678704,
           0.006148228259905542,
           0.006278108864205213,
           0.006303979192100268,
           0.006490377112288571,
           0.006584680188389371,
           0.006741343285625175,
           0.006885518724889103,
           0.0071008593011984795,
           0.007206872494334923,
           0.007285464006741182,
           0.0073766175232572815,
           0.007494535450840421,
           0.007465260891560515,
           0.00757067330561704,
           0.007786216373487095,
           0.007795505890897196,
           0.007870617071282355,
           0.008007328561070193,
           0.008144423044396023,
           0.008148377280572968,
           0.008250794452847654,
           0.008299207627453469,
           0.00836277298892572,
           0.008461848575368875,
           0.008459149563089057,
           0.008434327587721155,
           0.008526493246447664,
           0.008607922287799575,
           0.008633981342322228,
           0.008757182625008571,
           0.008720483291605952,
           0.008758592616039299,
           0.008829115017386245,
           0.008771013381474721,
           0.008761630004619108,
           0.008784603842675782
          ],
          [
           0.0010828642223346268,
           0.001575412375794565,
           0.00232055478603926,
           0.0028988595398680077,
           0.00332184697903035,
           0.003873395986616542,
           0.004221175265673318,
           0.004435691752366544,
           0.004796481380491801,
           0.004921078521414346,
           0.005222947259786272,
           0.00564307202256946,
           0.005832868734530239,
           0.006011584589321544,
           0.006156560240481034,
           0.006288138333656749,
           0.006316621169750522,
           0.006501175116722674,
           0.006593868094743093,
           0.006755416523775191,
           0.006898555907009456,
           0.007105041029271459,
           0.007207872939870762,
           0.0072773692702724135,
           0.007366192097205892,
           0.007486224404414174,
           0.007456802169908608,
           0.007561839134546589,
           0.007774175734295242,
           0.007786567921165227,
           0.007871571597395459,
           0.00800682049599477,
           0.008147519683428668,
           0.008150701174576393,
           0.008248862789437652,
           0.00829485319985985,
           0.008362470667005757,
           0.008459248830331504,
           0.008458836164319923,
           0.008427775722833965,
           0.008525990092112629,
           0.00860474610606714,
           0.008628361853592387,
           0.008752879587707988,
           0.008722880221216414,
           0.008764124970159048,
           0.008836061029203136,
           0.008777467486603498,
           0.008773812643865864,
           0.008793679621309537
          ],
          [
           0.0010758371261868234,
           0.0015671685337833425,
           0.002303743684361755,
           0.0028831711560502083,
           0.003308342929523597,
           0.0038595722228937693,
           0.004220523201454159,
           0.004435970032985967,
           0.004801487557634417,
           0.004917544984699247,
           0.005214242894179824,
           0.005646640633431434,
           0.005837908838679075,
           0.006028517871894922,
           0.00617441490043423,
           0.0063100134900818654,
           0.006335280711915887,
           0.006520284193465995,
           0.00660705363296573,
           0.00677646006580229,
           0.0069247979286842275,
           0.007130150420332922,
           0.007237632845088781,
           0.007316246840082223,
           0.007407001601174947,
           0.007531913843002702,
           0.007498939084082414,
           0.007604213940409516,
           0.007820897875162781,
           0.00783669963061775,
           0.007922088297851605,
           0.00806031860381019,
           0.008196988399456323,
           0.008206705811727215,
           0.008299344752305544,
           0.008346766692168703,
           0.008415945268164192,
           0.008510523427404408,
           0.008509765864944428,
           0.008475660084470168,
           0.008577346206849669,
           0.008659770466380128,
           0.008679436636668486,
           0.008799462994228277,
           0.008771290631936145,
           0.00880808999059163,
           0.008884750758534836,
           0.008829133374975614,
           0.008825367765533202,
           0.008846017130994427
          ],
          [
           0.0010722945737733623,
           0.0015650543247365243,
           0.002305570572406598,
           0.0028827190088936117,
           0.0033055137004237367,
           0.003862764211264364,
           0.004224731381869999,
           0.0044478927254672646,
           0.0048142184602949735,
           0.004928113545560632,
           0.005228897340751073,
           0.005669223666087056,
           0.005862751495541106,
           0.006055307517325698,
           0.0061981909097342785,
           0.006333402048292388,
           0.006363462678737473,
           0.006552122920524902,
           0.006634271482299313,
           0.006804344389598783,
           0.006961015624699049,
           0.007168617745116466,
           0.007269677158866961,
           0.007350780051632304,
           0.007437867020742959,
           0.00756130513500523,
           0.00752854093436689,
           0.007634036307902079,
           0.007856650346978217,
           0.007867482459353608,
           0.007951981337567575,
           0.008082984520643217,
           0.0082176103821572,
           0.008223058546121076,
           0.008323877032801354,
           0.008358485979478405,
           0.008424575928869402,
           0.008519063335215397,
           0.00852173309347308,
           0.008490419580060544,
           0.008592027305174567,
           0.008674551757517744,
           0.008707264517021154,
           0.00882339238303347,
           0.008801091644560773,
           0.008832364772754946,
           0.00891102847406201,
           0.008862658172640026,
           0.008858989645697871,
           0.008876849006214155
          ],
          [
           0.0010759209497325708,
           0.0015614226257323475,
           0.0022949076265437627,
           0.0028720723943494713,
           0.0032897610074125072,
           0.003849956608258402,
           0.004207364791731875,
           0.004436639609130419,
           0.0048045019368996925,
           0.004915955904711836,
           0.0052188598472821465,
           0.005658667890650147,
           0.00585455642316157,
           0.0060511413152816405,
           0.00620016087123041,
           0.006339450885314644,
           0.006370339976714384,
           0.00656089267659763,
           0.006649378838701098,
           0.006844014482564617,
           0.007002292632191123,
           0.0072084537507215935,
           0.007310624801215692,
           0.007390669241963441,
           0.0074858726153090895,
           0.007610098693941763,
           0.0075728839276688895,
           0.007678818490570635,
           0.00789588752090718,
           0.007910104389671038,
           0.007989849636939078,
           0.008120200736496438,
           0.008245315509542366,
           0.00825284685467214,
           0.008352519772130241,
           0.008379911868721173,
           0.008437473422960301,
           0.008532087075720311,
           0.008528580204288112,
           0.008496922934732976,
           0.008598101110328342,
           0.008683513241277151,
           0.008713463564525547,
           0.008833471279492787,
           0.008808007876495893,
           0.008847334014325766,
           0.008927735602555166,
           0.008880653052281551,
           0.008874015266848969,
           0.00888711991927447
          ],
          [
           0.0010709092799595274,
           0.0015466280634868208,
           0.0022811998655225176,
           0.0028561505720061196,
           0.0032744243435805244,
           0.003833563496598894,
           0.004195865774430246,
           0.004420251342866275,
           0.004798767699633679,
           0.00490086578905075,
           0.005202621885707833,
           0.005649025646192734,
           0.005842048409815186,
           0.006030975084733143,
           0.006174886044815631,
           0.0063106498247326,
           0.006340177108139212,
           0.006523859286488944,
           0.006613427637940964,
           0.006809369058970134,
           0.006966819109858998,
           0.007171476663061271,
           0.007270613699275944,
           0.007354820408937677,
           0.00744405137658336,
           0.007569642121251497,
           0.007534688096758206,
           0.007636777491715376,
           0.00785797613295876,
           0.0078675092569237,
           0.007941331773646778,
           0.008071849827569817,
           0.008205016376247508,
           0.00820653536544715,
           0.008305158245444916,
           0.008339116318672724,
           0.008398367037399228,
           0.00849431566009064,
           0.008494605945994403,
           0.008472275157419253,
           0.008567654149682722,
           0.00865362517078489,
           0.00867984081372796,
           0.00880436534295056,
           0.008777504042038283,
           0.008812794856911738,
           0.008893734561353233,
           0.008848759233701545,
           0.00884428884554916,
           0.008864551545650873
          ],
          [
           0.0010732924116702328,
           0.0015553263864796602,
           0.0022835163035618456,
           0.0028602925756916328,
           0.003271257394667943,
           0.0038322198817652333,
           0.004230255367999972,
           0.0044536462028218395,
           0.0048195753297128035,
           0.004934083015113743,
           0.005232941786792015,
           0.005676160050852581,
           0.005866942204942987,
           0.006053604812907666,
           0.006184399877587952,
           0.006323975432473076,
           0.006359883058432584,
           0.006545182303692908,
           0.0066289129460083435,
           0.0068244485195278265,
           0.006983496027822303,
           0.007196961000057895,
           0.007295486508982709,
           0.0073674605804917625,
           0.007459994011970725,
           0.0075896387202152625,
           0.007535652291035408,
           0.007643183283730375,
           0.007873729804760098,
           0.007882611110643575,
           0.007959826294096374,
           0.008089481889260184,
           0.008225798356509375,
           0.008230543809732958,
           0.008329248091944463,
           0.008363018683088082,
           0.008423568805986575,
           0.008522625968225877,
           0.008522962442858825,
           0.008504772000940304,
           0.008600153893169751,
           0.008691812454324613,
           0.008717696033313302,
           0.008846609271615152,
           0.008819188880638545,
           0.008859177001140929,
           0.008939958268402581,
           0.008898287283242599,
           0.008894468316821367,
           0.008918835031148306
          ],
          [
           0.0010739020053178946,
           0.0015548953976594762,
           0.002292533067500384,
           0.0028612797092443993,
           0.003283087732080515,
           0.003840363279927147,
           0.004237080255983527,
           0.004472613423545701,
           0.004841213168441578,
           0.004951393998289157,
           0.005269280182589642,
           0.005710810373610006,
           0.005906084545245118,
           0.006090591118533695,
           0.006224772528796183,
           0.006361560709867529,
           0.006393486040686143,
           0.006577314160259547,
           0.006659621539692163,
           0.006862049816232427,
           0.007016801371828992,
           0.00722710483257974,
           0.007324651703377368,
           0.0073993502242200885,
           0.007498880169760227,
           0.007622059128155225,
           0.007567386950247659,
           0.007670078229581388,
           0.007902525262334707,
           0.007909958151891723,
           0.007985864598177675,
           0.008119029264806685,
           0.008254524003601157,
           0.008257888930475566,
           0.008355503285464925,
           0.008387994455154998,
           0.008451331058740226,
           0.008554313246819403,
           0.008546346788515008,
           0.008523150236570359,
           0.008615062481063772,
           0.00870827867065436,
           0.008733522265499652,
           0.008866911990413945,
           0.008844651747325271,
           0.008883916099525657,
           0.008964621143424983,
           0.008922697558638604,
           0.008920018129259395,
           0.008945091566700572
          ],
          [
           0.0010819747881540287,
           0.0015519537229312505,
           0.0022962268053842165,
           0.0028619588685876865,
           0.003272228853546617,
           0.0038338847434755303,
           0.004237026959913272,
           0.0044698598420817946,
           0.004838372965057217,
           0.004931058020920172,
           0.005263340643035083,
           0.0057020142420220205,
           0.005890247892684014,
           0.006072317791075696,
           0.00620698225702971,
           0.006336927458646668,
           0.006369701644848449,
           0.006559726950827,
           0.006646428280886664,
           0.0068474546270262384,
           0.007003658022806831,
           0.007212597220271722,
           0.007314080366094493,
           0.007392975272951272,
           0.0074894387240269185,
           0.00760824725227786,
           0.0075569579770168255,
           0.0076538103493278085,
           0.007885523142320149,
           0.007889175521789646,
           0.007963125443706054,
           0.008093213454859693,
           0.008235727481102594,
           0.008239725527670168,
           0.008336844885676976,
           0.008372225073182162,
           0.008431741380311135,
           0.008542087986794351,
           0.00854119162457126,
           0.008522741562932352,
           0.008613002880856478,
           0.008709050143650941,
           0.008735478545766616,
           0.008872080629983382,
           0.00884615747875244,
           0.00888882531113302,
           0.008968417469259464,
           0.008917388974008202,
           0.00891361857241547,
           0.008942283596163675
          ],
          [
           0.0010815053338163062,
           0.001555885445972085,
           0.0022963713555529458,
           0.0028688495362953472,
           0.0032840754411301064,
           0.0038524897271190336,
           0.0042565305426223,
           0.0044896753017965784,
           0.004878959237959506,
           0.004971633928969155,
           0.0053144083864312625,
           0.0057470848080487195,
           0.0059341636009884145,
           0.0061187426263892815,
           0.006247790096220592,
           0.00637803652535933,
           0.00640526531758,
           0.006590863530110861,
           0.0066742150793511245,
           0.006872749229252816,
           0.007027152515121489,
           0.007235999914664327,
           0.0073381265449359275,
           0.0074182845994179274,
           0.007511743890348277,
           0.007628217011158609,
           0.007584484394168027,
           0.007677655036404584,
           0.007908334774946176,
           0.007914442123248497,
           0.007986840275674707,
           0.008116004313127732,
           0.008263567302440055,
           0.008261776780985799,
           0.008362090494263322,
           0.008398292200417152,
           0.00845525475361474,
           0.008577116568782317,
           0.008567802433662296,
           0.008558297639851102,
           0.008646858676803103,
           0.008747153991309214,
           0.008768418217995887,
           0.00889822881495959,
           0.00887353714932523,
           0.008915320730696678,
           0.008998751231557554,
           0.008953297688409198,
           0.008946110626968184,
           0.008977766353225924
          ],
          [
           0.001077070474963838,
           0.0015454081786918097,
           0.002284682391706526,
           0.0028532405570947,
           0.0032703153115060126,
           0.003838941829387418,
           0.004251410837284278,
           0.004483260440526395,
           0.00487474326541948,
           0.004968800797649236,
           0.005310080787967941,
           0.005735103787057484,
           0.00592293585347499,
           0.006106119369374731,
           0.006242721724300188,
           0.006376312089324788,
           0.006407310819687628,
           0.006590410601097052,
           0.006669819391189419,
           0.006861143895540452,
           0.007014771412893543,
           0.007219621744416157,
           0.007317705113301637,
           0.0073986132209288,
           0.007492533175262342,
           0.007608630931847499,
           0.00756035831951239,
           0.007653131486485773,
           0.007876051009115372,
           0.007883336112777051,
           0.007952901246008354,
           0.00808391793007374,
           0.00823484075550691,
           0.008231907872394048,
           0.008327235541139262,
           0.008361868129153011,
           0.008418739863460919,
           0.00853900525062432,
           0.008533205363223299,
           0.008525217826903783,
           0.00862348890543201,
           0.008723662794945262,
           0.008741553566064663,
           0.008873084795095383,
           0.008854249944083343,
           0.008898023345417814,
           0.008984763761872933,
           0.008936959279860365,
           0.008938657982612501,
           0.008979314693678953
          ],
          [
           0.0010726439332862379,
           0.0015437473871177088,
           0.0022822711638903277,
           0.0028577227177225967,
           0.003268732676914644,
           0.0038373988977554014,
           0.004253120440712549,
           0.0044815245308588054,
           0.004871796996205407,
           0.0049675617203183515,
           0.005303614057064134,
           0.005732181935793765,
           0.00591868255229402,
           0.0061025607901324325,
           0.006240146526785345,
           0.006377557425872262,
           0.006415963702079932,
           0.006600022737107591,
           0.006680521107666399,
           0.006868403581975656,
           0.007015596700002245,
           0.007230214946162841,
           0.007330254985500182,
           0.007404646846889039,
           0.0074969837301385196,
           0.007608875909575837,
           0.007559441694701679,
           0.00764772690749879,
           0.00787425316311216,
           0.007882320374916256,
           0.00795433784374835,
           0.008085402756859797,
           0.008237572440427417,
           0.008232549710074945,
           0.008327774576088326,
           0.008359462903700796,
           0.008416739983859558,
           0.008536187052913589,
           0.00853353257642442,
           0.00852073540000374,
           0.008624252684132966,
           0.008732797139765552,
           0.008753699283783601,
           0.008884137809485049,
           0.008868790316420972,
           0.008912623910366397,
           0.009005903291689942,
           0.00896183074241358,
           0.008971697874390812,
           0.009012671334848904
          ],
          [
           0.0010840456151827687,
           0.00156675487265188,
           0.0023124099302755416,
           0.002885470663146568,
           0.0032942770022671235,
           0.003866160129135302,
           0.004286234790346062,
           0.004518521827363867,
           0.004904107264809103,
           0.005000900319294756,
           0.005334839764473712,
           0.0057723912376305975,
           0.005963945300647017,
           0.006158026427920919,
           0.006289744603815901,
           0.0064262702750727966,
           0.0064658564613556254,
           0.006647674767124931,
           0.006729763506207208,
           0.006916720722635574,
           0.007059057631512404,
           0.007262387842191213,
           0.00737076901814241,
           0.00744093243177381,
           0.007537434033254329,
           0.007641270021682022,
           0.007599989146366592,
           0.007681162901652498,
           0.007912397766937366,
           0.007924660983311129,
           0.008002562653588778,
           0.008129799565544408,
           0.008283078100893545,
           0.008276841385226124,
           0.00836907982503919,
           0.00839896984044392,
           0.008457475155224948,
           0.008578904667441925,
           0.008574489753199917,
           0.008559989317803374,
           0.008654825088453085,
           0.008763078213443845,
           0.008775703515349157,
           0.00890862583055724,
           0.008896104232267768,
           0.008940435933773291,
           0.009029665092325388,
           0.008984296635822767,
           0.008993544768297624,
           0.009039364353233796
          ],
          [
           0.0010818821192173991,
           0.001575662521355891,
           0.0023218610227802587,
           0.0028932337850161843,
           0.003297878411211424,
           0.0038784308508882075,
           0.0042925149625938795,
           0.004525077587531744,
           0.004920024048223968,
           0.005021439148189073,
           0.005364365148524932,
           0.005796866404223644,
           0.0059898098085386054,
           0.006183188618150482,
           0.006316215018306308,
           0.00645643803170655,
           0.006493697950080388,
           0.00667799736159422,
           0.006758014565568424,
           0.006950850187709279,
           0.007092497529840757,
           0.007294788033743067,
           0.007397475698984382,
           0.007467515589731628,
           0.007559819841901532,
           0.007670394475273465,
           0.007629035516847304,
           0.007706227773544724,
           0.007931483628595045,
           0.007943938697414086,
           0.008025611275824521,
           0.008150770137125247,
           0.008312304441016329,
           0.008311140902086447,
           0.00840121666760761,
           0.008433481668164718,
           0.00850049911621847,
           0.008621409259763624,
           0.00862961592722355,
           0.008612713642157432,
           0.008708747425077101,
           0.008819947624530184,
           0.008834577515962536,
           0.008973586163454313,
           0.008957967285323817,
           0.008993348245000926,
           0.009090094767446174,
           0.00904251455769081,
           0.009054322123759735,
           0.009102365696075415
          ],
          [
           0.0011016137084527144,
           0.0016075353265298357,
           0.0023675694202793794,
           0.0029385225795713604,
           0.0033413141963837367,
           0.003910752105827728,
           0.004336707803888519,
           0.0045620805804896525,
           0.004958725942868379,
           0.00506549277393451,
           0.00540497636563912,
           0.005843101288139376,
           0.006033816512742721,
           0.006224305554320464,
           0.006353996583660626,
           0.006496706656005818,
           0.00653851330285483,
           0.006720664251929656,
           0.006799049101218693,
           0.006999357882335601,
           0.007137495560824563,
           0.007342347632565172,
           0.007443884783480301,
           0.007503756807975314,
           0.007592301934593359,
           0.00769825460418563,
           0.007655100181938625,
           0.007729176796050195,
           0.007948771924171271,
           0.007972541343621579,
           0.00804839656376279,
           0.008171308316635286,
           0.008342825663693,
           0.00834695869806953,
           0.008430792206538647,
           0.008462973317105597,
           0.008532793276326316,
           0.008656743847811385,
           0.008660205436640393,
           0.008639814691580048,
           0.008738359407199378,
           0.00885255592629596,
           0.008865718617448205,
           0.009005117435082737,
           0.008994064356210333,
           0.009029245884568689,
           0.009129932097943945,
           0.009076653474925993,
           0.009093578509344126,
           0.009130351649990775
          ],
          [
           0.0011019351687815973,
           0.0016026054471516568,
           0.002354390975947142,
           0.002930929537277329,
           0.003337787141637345,
           0.003909954050729651,
           0.00432546234003462,
           0.0045548301579079,
           0.004954497203845957,
           0.005063926393129957,
           0.005413291104846224,
           0.005850220634623393,
           0.00604075717615697,
           0.006228985375830671,
           0.006364122023635496,
           0.006509124107477463,
           0.006545668624689397,
           0.006727754058307893,
           0.0068044896580305315,
           0.007006571611443676,
           0.007148772844411516,
           0.00735143110989467,
           0.007454130547258133,
           0.0075159734433717425,
           0.007606794430764141,
           0.007719607000525999,
           0.00767535961387313,
           0.0077519341561865535,
           0.007973557073189372,
           0.008001541154007042,
           0.008074725122924578,
           0.008198194413676413,
           0.008367860978027034,
           0.008374984938552984,
           0.008462740023088415,
           0.008495702619506374,
           0.008564946866573503,
           0.008681850029119394,
           0.008686682841855909,
           0.008665120809597103,
           0.008763513585169441,
           0.00887022385611346,
           0.008880239931216064,
           0.00901587743092796,
           0.009009731333463965,
           0.009044015150926735,
           0.009140390823182784,
           0.009088172616383802,
           0.009113586446657544,
           0.009141931318732262
          ],
          [
           0.0011067377329579283,
           0.0016078705494147947,
           0.002373852055436344,
           0.002960085140524046,
           0.0033760728688840215,
           0.00393875456123186,
           0.0043495184702433895,
           0.0045768803272506,
           0.004981245000996542,
           0.005094580845516712,
           0.005439707971552571,
           0.005888293960688848,
           0.006078311363383239,
           0.0062660327588558665,
           0.006408254110890256,
           0.006548570032299821,
           0.006584181606209656,
           0.006766796991079066,
           0.006852926961324601,
           0.00704750828054325,
           0.007188809708037129,
           0.007390191116340407,
           0.007491221406445719,
           0.007547642547968953,
           0.0076331737823628135,
           0.007741204014802657,
           0.007695959386649056,
           0.007774953496697567,
           0.007990056801843066,
           0.008011355000040578,
           0.008085239133399065,
           0.008214424896205203,
           0.008381109447342746,
           0.008392675943119926,
           0.008485427880299011,
           0.008522429988538461,
           0.008593740675631968,
           0.008715861026678196,
           0.008720075886217203,
           0.008694843885707959,
           0.008796933515415429,
           0.008910055554883913,
           0.008917622149882657,
           0.009048363540700233,
           0.009039162302600774,
           0.009073738265575953,
           0.009172590938643732,
           0.009125759013653239,
           0.0091562011592628,
           0.009188177233203853
          ],
          [
           0.001106461633496486,
           0.0016058473457142314,
           0.0023760782169914055,
           0.0029605004335851626,
           0.0033745678445323626,
           0.003930124185196036,
           0.004337681348829296,
           0.004566334934915398,
           0.004969895474233706,
           0.0050829162341368824,
           0.005428079142059266,
           0.005877480200000804,
           0.006069095169913023,
           0.00625657810656819,
           0.006397230672794282,
           0.006539759189490317,
           0.006573660551136483,
           0.006769529256155445,
           0.0068624658003869415,
           0.007056590641850877,
           0.007199478985781701,
           0.007400188223462844,
           0.007495777525735926,
           0.007558552488811859,
           0.007644614228836677,
           0.007746864544799885,
           0.007705947857203082,
           0.0077831356777055966,
           0.008004241810004573,
           0.008021503108233798,
           0.008099328408926725,
           0.008235330603908651,
           0.008401460836678644,
           0.00840998923782129,
           0.008502179607898504,
           0.00854558706805648,
           0.00861502313395872,
           0.008741789678494517,
           0.00875197565235758,
           0.00871553864919206,
           0.008816660953561687,
           0.008932028994734525,
           0.00893772906606375,
           0.009068974512037753,
           0.009060867109838867,
           0.009100483203690495,
           0.00919719519227821,
           0.00914927635637487,
           0.009183565089081734,
           0.009210371477836652
          ],
          [
           0.0011003694605521222,
           0.0015956616952350802,
           0.0023629089434894033,
           0.0029522270880270084,
           0.0033604120979937348,
           0.003915587963355553,
           0.004321436121765551,
           0.004542931729226758,
           0.004953396811475374,
           0.005064836598592193,
           0.005408528261219669,
           0.005870573084192763,
           0.006059835823854819,
           0.00624631239265832,
           0.006384288258718693,
           0.00652428786647203,
           0.006558851890372741,
           0.006752053414464514,
           0.0068401084305304526,
           0.007043816893449925,
           0.007187535331872722,
           0.0073877339781199996,
           0.007481620055396174,
           0.007542245392592077,
           0.007629740202749901,
           0.007732927265986165,
           0.007696272722034733,
           0.007781434170038849,
           0.00801128309001961,
           0.008030990000812444,
           0.008110947400197598,
           0.008249537333699005,
           0.008415947145187374,
           0.008428092381789671,
           0.008522252521951289,
           0.00856368177509989,
           0.008632803012551838,
           0.008758707116157729,
           0.008765810089124219,
           0.008726233792969567,
           0.00882976274985476,
           0.008946156263181067,
           0.008950086109380173,
           0.009081321590185256,
           0.009078435446096888,
           0.009119779546622839,
           0.00922308955971837,
           0.009177377077743047,
           0.00921414237850977,
           0.009236141554316188
          ],
          [
           0.0011033442514804326,
           0.00160762461076922,
           0.002396140363857834,
           0.002985134889258619,
           0.0033846083979808435,
           0.003937778548869174,
           0.004345127928920149,
           0.004576926571242068,
           0.0049818174093957425,
           0.005093071952500009,
           0.005429566670473251,
           0.005885267140318848,
           0.006070395191899819,
           0.006265900860201244,
           0.006403578729167404,
           0.0065426329754607986,
           0.006578011263321995,
           0.006771799793551998,
           0.006858567950250617,
           0.007074922790498499,
           0.007215314439872921,
           0.007412169411292723,
           0.007502280223928017,
           0.0075755146819017705,
           0.007659986218649629,
           0.007765653664459043,
           0.007732853241189654,
           0.007812673698975123,
           0.008042857458350915,
           0.008064128395006063,
           0.00814379846430484,
           0.008284101226843348,
           0.008447867140280185,
           0.008466987635760216,
           0.008562186825435952,
           0.00861318031487722,
           0.008685431360870242,
           0.008822448787847971,
           0.00882852847730633,
           0.008788447891035075,
           0.008895944501861978,
           0.00901283097322443,
           0.009018066166639952,
           0.00914118810214865,
           0.009137267033562537,
           0.009184366666289747,
           0.009284882413366844,
           0.009242962070667878,
           0.009281557533359422,
           0.009303403668453378
          ],
          [
           0.0010882822657615357,
           0.001592551904198966,
           0.0023768935202620137,
           0.002966600234785699,
           0.0033712772607503816,
           0.0039213618917235725,
           0.00432780848136801,
           0.0045605277070155,
           0.004963556179899738,
           0.005080142815612924,
           0.005418094352472,
           0.0058797250612633144,
           0.006067520521342684,
           0.006267866708317725,
           0.006410310716141185,
           0.006548012112207637,
           0.006579725489597932,
           0.0067754573718442615,
           0.006864002614929404,
           0.007088069263085234,
           0.007232125051852082,
           0.007439718649941644,
           0.007541498697529456,
           0.007616869005803711,
           0.0077029929997555835,
           0.0078117407784293194,
           0.007772805519989966,
           0.007854810189885743,
           0.008090313287366377,
           0.008114911136727212,
           0.008195519556352743,
           0.008324859359036055,
           0.008490188504500338,
           0.008500334673150896,
           0.008589544660192888,
           0.008643821156032181,
           0.008713792541239971,
           0.008853701065482682,
           0.008871732306147372,
           0.008831113950315581,
           0.008934579547661477,
           0.009048046117904716,
           0.009058479938260762,
           0.00918060370665271,
           0.009179413686909357,
           0.009227388403524137,
           0.009326864630394838,
           0.009287492650406175,
           0.009328336767326988,
           0.00935069541647263
          ]
         ]
        }
       ],
       "layout": {
        "height": 518,
        "legend": {
         "orientation": "h",
         "traceorder": "normal",
         "x": 1,
         "xanchor": "right",
         "y": 1.02,
         "yanchor": "bottom"
        },
        "margin": {
         "b": 30,
         "l": 30,
         "r": 30,
         "t": 30
        },
        "template": {
         "data": {
          "bar": [
           {
            "error_x": {
             "color": "#2a3f5f"
            },
            "error_y": {
             "color": "#2a3f5f"
            },
            "marker": {
             "line": {
              "color": "#E5ECF6",
              "width": 0.5
             }
            },
            "type": "bar"
           }
          ],
          "barpolar": [
           {
            "marker": {
             "line": {
              "color": "#E5ECF6",
              "width": 0.5
             }
            },
            "type": "barpolar"
           }
          ],
          "carpet": [
           {
            "aaxis": {
             "endlinecolor": "#2a3f5f",
             "gridcolor": "white",
             "linecolor": "white",
             "minorgridcolor": "white",
             "startlinecolor": "#2a3f5f"
            },
            "baxis": {
             "endlinecolor": "#2a3f5f",
             "gridcolor": "white",
             "linecolor": "white",
             "minorgridcolor": "white",
             "startlinecolor": "#2a3f5f"
            },
            "type": "carpet"
           }
          ],
          "choropleth": [
           {
            "colorbar": {
             "outlinewidth": 0,
             "ticks": ""
            },
            "type": "choropleth"
           }
          ],
          "contour": [
           {
            "colorbar": {
             "outlinewidth": 0,
             "ticks": ""
            },
            "colorscale": [
             [
              0,
              "#0d0887"
             ],
             [
              0.1111111111111111,
              "#46039f"
             ],
             [
              0.2222222222222222,
              "#7201a8"
             ],
             [
              0.3333333333333333,
              "#9c179e"
             ],
             [
              0.4444444444444444,
              "#bd3786"
             ],
             [
              0.5555555555555556,
              "#d8576b"
             ],
             [
              0.6666666666666666,
              "#ed7953"
             ],
             [
              0.7777777777777778,
              "#fb9f3a"
             ],
             [
              0.8888888888888888,
              "#fdca26"
             ],
             [
              1,
              "#f0f921"
             ]
            ],
            "type": "contour"
           }
          ],
          "contourcarpet": [
           {
            "colorbar": {
             "outlinewidth": 0,
             "ticks": ""
            },
            "type": "contourcarpet"
           }
          ],
          "heatmap": [
           {
            "colorbar": {
             "outlinewidth": 0,
             "ticks": ""
            },
            "colorscale": [
             [
              0,
              "#0d0887"
             ],
             [
              0.1111111111111111,
              "#46039f"
             ],
             [
              0.2222222222222222,
              "#7201a8"
             ],
             [
              0.3333333333333333,
              "#9c179e"
             ],
             [
              0.4444444444444444,
              "#bd3786"
             ],
             [
              0.5555555555555556,
              "#d8576b"
             ],
             [
              0.6666666666666666,
              "#ed7953"
             ],
             [
              0.7777777777777778,
              "#fb9f3a"
             ],
             [
              0.8888888888888888,
              "#fdca26"
             ],
             [
              1,
              "#f0f921"
             ]
            ],
            "type": "heatmap"
           }
          ],
          "heatmapgl": [
           {
            "colorbar": {
             "outlinewidth": 0,
             "ticks": ""
            },
            "colorscale": [
             [
              0,
              "#0d0887"
             ],
             [
              0.1111111111111111,
              "#46039f"
             ],
             [
              0.2222222222222222,
              "#7201a8"
             ],
             [
              0.3333333333333333,
              "#9c179e"
             ],
             [
              0.4444444444444444,
              "#bd3786"
             ],
             [
              0.5555555555555556,
              "#d8576b"
             ],
             [
              0.6666666666666666,
              "#ed7953"
             ],
             [
              0.7777777777777778,
              "#fb9f3a"
             ],
             [
              0.8888888888888888,
              "#fdca26"
             ],
             [
              1,
              "#f0f921"
             ]
            ],
            "type": "heatmapgl"
           }
          ],
          "histogram": [
           {
            "marker": {
             "colorbar": {
              "outlinewidth": 0,
              "ticks": ""
             }
            },
            "type": "histogram"
           }
          ],
          "histogram2d": [
           {
            "colorbar": {
             "outlinewidth": 0,
             "ticks": ""
            },
            "colorscale": [
             [
              0,
              "#0d0887"
             ],
             [
              0.1111111111111111,
              "#46039f"
             ],
             [
              0.2222222222222222,
              "#7201a8"
             ],
             [
              0.3333333333333333,
              "#9c179e"
             ],
             [
              0.4444444444444444,
              "#bd3786"
             ],
             [
              0.5555555555555556,
              "#d8576b"
             ],
             [
              0.6666666666666666,
              "#ed7953"
             ],
             [
              0.7777777777777778,
              "#fb9f3a"
             ],
             [
              0.8888888888888888,
              "#fdca26"
             ],
             [
              1,
              "#f0f921"
             ]
            ],
            "type": "histogram2d"
           }
          ],
          "histogram2dcontour": [
           {
            "colorbar": {
             "outlinewidth": 0,
             "ticks": ""
            },
            "colorscale": [
             [
              0,
              "#0d0887"
             ],
             [
              0.1111111111111111,
              "#46039f"
             ],
             [
              0.2222222222222222,
              "#7201a8"
             ],
             [
              0.3333333333333333,
              "#9c179e"
             ],
             [
              0.4444444444444444,
              "#bd3786"
             ],
             [
              0.5555555555555556,
              "#d8576b"
             ],
             [
              0.6666666666666666,
              "#ed7953"
             ],
             [
              0.7777777777777778,
              "#fb9f3a"
             ],
             [
              0.8888888888888888,
              "#fdca26"
             ],
             [
              1,
              "#f0f921"
             ]
            ],
            "type": "histogram2dcontour"
           }
          ],
          "mesh3d": [
           {
            "colorbar": {
             "outlinewidth": 0,
             "ticks": ""
            },
            "type": "mesh3d"
           }
          ],
          "parcoords": [
           {
            "line": {
             "colorbar": {
              "outlinewidth": 0,
              "ticks": ""
             }
            },
            "type": "parcoords"
           }
          ],
          "pie": [
           {
            "automargin": true,
            "type": "pie"
           }
          ],
          "scatter": [
           {
            "marker": {
             "colorbar": {
              "outlinewidth": 0,
              "ticks": ""
             }
            },
            "type": "scatter"
           }
          ],
          "scatter3d": [
           {
            "line": {
             "colorbar": {
              "outlinewidth": 0,
              "ticks": ""
             }
            },
            "marker": {
             "colorbar": {
              "outlinewidth": 0,
              "ticks": ""
             }
            },
            "type": "scatter3d"
           }
          ],
          "scattercarpet": [
           {
            "marker": {
             "colorbar": {
              "outlinewidth": 0,
              "ticks": ""
             }
            },
            "type": "scattercarpet"
           }
          ],
          "scattergeo": [
           {
            "marker": {
             "colorbar": {
              "outlinewidth": 0,
              "ticks": ""
             }
            },
            "type": "scattergeo"
           }
          ],
          "scattergl": [
           {
            "marker": {
             "colorbar": {
              "outlinewidth": 0,
              "ticks": ""
             }
            },
            "type": "scattergl"
           }
          ],
          "scattermapbox": [
           {
            "marker": {
             "colorbar": {
              "outlinewidth": 0,
              "ticks": ""
             }
            },
            "type": "scattermapbox"
           }
          ],
          "scatterpolar": [
           {
            "marker": {
             "colorbar": {
              "outlinewidth": 0,
              "ticks": ""
             }
            },
            "type": "scatterpolar"
           }
          ],
          "scatterpolargl": [
           {
            "marker": {
             "colorbar": {
              "outlinewidth": 0,
              "ticks": ""
             }
            },
            "type": "scatterpolargl"
           }
          ],
          "scatterternary": [
           {
            "marker": {
             "colorbar": {
              "outlinewidth": 0,
              "ticks": ""
             }
            },
            "type": "scatterternary"
           }
          ],
          "surface": [
           {
            "colorbar": {
             "outlinewidth": 0,
             "ticks": ""
            },
            "colorscale": [
             [
              0,
              "#0d0887"
             ],
             [
              0.1111111111111111,
              "#46039f"
             ],
             [
              0.2222222222222222,
              "#7201a8"
             ],
             [
              0.3333333333333333,
              "#9c179e"
             ],
             [
              0.4444444444444444,
              "#bd3786"
             ],
             [
              0.5555555555555556,
              "#d8576b"
             ],
             [
              0.6666666666666666,
              "#ed7953"
             ],
             [
              0.7777777777777778,
              "#fb9f3a"
             ],
             [
              0.8888888888888888,
              "#fdca26"
             ],
             [
              1,
              "#f0f921"
             ]
            ],
            "type": "surface"
           }
          ],
          "table": [
           {
            "cells": {
             "fill": {
              "color": "#EBF0F8"
             },
             "line": {
              "color": "white"
             }
            },
            "header": {
             "fill": {
              "color": "#C8D4E3"
             },
             "line": {
              "color": "white"
             }
            },
            "type": "table"
           }
          ]
         },
         "layout": {
          "annotationdefaults": {
           "arrowcolor": "#2a3f5f",
           "arrowhead": 0,
           "arrowwidth": 1
          },
          "coloraxis": {
           "colorbar": {
            "outlinewidth": 0,
            "ticks": ""
           }
          },
          "colorscale": {
           "diverging": [
            [
             0,
             "#8e0152"
            ],
            [
             0.1,
             "#c51b7d"
            ],
            [
             0.2,
             "#de77ae"
            ],
            [
             0.3,
             "#f1b6da"
            ],
            [
             0.4,
             "#fde0ef"
            ],
            [
             0.5,
             "#f7f7f7"
            ],
            [
             0.6,
             "#e6f5d0"
            ],
            [
             0.7,
             "#b8e186"
            ],
            [
             0.8,
             "#7fbc41"
            ],
            [
             0.9,
             "#4d9221"
            ],
            [
             1,
             "#276419"
            ]
           ],
           "sequential": [
            [
             0,
             "#0d0887"
            ],
            [
             0.1111111111111111,
             "#46039f"
            ],
            [
             0.2222222222222222,
             "#7201a8"
            ],
            [
             0.3333333333333333,
             "#9c179e"
            ],
            [
             0.4444444444444444,
             "#bd3786"
            ],
            [
             0.5555555555555556,
             "#d8576b"
            ],
            [
             0.6666666666666666,
             "#ed7953"
            ],
            [
             0.7777777777777778,
             "#fb9f3a"
            ],
            [
             0.8888888888888888,
             "#fdca26"
            ],
            [
             1,
             "#f0f921"
            ]
           ],
           "sequentialminus": [
            [
             0,
             "#0d0887"
            ],
            [
             0.1111111111111111,
             "#46039f"
            ],
            [
             0.2222222222222222,
             "#7201a8"
            ],
            [
             0.3333333333333333,
             "#9c179e"
            ],
            [
             0.4444444444444444,
             "#bd3786"
            ],
            [
             0.5555555555555556,
             "#d8576b"
            ],
            [
             0.6666666666666666,
             "#ed7953"
            ],
            [
             0.7777777777777778,
             "#fb9f3a"
            ],
            [
             0.8888888888888888,
             "#fdca26"
            ],
            [
             1,
             "#f0f921"
            ]
           ]
          },
          "colorway": [
           "#1f77b4",
           "#ff7f0e",
           "#2ca02c",
           "#dc3912",
           "#9467bd",
           "#8c564b",
           "#e377c2",
           "#7f7f7f",
           "#bcbd22",
           "#17becf"
          ],
          "font": {
           "color": "#2a3f5f"
          },
          "geo": {
           "bgcolor": "white",
           "lakecolor": "white",
           "landcolor": "#E5ECF6",
           "showlakes": true,
           "showland": true,
           "subunitcolor": "white"
          },
          "hoverlabel": {
           "align": "left"
          },
          "hovermode": "closest",
          "mapbox": {
           "style": "light"
          },
          "paper_bgcolor": "white",
          "plot_bgcolor": "#E5ECF6",
          "polar": {
           "angularaxis": {
            "gridcolor": "white",
            "linecolor": "white",
            "ticks": ""
           },
           "bgcolor": "#E5ECF6",
           "radialaxis": {
            "gridcolor": "white",
            "linecolor": "white",
            "ticks": ""
           }
          },
          "scene": {
           "xaxis": {
            "backgroundcolor": "#E5ECF6",
            "gridcolor": "white",
            "gridwidth": 2,
            "linecolor": "white",
            "showbackground": true,
            "ticks": "",
            "zerolinecolor": "white"
           },
           "yaxis": {
            "backgroundcolor": "#E5ECF6",
            "gridcolor": "white",
            "gridwidth": 2,
            "linecolor": "white",
            "showbackground": true,
            "ticks": "",
            "zerolinecolor": "white"
           },
           "zaxis": {
            "backgroundcolor": "#E5ECF6",
            "gridcolor": "white",
            "gridwidth": 2,
            "linecolor": "white",
            "showbackground": true,
            "ticks": "",
            "zerolinecolor": "white"
           }
          },
          "shapedefaults": {
           "line": {
            "color": "#2a3f5f"
           }
          },
          "ternary": {
           "aaxis": {
            "gridcolor": "white",
            "linecolor": "white",
            "ticks": ""
           },
           "baxis": {
            "gridcolor": "white",
            "linecolor": "white",
            "ticks": ""
           },
           "bgcolor": "#E5ECF6",
           "caxis": {
            "gridcolor": "white",
            "linecolor": "white",
            "ticks": ""
           }
          },
          "title": {
           "x": 0.05
          },
          "xaxis": {
           "automargin": true,
           "gridcolor": "white",
           "linecolor": "white",
           "ticks": "",
           "title": {
            "standoff": 15
           },
           "zerolinecolor": "white",
           "zerolinewidth": 2
          },
          "yaxis": {
           "automargin": true,
           "gridcolor": "white",
           "linecolor": "white",
           "ticks": "",
           "title": {
            "standoff": 15
           },
           "zerolinecolor": "white",
           "zerolinewidth": 2
          }
         }
        },
        "width": 673,
        "xaxis": {
         "title": {
          "text": "Sc_entry"
         }
        },
        "yaxis": {
         "title": {
          "text": "Sc_exit"
         }
        }
       }
      }
     },
     "metadata": {},
     "output_type": "display_data"
    }
   ],
   "source": [
    "master = pd.concat(master_pf).groupby([\"Sc_entry\", \"Sc_exit\"]).mean()\n",
    "fig = master.vbt.heatmap(\n",
    "        x_level=\"Sc_entry\",\n",
    "        y_level=\"Sc_exit\"\n",
    ")\n",
    "\n",
    "fig.show()"
   ]
  },
  {
   "cell_type": "code",
   "execution_count": 5,
   "metadata": {},
   "outputs": [
    {
     "name": "stderr",
     "output_type": "stream",
     "text": [
      "c:\\Users\\ChastLai\\anaconda3\\lib\\site-packages\\vectorbt\\generic\\stats_builder.py:396: UserWarning: Metric 'sharpe_ratio' requires frequency to be set\n",
      "  warnings.warn(warning_message)\n",
      "c:\\Users\\ChastLai\\anaconda3\\lib\\site-packages\\vectorbt\\generic\\stats_builder.py:396: UserWarning: Metric 'calmar_ratio' requires frequency to be set\n",
      "  warnings.warn(warning_message)\n",
      "c:\\Users\\ChastLai\\anaconda3\\lib\\site-packages\\vectorbt\\generic\\stats_builder.py:396: UserWarning: Metric 'omega_ratio' requires frequency to be set\n",
      "  warnings.warn(warning_message)\n",
      "c:\\Users\\ChastLai\\anaconda3\\lib\\site-packages\\vectorbt\\generic\\stats_builder.py:396: UserWarning: Metric 'sortino_ratio' requires frequency to be set\n",
      "  warnings.warn(warning_message)\n"
     ]
    },
    {
     "name": "stdout",
     "output_type": "stream",
     "text": [
      "Start                         2006-01-02 00:00:00\n",
      "End                           2010-12-31 00:00:00\n",
      "Period                                       1246\n",
      "Start Value                                 100.0\n",
      "End Value                               91.736734\n",
      "Total Return [%]                        -8.263266\n",
      "Benchmark Return [%]                    96.276706\n",
      "Max Gross Exposure [%]                  79.287739\n",
      "Total Fees Paid                               0.0\n",
      "Max Drawdown [%]                        31.701501\n",
      "Max Drawdown Duration                  631.760939\n",
      "Total Trades                            11.307561\n",
      "Total Closed Trades                     11.248516\n",
      "Total Open Trades                        0.059045\n",
      "Open Trade PnL                          -0.762628\n",
      "Win Rate [%]                            60.414129\n",
      "Best Trade [%]                           6.442951\n",
      "Worst Trade [%]                        -14.760875\n",
      "Avg Winning Trade [%]                    4.206344\n",
      "Avg Losing Trade [%]                    -8.228564\n",
      "Avg Winning Trade Duration              37.302166\n",
      "Avg Losing Trade Duration               57.844514\n",
      "Profit Factor                                 inf\n",
      "Expectancy                              -0.699709\n",
      "Name: agg_func_mean, dtype: object\n",
      "Comb_rsi_window  Comb_entry  Comb_exit  symbol\n",
      "10               20          20         2706      0.171904\n",
      "                                        8016      0.387764\n",
      "                                        4904     -0.147260\n",
      "                                        2882      0.085684\n",
      "                                        2316     -0.206994\n",
      "                                                    ...   \n",
      "32               35          35         4408     -0.129646\n",
      "                                        5376     -0.324925\n",
      "                                        5532     -0.846125\n",
      "                                        5810     -0.378211\n",
      "                                        5818      0.000000\n",
      "Name: total_return, Length: 45152, dtype: float64\n"
     ]
    },
    {
     "name": "stderr",
     "output_type": "stream",
     "text": [
      "C:\\Users\\ChastLai\\AppData\\Local\\Temp\\ipykernel_22664\\3441461525.py:41: UserWarning: Object has multiple columns. Aggregating using <function mean at 0x000001E5456141F0>. Pass column to select a single column/group.\n",
      "  print(pf.stats())\n"
     ]
    }
   ],
   "source": [
    "\n",
    "RSI = vbt.IndicatorFactory.from_talib('RSI')\n",
    "\n",
    "\n",
    "@njit\n",
    "def produce_signal(rsi, entry, exit):\n",
    "    trend = np.where((rsi > exit), -1, 0)\n",
    "    trend = np.where((rsi < entry) , 1, trend)\n",
    "    return trend\n",
    "\n",
    "def custom_indicator(close, rsi_window=14, entry = 30, exit = 70):\n",
    "    rsi =  RSI.run(close, rsi_window).real.to_numpy()\n",
    "    #rsi = vbt.RSI.run(close, window=rsi_window).rsi\n",
    "\n",
    "    return produce_signal(rsi, entry, exit)\n",
    "\n",
    "ind = vbt.IndicatorFactory(\n",
    "    class_name = \"Combination\",\n",
    "    short_name = \"Comb\",\n",
    "    input_names = [\"close\"],\n",
    "    param_names = [\"rsi_window\",\"entry\", \"exit\"],\n",
    "    output_names = [\"value\"],\n",
    ").from_apply_func(\n",
    "    custom_indicator,\n",
    "    rsi_window = 14,\n",
    "    entry=30,\n",
    "    exit=70,\n",
    ")\n",
    "\n",
    "\n",
    "res = ind.run(data, \n",
    "        rsi_window=np.arange(10, 33, step=22, dtype=int), \n",
    "        entry=np.arange(20, 40, step=5, dtype=int),\n",
    "        exit=np.arange(20, 40, step=5, dtype=int),\n",
    "        param_product=True)\n",
    "\n",
    "#print(res.value)\n",
    "\n",
    "entries = res.value == 1.0\n",
    "exits = res.value == -1.0\n",
    "\n",
    "pf = vbt.Portfolio.from_signals(data, entries, exits)\n",
    "print(pf.stats())\n",
    "print(pf.total_return())"
   ]
  },
  {
   "cell_type": "code",
   "execution_count": null,
   "metadata": {},
   "outputs": [],
   "source": []
  },
  {
   "cell_type": "code",
   "execution_count": 9,
   "metadata": {},
   "outputs": [
    {
     "name": "stdout",
     "output_type": "stream",
     "text": [
      "38.464342538561716\n",
      "(10, 20, 30, 20, '3021')\n"
     ]
    }
   ],
   "source": [
    "returns = pf.total_return()\n",
    "print(returns.max())\n",
    "print(returns.idxmax())"
   ]
  },
  {
   "cell_type": "code",
   "execution_count": 10,
   "metadata": {},
   "outputs": [
    {
     "data": {
      "application/vnd.plotly.v1+json": {
       "config": {
        "plotlyServerURL": "https://plot.ly"
       },
       "data": [
        {
         "colorscale": [
          [
           0,
           "#0d0887"
          ],
          [
           0.1111111111111111,
           "#46039f"
          ],
          [
           0.2222222222222222,
           "#7201a8"
          ],
          [
           0.3333333333333333,
           "#9c179e"
          ],
          [
           0.4444444444444444,
           "#bd3786"
          ],
          [
           0.5555555555555556,
           "#d8576b"
          ],
          [
           0.6666666666666666,
           "#ed7953"
          ],
          [
           0.7777777777777778,
           "#fb9f3a"
          ],
          [
           0.8888888888888888,
           "#fdca26"
          ],
          [
           1,
           "#f0f921"
          ]
         ],
         "hovertemplate": "Comb_rsi_window: %{x}<br>Comb_ma_window: %{y}<br>Comb_entry: %{z}<br>value: %{value}<extra></extra>",
         "opacity": 0.2,
         "surface": {
          "count": 15
         },
         "type": "volume",
         "uid": "81abd943-bb0a-4580-aec2-d8c5e782e18a",
         "value": [
          -0.046962935486815814,
          -0.08635412726223429,
          -0.060512292312425706,
          -0.11990906413283597,
          -0.07409193977849475,
          -0.14233408198128117,
          -0.06155148991633628,
          -0.1225819219024578,
          -0.0660346104433878,
          -0.13066476546204114,
          -0.02161296861162876,
          -0.08384056875203494,
          -0.020801428785278766,
          -0.08277735894269847,
          -0.020864643257573156,
          -0.08515771065956157,
          -0.019461837274157047,
          -0.08141201744992775,
          -0.018322205216233813,
          -0.08107513486771041
         ],
         "x": [
          10,
          10,
          10,
          10,
          10,
          10,
          10,
          10,
          10,
          10,
          32,
          32,
          32,
          32,
          32,
          32,
          32,
          32,
          32,
          32
         ],
         "y": [
          20,
          20,
          60,
          60,
          100,
          100,
          140,
          140,
          180,
          180,
          20,
          20,
          60,
          60,
          100,
          100,
          140,
          140,
          180,
          180
         ],
         "z": [
          20,
          30,
          20,
          30,
          20,
          30,
          20,
          30,
          20,
          30,
          20,
          30,
          20,
          30,
          20,
          30,
          20,
          30,
          20,
          30
         ]
        }
       ],
       "layout": {
        "height": 560,
        "legend": {
         "orientation": "h",
         "traceorder": "normal",
         "x": 1,
         "xanchor": "right",
         "y": 1.02,
         "yanchor": "bottom"
        },
        "margin": {
         "b": 30,
         "l": 30,
         "r": 30,
         "t": 30
        },
        "scene": {
         "xaxis": {
          "title": {
           "text": "Comb_rsi_window"
          }
         },
         "yaxis": {
          "title": {
           "text": "Comb_ma_window"
          }
         },
         "zaxis": {
          "title": {
           "text": "Comb_entry"
          }
         }
        },
        "template": {
         "data": {
          "bar": [
           {
            "error_x": {
             "color": "#2a3f5f"
            },
            "error_y": {
             "color": "#2a3f5f"
            },
            "marker": {
             "line": {
              "color": "#E5ECF6",
              "width": 0.5
             }
            },
            "type": "bar"
           }
          ],
          "barpolar": [
           {
            "marker": {
             "line": {
              "color": "#E5ECF6",
              "width": 0.5
             }
            },
            "type": "barpolar"
           }
          ],
          "carpet": [
           {
            "aaxis": {
             "endlinecolor": "#2a3f5f",
             "gridcolor": "white",
             "linecolor": "white",
             "minorgridcolor": "white",
             "startlinecolor": "#2a3f5f"
            },
            "baxis": {
             "endlinecolor": "#2a3f5f",
             "gridcolor": "white",
             "linecolor": "white",
             "minorgridcolor": "white",
             "startlinecolor": "#2a3f5f"
            },
            "type": "carpet"
           }
          ],
          "choropleth": [
           {
            "colorbar": {
             "outlinewidth": 0,
             "ticks": ""
            },
            "type": "choropleth"
           }
          ],
          "contour": [
           {
            "colorbar": {
             "outlinewidth": 0,
             "ticks": ""
            },
            "colorscale": [
             [
              0,
              "#0d0887"
             ],
             [
              0.1111111111111111,
              "#46039f"
             ],
             [
              0.2222222222222222,
              "#7201a8"
             ],
             [
              0.3333333333333333,
              "#9c179e"
             ],
             [
              0.4444444444444444,
              "#bd3786"
             ],
             [
              0.5555555555555556,
              "#d8576b"
             ],
             [
              0.6666666666666666,
              "#ed7953"
             ],
             [
              0.7777777777777778,
              "#fb9f3a"
             ],
             [
              0.8888888888888888,
              "#fdca26"
             ],
             [
              1,
              "#f0f921"
             ]
            ],
            "type": "contour"
           }
          ],
          "contourcarpet": [
           {
            "colorbar": {
             "outlinewidth": 0,
             "ticks": ""
            },
            "type": "contourcarpet"
           }
          ],
          "heatmap": [
           {
            "colorbar": {
             "outlinewidth": 0,
             "ticks": ""
            },
            "colorscale": [
             [
              0,
              "#0d0887"
             ],
             [
              0.1111111111111111,
              "#46039f"
             ],
             [
              0.2222222222222222,
              "#7201a8"
             ],
             [
              0.3333333333333333,
              "#9c179e"
             ],
             [
              0.4444444444444444,
              "#bd3786"
             ],
             [
              0.5555555555555556,
              "#d8576b"
             ],
             [
              0.6666666666666666,
              "#ed7953"
             ],
             [
              0.7777777777777778,
              "#fb9f3a"
             ],
             [
              0.8888888888888888,
              "#fdca26"
             ],
             [
              1,
              "#f0f921"
             ]
            ],
            "type": "heatmap"
           }
          ],
          "heatmapgl": [
           {
            "colorbar": {
             "outlinewidth": 0,
             "ticks": ""
            },
            "colorscale": [
             [
              0,
              "#0d0887"
             ],
             [
              0.1111111111111111,
              "#46039f"
             ],
             [
              0.2222222222222222,
              "#7201a8"
             ],
             [
              0.3333333333333333,
              "#9c179e"
             ],
             [
              0.4444444444444444,
              "#bd3786"
             ],
             [
              0.5555555555555556,
              "#d8576b"
             ],
             [
              0.6666666666666666,
              "#ed7953"
             ],
             [
              0.7777777777777778,
              "#fb9f3a"
             ],
             [
              0.8888888888888888,
              "#fdca26"
             ],
             [
              1,
              "#f0f921"
             ]
            ],
            "type": "heatmapgl"
           }
          ],
          "histogram": [
           {
            "marker": {
             "colorbar": {
              "outlinewidth": 0,
              "ticks": ""
             }
            },
            "type": "histogram"
           }
          ],
          "histogram2d": [
           {
            "colorbar": {
             "outlinewidth": 0,
             "ticks": ""
            },
            "colorscale": [
             [
              0,
              "#0d0887"
             ],
             [
              0.1111111111111111,
              "#46039f"
             ],
             [
              0.2222222222222222,
              "#7201a8"
             ],
             [
              0.3333333333333333,
              "#9c179e"
             ],
             [
              0.4444444444444444,
              "#bd3786"
             ],
             [
              0.5555555555555556,
              "#d8576b"
             ],
             [
              0.6666666666666666,
              "#ed7953"
             ],
             [
              0.7777777777777778,
              "#fb9f3a"
             ],
             [
              0.8888888888888888,
              "#fdca26"
             ],
             [
              1,
              "#f0f921"
             ]
            ],
            "type": "histogram2d"
           }
          ],
          "histogram2dcontour": [
           {
            "colorbar": {
             "outlinewidth": 0,
             "ticks": ""
            },
            "colorscale": [
             [
              0,
              "#0d0887"
             ],
             [
              0.1111111111111111,
              "#46039f"
             ],
             [
              0.2222222222222222,
              "#7201a8"
             ],
             [
              0.3333333333333333,
              "#9c179e"
             ],
             [
              0.4444444444444444,
              "#bd3786"
             ],
             [
              0.5555555555555556,
              "#d8576b"
             ],
             [
              0.6666666666666666,
              "#ed7953"
             ],
             [
              0.7777777777777778,
              "#fb9f3a"
             ],
             [
              0.8888888888888888,
              "#fdca26"
             ],
             [
              1,
              "#f0f921"
             ]
            ],
            "type": "histogram2dcontour"
           }
          ],
          "mesh3d": [
           {
            "colorbar": {
             "outlinewidth": 0,
             "ticks": ""
            },
            "type": "mesh3d"
           }
          ],
          "parcoords": [
           {
            "line": {
             "colorbar": {
              "outlinewidth": 0,
              "ticks": ""
             }
            },
            "type": "parcoords"
           }
          ],
          "pie": [
           {
            "automargin": true,
            "type": "pie"
           }
          ],
          "scatter": [
           {
            "marker": {
             "colorbar": {
              "outlinewidth": 0,
              "ticks": ""
             }
            },
            "type": "scatter"
           }
          ],
          "scatter3d": [
           {
            "line": {
             "colorbar": {
              "outlinewidth": 0,
              "ticks": ""
             }
            },
            "marker": {
             "colorbar": {
              "outlinewidth": 0,
              "ticks": ""
             }
            },
            "type": "scatter3d"
           }
          ],
          "scattercarpet": [
           {
            "marker": {
             "colorbar": {
              "outlinewidth": 0,
              "ticks": ""
             }
            },
            "type": "scattercarpet"
           }
          ],
          "scattergeo": [
           {
            "marker": {
             "colorbar": {
              "outlinewidth": 0,
              "ticks": ""
             }
            },
            "type": "scattergeo"
           }
          ],
          "scattergl": [
           {
            "marker": {
             "colorbar": {
              "outlinewidth": 0,
              "ticks": ""
             }
            },
            "type": "scattergl"
           }
          ],
          "scattermapbox": [
           {
            "marker": {
             "colorbar": {
              "outlinewidth": 0,
              "ticks": ""
             }
            },
            "type": "scattermapbox"
           }
          ],
          "scatterpolar": [
           {
            "marker": {
             "colorbar": {
              "outlinewidth": 0,
              "ticks": ""
             }
            },
            "type": "scatterpolar"
           }
          ],
          "scatterpolargl": [
           {
            "marker": {
             "colorbar": {
              "outlinewidth": 0,
              "ticks": ""
             }
            },
            "type": "scatterpolargl"
           }
          ],
          "scatterternary": [
           {
            "marker": {
             "colorbar": {
              "outlinewidth": 0,
              "ticks": ""
             }
            },
            "type": "scatterternary"
           }
          ],
          "surface": [
           {
            "colorbar": {
             "outlinewidth": 0,
             "ticks": ""
            },
            "colorscale": [
             [
              0,
              "#0d0887"
             ],
             [
              0.1111111111111111,
              "#46039f"
             ],
             [
              0.2222222222222222,
              "#7201a8"
             ],
             [
              0.3333333333333333,
              "#9c179e"
             ],
             [
              0.4444444444444444,
              "#bd3786"
             ],
             [
              0.5555555555555556,
              "#d8576b"
             ],
             [
              0.6666666666666666,
              "#ed7953"
             ],
             [
              0.7777777777777778,
              "#fb9f3a"
             ],
             [
              0.8888888888888888,
              "#fdca26"
             ],
             [
              1,
              "#f0f921"
             ]
            ],
            "type": "surface"
           }
          ],
          "table": [
           {
            "cells": {
             "fill": {
              "color": "#EBF0F8"
             },
             "line": {
              "color": "white"
             }
            },
            "header": {
             "fill": {
              "color": "#C8D4E3"
             },
             "line": {
              "color": "white"
             }
            },
            "type": "table"
           }
          ]
         },
         "layout": {
          "annotationdefaults": {
           "arrowcolor": "#2a3f5f",
           "arrowhead": 0,
           "arrowwidth": 1
          },
          "coloraxis": {
           "colorbar": {
            "outlinewidth": 0,
            "ticks": ""
           }
          },
          "colorscale": {
           "diverging": [
            [
             0,
             "#8e0152"
            ],
            [
             0.1,
             "#c51b7d"
            ],
            [
             0.2,
             "#de77ae"
            ],
            [
             0.3,
             "#f1b6da"
            ],
            [
             0.4,
             "#fde0ef"
            ],
            [
             0.5,
             "#f7f7f7"
            ],
            [
             0.6,
             "#e6f5d0"
            ],
            [
             0.7,
             "#b8e186"
            ],
            [
             0.8,
             "#7fbc41"
            ],
            [
             0.9,
             "#4d9221"
            ],
            [
             1,
             "#276419"
            ]
           ],
           "sequential": [
            [
             0,
             "#0d0887"
            ],
            [
             0.1111111111111111,
             "#46039f"
            ],
            [
             0.2222222222222222,
             "#7201a8"
            ],
            [
             0.3333333333333333,
             "#9c179e"
            ],
            [
             0.4444444444444444,
             "#bd3786"
            ],
            [
             0.5555555555555556,
             "#d8576b"
            ],
            [
             0.6666666666666666,
             "#ed7953"
            ],
            [
             0.7777777777777778,
             "#fb9f3a"
            ],
            [
             0.8888888888888888,
             "#fdca26"
            ],
            [
             1,
             "#f0f921"
            ]
           ],
           "sequentialminus": [
            [
             0,
             "#0d0887"
            ],
            [
             0.1111111111111111,
             "#46039f"
            ],
            [
             0.2222222222222222,
             "#7201a8"
            ],
            [
             0.3333333333333333,
             "#9c179e"
            ],
            [
             0.4444444444444444,
             "#bd3786"
            ],
            [
             0.5555555555555556,
             "#d8576b"
            ],
            [
             0.6666666666666666,
             "#ed7953"
            ],
            [
             0.7777777777777778,
             "#fb9f3a"
            ],
            [
             0.8888888888888888,
             "#fdca26"
            ],
            [
             1,
             "#f0f921"
            ]
           ]
          },
          "colorway": [
           "#1f77b4",
           "#ff7f0e",
           "#2ca02c",
           "#dc3912",
           "#9467bd",
           "#8c564b",
           "#e377c2",
           "#7f7f7f",
           "#bcbd22",
           "#17becf"
          ],
          "font": {
           "color": "#2a3f5f"
          },
          "geo": {
           "bgcolor": "white",
           "lakecolor": "white",
           "landcolor": "#E5ECF6",
           "showlakes": true,
           "showland": true,
           "subunitcolor": "white"
          },
          "hoverlabel": {
           "align": "left"
          },
          "hovermode": "closest",
          "mapbox": {
           "style": "light"
          },
          "paper_bgcolor": "white",
          "plot_bgcolor": "#E5ECF6",
          "polar": {
           "angularaxis": {
            "gridcolor": "white",
            "linecolor": "white",
            "ticks": ""
           },
           "bgcolor": "#E5ECF6",
           "radialaxis": {
            "gridcolor": "white",
            "linecolor": "white",
            "ticks": ""
           }
          },
          "scene": {
           "xaxis": {
            "backgroundcolor": "#E5ECF6",
            "gridcolor": "white",
            "gridwidth": 2,
            "linecolor": "white",
            "showbackground": true,
            "ticks": "",
            "zerolinecolor": "white"
           },
           "yaxis": {
            "backgroundcolor": "#E5ECF6",
            "gridcolor": "white",
            "gridwidth": 2,
            "linecolor": "white",
            "showbackground": true,
            "ticks": "",
            "zerolinecolor": "white"
           },
           "zaxis": {
            "backgroundcolor": "#E5ECF6",
            "gridcolor": "white",
            "gridwidth": 2,
            "linecolor": "white",
            "showbackground": true,
            "ticks": "",
            "zerolinecolor": "white"
           }
          },
          "shapedefaults": {
           "line": {
            "color": "#2a3f5f"
           }
          },
          "ternary": {
           "aaxis": {
            "gridcolor": "white",
            "linecolor": "white",
            "ticks": ""
           },
           "baxis": {
            "gridcolor": "white",
            "linecolor": "white",
            "ticks": ""
           },
           "bgcolor": "#E5ECF6",
           "caxis": {
            "gridcolor": "white",
            "linecolor": "white",
            "ticks": ""
           }
          },
          "title": {
           "x": 0.05
          },
          "xaxis": {
           "automargin": true,
           "gridcolor": "white",
           "linecolor": "white",
           "ticks": "",
           "title": {
            "standoff": 15
           },
           "zerolinecolor": "white",
           "zerolinewidth": 2
          },
          "yaxis": {
           "automargin": true,
           "gridcolor": "white",
           "linecolor": "white",
           "ticks": "",
           "title": {
            "standoff": 15
           },
           "zerolinecolor": "white",
           "zerolinewidth": 2
          }
         }
        },
        "width": 800
       }
      }
     },
     "metadata": {},
     "output_type": "display_data"
    }
   ],
   "source": [
    "#returns = returns[ returns.index.isin([\"2330\"], level=\"symbol\")]\n",
    "returns = returns.groupby(level=[\"Comb_rsi_window\", \"Comb_ma_window\", \"Comb_entry\"]).mean()\n",
    "vbt.settings['plotting']['layout']['width'] = 800\n",
    "vbt.settings['plotting']['layout']['height'] = 400\n",
    "fig = returns.vbt.volume(\n",
    "    x_level = \"Comb_rsi_window\",\n",
    "    y_level = \"Comb_ma_window\",\n",
    "    z_level = \"Comb_entry\",\n",
    "    #slider_level = \"symbol\",\n",
    ")\n",
    "fig.show()"
   ]
  },
  {
   "cell_type": "code",
   "execution_count": 21,
   "metadata": {},
   "outputs": [
    {
     "data": {
      "text/plain": [
       "Comb_rsi_window  Comb_ma_window\n",
       "10               20               -0.151016\n",
       "                 30               -0.165269\n",
       "                 40               -0.156064\n",
       "                 50               -0.162152\n",
       "                 60               -0.189684\n",
       "                 70               -0.195346\n",
       "                 80               -0.203998\n",
       "                 90               -0.202770\n",
       "                 100              -0.199646\n",
       "                 110              -0.191384\n",
       "                 120              -0.193381\n",
       "                 130              -0.196564\n",
       "                 140              -0.207516\n",
       "                 150              -0.214831\n",
       "                 160              -0.214053\n",
       "                 170              -0.211327\n",
       "                 180              -0.224752\n",
       "                 190              -0.223956\n",
       "20               20               -0.051507\n",
       "                 30               -0.053068\n",
       "                 40               -0.056568\n",
       "                 50               -0.068097\n",
       "                 60               -0.088949\n",
       "                 70               -0.094369\n",
       "                 80               -0.104253\n",
       "                 90               -0.114222\n",
       "                 100              -0.114270\n",
       "                 110              -0.119374\n",
       "                 120              -0.138623\n",
       "                 130              -0.149813\n",
       "                 140              -0.162174\n",
       "                 150              -0.170034\n",
       "                 160              -0.176650\n",
       "                 170              -0.181724\n",
       "                 180              -0.205107\n",
       "                 190              -0.212722\n",
       "30               20                0.001750\n",
       "                 30                0.006165\n",
       "                 40                0.004048\n",
       "                 50               -0.001431\n",
       "                 60               -0.024299\n",
       "                 70               -0.031765\n",
       "                 80               -0.037264\n",
       "                 90               -0.039664\n",
       "                 100              -0.044267\n",
       "                 110              -0.050284\n",
       "                 120              -0.073151\n",
       "                 130              -0.081396\n",
       "                 140              -0.089426\n",
       "                 150              -0.093552\n",
       "                 160              -0.099435\n",
       "                 170              -0.099705\n",
       "                 180              -0.123205\n",
       "                 190              -0.133478\n",
       "Name: total_return, dtype: float64"
      ]
     },
     "execution_count": 21,
     "metadata": {},
     "output_type": "execute_result"
    }
   ],
   "source": []
  },
  {
   "cell_type": "markdown",
   "metadata": {},
   "source": []
  }
 ],
 "metadata": {
  "kernelspec": {
   "display_name": "Python 3.9.12 ('base')",
   "language": "python",
   "name": "python3"
  },
  "language_info": {
   "codemirror_mode": {
    "name": "ipython",
    "version": 3
   },
   "file_extension": ".py",
   "mimetype": "text/x-python",
   "name": "python",
   "nbconvert_exporter": "python",
   "pygments_lexer": "ipython3",
   "version": "3.9.12"
  },
  "orig_nbformat": 4,
  "vscode": {
   "interpreter": {
    "hash": "733e3c2263f7036f7a50028cdb47f26c0bc8babbbcf0f10350df5ed5d46e1ebf"
   }
  }
 },
 "nbformat": 4,
 "nbformat_minor": 2
}
